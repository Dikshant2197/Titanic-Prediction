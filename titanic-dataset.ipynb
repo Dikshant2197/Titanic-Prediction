{
 "cells": [
  {
   "cell_type": "code",
   "execution_count": 1,
   "id": "7f1a4f25",
   "metadata": {
    "_cell_guid": "b1076dfc-b9ad-4769-8c92-a6c4dae69d19",
    "_uuid": "8f2839f25d086af736a60e9eeb907d3b93b6e0e5",
    "execution": {
     "iopub.execute_input": "2024-01-15T10:31:10.272656Z",
     "iopub.status.busy": "2024-01-15T10:31:10.272143Z",
     "iopub.status.idle": "2024-01-15T10:31:10.289120Z",
     "shell.execute_reply": "2024-01-15T10:31:10.287918Z"
    },
    "papermill": {
     "duration": 0.053317,
     "end_time": "2024-01-15T10:31:10.292490",
     "exception": false,
     "start_time": "2024-01-15T10:31:10.239173",
     "status": "completed"
    },
    "tags": []
   },
   "outputs": [],
   "source": [
    "# This Python 3 environment comes with many helpful analytics libraries installed\n",
    "# It is defined by the kaggle/python Docker image: https://github.com/kaggle/docker-python\n",
    "# For example, here's several helpful packages to load\n",
    "\n",
    "import numpy as np # linear algebra\n",
    "import pandas as pd # data processing, CSV file I/O (e.g. pd.read_csv)\n",
    "\n",
    "# Input data files are available in the read-only \"../input/\" directory\n",
    "# For example, running this (by clicking run or pressing Shift+Enter) will list all files under the input directory\n",
    "\n",
    "import os\n",
    "for dirname, _, filenames in os.walk('/kaggle/input'):\n",
    "    for filename in filenames:\n",
    "        print(os.path.join(dirname, filename))\n",
    "\n",
    "# You can write up to 20GB to the current directory (/kaggle/working/) that gets preserved as output when you create a version using \"Save & Run All\" \n",
    "# You can also write temporary files to /kaggle/temp/, but they won't be saved outside of the current session"
   ]
  },
  {
   "cell_type": "markdown",
   "id": "ef1d3a69",
   "metadata": {
    "papermill": {
     "duration": 0.030166,
     "end_time": "2024-01-15T10:31:10.354549",
     "exception": false,
     "start_time": "2024-01-15T10:31:10.324383",
     "status": "completed"
    },
    "tags": []
   },
   "source": [
    "# Import Required Liberaries"
   ]
  },
  {
   "cell_type": "code",
   "execution_count": 2,
   "id": "d92deb13",
   "metadata": {
    "execution": {
     "iopub.execute_input": "2024-01-15T10:31:10.419499Z",
     "iopub.status.busy": "2024-01-15T10:31:10.418972Z",
     "iopub.status.idle": "2024-01-15T10:31:13.119019Z",
     "shell.execute_reply": "2024-01-15T10:31:13.117443Z"
    },
    "papermill": {
     "duration": 2.736514,
     "end_time": "2024-01-15T10:31:13.122926",
     "exception": false,
     "start_time": "2024-01-15T10:31:10.386412",
     "status": "completed"
    },
    "tags": []
   },
   "outputs": [],
   "source": [
    "# Libraries for Maths and Analysis\n",
    "import pandas as pd\n",
    "import numpy as np\n",
    "\n",
    "#Libraries for Data Visualization\n",
    "import matplotlib.pyplot as plt\n",
    "import seaborn as sns\n",
    "\n",
    "# Fixing Warnings\n",
    "import warnings\n",
    "warnings.filterwarnings(\"ignore\")\n",
    "\n",
    "# importing sklearn liberaries\n",
    "from sklearn.preprocessing import LabelEncoder, StandardScaler, MinMaxScaler, OneHotEncoder\n",
    "from sklearn.model_selection import train_test_split\n",
    "from sklearn.metrics import accuracy_score, classification_report\n",
    "from sklearn.tree import DecisionTreeClassifier\n",
    "from sklearn.linear_model import LogisticRegression\n",
    "from sklearn.svm import SVC\n",
    "import xgboost as xgb"
   ]
  },
  {
   "cell_type": "markdown",
   "id": "16fbdab9",
   "metadata": {
    "papermill": {
     "duration": 0.030201,
     "end_time": "2024-01-15T10:31:13.183629",
     "exception": false,
     "start_time": "2024-01-15T10:31:13.153428",
     "status": "completed"
    },
    "tags": []
   },
   "source": [
    "# Read the Data"
   ]
  },
  {
   "cell_type": "code",
   "execution_count": 3,
   "id": "0930efa4",
   "metadata": {
    "execution": {
     "iopub.execute_input": "2024-01-15T10:31:13.247757Z",
     "iopub.status.busy": "2024-01-15T10:31:13.247291Z",
     "iopub.status.idle": "2024-01-15T10:31:13.290167Z",
     "shell.execute_reply": "2024-01-15T10:31:13.288390Z"
    },
    "papermill": {
     "duration": 0.078749,
     "end_time": "2024-01-15T10:31:13.293399",
     "exception": false,
     "start_time": "2024-01-15T10:31:13.214650",
     "status": "completed"
    },
    "tags": []
   },
   "outputs": [],
   "source": [
    "df_train = pd.read_csv(\"Titanic_train.csv\")\n",
    "df_test = pd.read_csv(\"Titanic_test.csv\")"
   ]
  },
  {
   "cell_type": "code",
   "execution_count": 4,
   "id": "272d6ccd",
   "metadata": {
    "execution": {
     "iopub.execute_input": "2024-01-15T10:31:13.358150Z",
     "iopub.status.busy": "2024-01-15T10:31:13.357642Z",
     "iopub.status.idle": "2024-01-15T10:31:13.388941Z",
     "shell.execute_reply": "2024-01-15T10:31:13.388005Z"
    },
    "papermill": {
     "duration": 0.065414,
     "end_time": "2024-01-15T10:31:13.391576",
     "exception": false,
     "start_time": "2024-01-15T10:31:13.326162",
     "status": "completed"
    },
    "tags": []
   },
   "outputs": [
    {
     "data": {
      "text/html": [
       "<div>\n",
       "<style scoped>\n",
       "    .dataframe tbody tr th:only-of-type {\n",
       "        vertical-align: middle;\n",
       "    }\n",
       "\n",
       "    .dataframe tbody tr th {\n",
       "        vertical-align: top;\n",
       "    }\n",
       "\n",
       "    .dataframe thead th {\n",
       "        text-align: right;\n",
       "    }\n",
       "</style>\n",
       "<table border=\"1\" class=\"dataframe\">\n",
       "  <thead>\n",
       "    <tr style=\"text-align: right;\">\n",
       "      <th></th>\n",
       "      <th>PassengerId</th>\n",
       "      <th>Survived</th>\n",
       "      <th>Pclass</th>\n",
       "      <th>Name</th>\n",
       "      <th>Sex</th>\n",
       "      <th>Age</th>\n",
       "      <th>SibSp</th>\n",
       "      <th>Parch</th>\n",
       "      <th>Ticket</th>\n",
       "      <th>Fare</th>\n",
       "      <th>Cabin</th>\n",
       "      <th>Embarked</th>\n",
       "    </tr>\n",
       "  </thead>\n",
       "  <tbody>\n",
       "    <tr>\n",
       "      <th>0</th>\n",
       "      <td>1</td>\n",
       "      <td>0</td>\n",
       "      <td>3</td>\n",
       "      <td>Braund, Mr. Owen Harris</td>\n",
       "      <td>male</td>\n",
       "      <td>22.0</td>\n",
       "      <td>1</td>\n",
       "      <td>0</td>\n",
       "      <td>A/5 21171</td>\n",
       "      <td>7.2500</td>\n",
       "      <td>NaN</td>\n",
       "      <td>S</td>\n",
       "    </tr>\n",
       "    <tr>\n",
       "      <th>1</th>\n",
       "      <td>2</td>\n",
       "      <td>1</td>\n",
       "      <td>1</td>\n",
       "      <td>Cumings, Mrs. John Bradley (Florence Briggs Th...</td>\n",
       "      <td>female</td>\n",
       "      <td>38.0</td>\n",
       "      <td>1</td>\n",
       "      <td>0</td>\n",
       "      <td>PC 17599</td>\n",
       "      <td>71.2833</td>\n",
       "      <td>C85</td>\n",
       "      <td>C</td>\n",
       "    </tr>\n",
       "    <tr>\n",
       "      <th>2</th>\n",
       "      <td>3</td>\n",
       "      <td>1</td>\n",
       "      <td>3</td>\n",
       "      <td>Heikkinen, Miss. Laina</td>\n",
       "      <td>female</td>\n",
       "      <td>26.0</td>\n",
       "      <td>0</td>\n",
       "      <td>0</td>\n",
       "      <td>STON/O2. 3101282</td>\n",
       "      <td>7.9250</td>\n",
       "      <td>NaN</td>\n",
       "      <td>S</td>\n",
       "    </tr>\n",
       "    <tr>\n",
       "      <th>3</th>\n",
       "      <td>4</td>\n",
       "      <td>1</td>\n",
       "      <td>1</td>\n",
       "      <td>Futrelle, Mrs. Jacques Heath (Lily May Peel)</td>\n",
       "      <td>female</td>\n",
       "      <td>35.0</td>\n",
       "      <td>1</td>\n",
       "      <td>0</td>\n",
       "      <td>113803</td>\n",
       "      <td>53.1000</td>\n",
       "      <td>C123</td>\n",
       "      <td>S</td>\n",
       "    </tr>\n",
       "    <tr>\n",
       "      <th>4</th>\n",
       "      <td>5</td>\n",
       "      <td>0</td>\n",
       "      <td>3</td>\n",
       "      <td>Allen, Mr. William Henry</td>\n",
       "      <td>male</td>\n",
       "      <td>35.0</td>\n",
       "      <td>0</td>\n",
       "      <td>0</td>\n",
       "      <td>373450</td>\n",
       "      <td>8.0500</td>\n",
       "      <td>NaN</td>\n",
       "      <td>S</td>\n",
       "    </tr>\n",
       "  </tbody>\n",
       "</table>\n",
       "</div>"
      ],
      "text/plain": [
       "   PassengerId  Survived  Pclass  \\\n",
       "0            1         0       3   \n",
       "1            2         1       1   \n",
       "2            3         1       3   \n",
       "3            4         1       1   \n",
       "4            5         0       3   \n",
       "\n",
       "                                                Name     Sex   Age  SibSp  \\\n",
       "0                            Braund, Mr. Owen Harris    male  22.0      1   \n",
       "1  Cumings, Mrs. John Bradley (Florence Briggs Th...  female  38.0      1   \n",
       "2                             Heikkinen, Miss. Laina  female  26.0      0   \n",
       "3       Futrelle, Mrs. Jacques Heath (Lily May Peel)  female  35.0      1   \n",
       "4                           Allen, Mr. William Henry    male  35.0      0   \n",
       "\n",
       "   Parch            Ticket     Fare Cabin Embarked  \n",
       "0      0         A/5 21171   7.2500   NaN        S  \n",
       "1      0          PC 17599  71.2833   C85        C  \n",
       "2      0  STON/O2. 3101282   7.9250   NaN        S  \n",
       "3      0            113803  53.1000  C123        S  \n",
       "4      0            373450   8.0500   NaN        S  "
      ]
     },
     "execution_count": 4,
     "metadata": {},
     "output_type": "execute_result"
    }
   ],
   "source": [
    "df_train.head()"
   ]
  },
  {
   "cell_type": "code",
   "execution_count": 5,
   "id": "f25a3b7f",
   "metadata": {
    "execution": {
     "iopub.execute_input": "2024-01-15T10:31:13.455397Z",
     "iopub.status.busy": "2024-01-15T10:31:13.454914Z",
     "iopub.status.idle": "2024-01-15T10:31:13.473292Z",
     "shell.execute_reply": "2024-01-15T10:31:13.471819Z"
    },
    "papermill": {
     "duration": 0.053247,
     "end_time": "2024-01-15T10:31:13.475873",
     "exception": false,
     "start_time": "2024-01-15T10:31:13.422626",
     "status": "completed"
    },
    "tags": []
   },
   "outputs": [
    {
     "data": {
      "text/html": [
       "<div>\n",
       "<style scoped>\n",
       "    .dataframe tbody tr th:only-of-type {\n",
       "        vertical-align: middle;\n",
       "    }\n",
       "\n",
       "    .dataframe tbody tr th {\n",
       "        vertical-align: top;\n",
       "    }\n",
       "\n",
       "    .dataframe thead th {\n",
       "        text-align: right;\n",
       "    }\n",
       "</style>\n",
       "<table border=\"1\" class=\"dataframe\">\n",
       "  <thead>\n",
       "    <tr style=\"text-align: right;\">\n",
       "      <th></th>\n",
       "      <th>PassengerId</th>\n",
       "      <th>Pclass</th>\n",
       "      <th>Name</th>\n",
       "      <th>Sex</th>\n",
       "      <th>Age</th>\n",
       "      <th>SibSp</th>\n",
       "      <th>Parch</th>\n",
       "      <th>Ticket</th>\n",
       "      <th>Fare</th>\n",
       "      <th>Cabin</th>\n",
       "      <th>Embarked</th>\n",
       "    </tr>\n",
       "  </thead>\n",
       "  <tbody>\n",
       "    <tr>\n",
       "      <th>0</th>\n",
       "      <td>892</td>\n",
       "      <td>3</td>\n",
       "      <td>Kelly, Mr. James</td>\n",
       "      <td>male</td>\n",
       "      <td>34.5</td>\n",
       "      <td>0</td>\n",
       "      <td>0</td>\n",
       "      <td>330911</td>\n",
       "      <td>7.8292</td>\n",
       "      <td>NaN</td>\n",
       "      <td>Q</td>\n",
       "    </tr>\n",
       "    <tr>\n",
       "      <th>1</th>\n",
       "      <td>893</td>\n",
       "      <td>3</td>\n",
       "      <td>Wilkes, Mrs. James (Ellen Needs)</td>\n",
       "      <td>female</td>\n",
       "      <td>47.0</td>\n",
       "      <td>1</td>\n",
       "      <td>0</td>\n",
       "      <td>363272</td>\n",
       "      <td>7.0000</td>\n",
       "      <td>NaN</td>\n",
       "      <td>S</td>\n",
       "    </tr>\n",
       "    <tr>\n",
       "      <th>2</th>\n",
       "      <td>894</td>\n",
       "      <td>2</td>\n",
       "      <td>Myles, Mr. Thomas Francis</td>\n",
       "      <td>male</td>\n",
       "      <td>62.0</td>\n",
       "      <td>0</td>\n",
       "      <td>0</td>\n",
       "      <td>240276</td>\n",
       "      <td>9.6875</td>\n",
       "      <td>NaN</td>\n",
       "      <td>Q</td>\n",
       "    </tr>\n",
       "    <tr>\n",
       "      <th>3</th>\n",
       "      <td>895</td>\n",
       "      <td>3</td>\n",
       "      <td>Wirz, Mr. Albert</td>\n",
       "      <td>male</td>\n",
       "      <td>27.0</td>\n",
       "      <td>0</td>\n",
       "      <td>0</td>\n",
       "      <td>315154</td>\n",
       "      <td>8.6625</td>\n",
       "      <td>NaN</td>\n",
       "      <td>S</td>\n",
       "    </tr>\n",
       "    <tr>\n",
       "      <th>4</th>\n",
       "      <td>896</td>\n",
       "      <td>3</td>\n",
       "      <td>Hirvonen, Mrs. Alexander (Helga E Lindqvist)</td>\n",
       "      <td>female</td>\n",
       "      <td>22.0</td>\n",
       "      <td>1</td>\n",
       "      <td>1</td>\n",
       "      <td>3101298</td>\n",
       "      <td>12.2875</td>\n",
       "      <td>NaN</td>\n",
       "      <td>S</td>\n",
       "    </tr>\n",
       "  </tbody>\n",
       "</table>\n",
       "</div>"
      ],
      "text/plain": [
       "   PassengerId  Pclass                                          Name     Sex  \\\n",
       "0          892       3                              Kelly, Mr. James    male   \n",
       "1          893       3              Wilkes, Mrs. James (Ellen Needs)  female   \n",
       "2          894       2                     Myles, Mr. Thomas Francis    male   \n",
       "3          895       3                              Wirz, Mr. Albert    male   \n",
       "4          896       3  Hirvonen, Mrs. Alexander (Helga E Lindqvist)  female   \n",
       "\n",
       "    Age  SibSp  Parch   Ticket     Fare Cabin Embarked  \n",
       "0  34.5      0      0   330911   7.8292   NaN        Q  \n",
       "1  47.0      1      0   363272   7.0000   NaN        S  \n",
       "2  62.0      0      0   240276   9.6875   NaN        Q  \n",
       "3  27.0      0      0   315154   8.6625   NaN        S  \n",
       "4  22.0      1      1  3101298  12.2875   NaN        S  "
      ]
     },
     "execution_count": 5,
     "metadata": {},
     "output_type": "execute_result"
    }
   ],
   "source": [
    "df_test.head()"
   ]
  },
  {
   "cell_type": "markdown",
   "id": "c349384b",
   "metadata": {
    "papermill": {
     "duration": 0.030392,
     "end_time": "2024-01-15T10:31:13.537312",
     "exception": false,
     "start_time": "2024-01-15T10:31:13.506920",
     "status": "completed"
    },
    "tags": []
   },
   "source": [
    "# Data Understanding\n",
    "\n",
    "**Survived :**        1 means Survived   ,  0 means Not Survived.\n",
    "\n",
    "**Pclass   :**        1 means upper class , 2 means middle class , 3 means lower class.\n",
    "\n",
    "**Name  , Sex  an Age :** they are self explantory.\n",
    "\n",
    "**SibSp    :**  is the total number of passengers siblings and spouse.\n",
    "\n",
    "**Parch    :** is the total number of passengers , parents and childrens.\n",
    "\n",
    "**Ticket, Fare, Cabin :** they are self explantory.\n",
    "\n",
    "**Embarked :** is port of embarktion , from which location the passenger boarded the ship."
   ]
  },
  {
   "cell_type": "markdown",
   "id": "f8f4fc6a",
   "metadata": {
    "papermill": {
     "duration": 0.030617,
     "end_time": "2024-01-15T10:31:13.599016",
     "exception": false,
     "start_time": "2024-01-15T10:31:13.568399",
     "status": "completed"
    },
    "tags": []
   },
   "source": [
    "# Data Inspection"
   ]
  },
  {
   "cell_type": "code",
   "execution_count": 6,
   "id": "8319f5d5",
   "metadata": {
    "execution": {
     "iopub.execute_input": "2024-01-15T10:31:13.663961Z",
     "iopub.status.busy": "2024-01-15T10:31:13.663436Z",
     "iopub.status.idle": "2024-01-15T10:31:13.696534Z",
     "shell.execute_reply": "2024-01-15T10:31:13.695457Z"
    },
    "papermill": {
     "duration": 0.068999,
     "end_time": "2024-01-15T10:31:13.699218",
     "exception": false,
     "start_time": "2024-01-15T10:31:13.630219",
     "status": "completed"
    },
    "tags": []
   },
   "outputs": [
    {
     "data": {
      "text/html": [
       "<div>\n",
       "<style scoped>\n",
       "    .dataframe tbody tr th:only-of-type {\n",
       "        vertical-align: middle;\n",
       "    }\n",
       "\n",
       "    .dataframe tbody tr th {\n",
       "        vertical-align: top;\n",
       "    }\n",
       "\n",
       "    .dataframe thead th {\n",
       "        text-align: right;\n",
       "    }\n",
       "</style>\n",
       "<table border=\"1\" class=\"dataframe\">\n",
       "  <thead>\n",
       "    <tr style=\"text-align: right;\">\n",
       "      <th></th>\n",
       "      <th>PassengerId</th>\n",
       "      <th>Survived</th>\n",
       "      <th>Pclass</th>\n",
       "      <th>Name</th>\n",
       "      <th>Sex</th>\n",
       "      <th>Age</th>\n",
       "      <th>SibSp</th>\n",
       "      <th>Parch</th>\n",
       "      <th>Ticket</th>\n",
       "      <th>Fare</th>\n",
       "      <th>Cabin</th>\n",
       "      <th>Embarked</th>\n",
       "    </tr>\n",
       "  </thead>\n",
       "  <tbody>\n",
       "    <tr>\n",
       "      <th>0</th>\n",
       "      <td>1</td>\n",
       "      <td>0.0</td>\n",
       "      <td>3</td>\n",
       "      <td>Braund, Mr. Owen Harris</td>\n",
       "      <td>male</td>\n",
       "      <td>22.0</td>\n",
       "      <td>1</td>\n",
       "      <td>0</td>\n",
       "      <td>A/5 21171</td>\n",
       "      <td>7.2500</td>\n",
       "      <td>NaN</td>\n",
       "      <td>S</td>\n",
       "    </tr>\n",
       "    <tr>\n",
       "      <th>1</th>\n",
       "      <td>2</td>\n",
       "      <td>1.0</td>\n",
       "      <td>1</td>\n",
       "      <td>Cumings, Mrs. John Bradley (Florence Briggs Th...</td>\n",
       "      <td>female</td>\n",
       "      <td>38.0</td>\n",
       "      <td>1</td>\n",
       "      <td>0</td>\n",
       "      <td>PC 17599</td>\n",
       "      <td>71.2833</td>\n",
       "      <td>C85</td>\n",
       "      <td>C</td>\n",
       "    </tr>\n",
       "    <tr>\n",
       "      <th>2</th>\n",
       "      <td>3</td>\n",
       "      <td>1.0</td>\n",
       "      <td>3</td>\n",
       "      <td>Heikkinen, Miss. Laina</td>\n",
       "      <td>female</td>\n",
       "      <td>26.0</td>\n",
       "      <td>0</td>\n",
       "      <td>0</td>\n",
       "      <td>STON/O2. 3101282</td>\n",
       "      <td>7.9250</td>\n",
       "      <td>NaN</td>\n",
       "      <td>S</td>\n",
       "    </tr>\n",
       "    <tr>\n",
       "      <th>3</th>\n",
       "      <td>4</td>\n",
       "      <td>1.0</td>\n",
       "      <td>1</td>\n",
       "      <td>Futrelle, Mrs. Jacques Heath (Lily May Peel)</td>\n",
       "      <td>female</td>\n",
       "      <td>35.0</td>\n",
       "      <td>1</td>\n",
       "      <td>0</td>\n",
       "      <td>113803</td>\n",
       "      <td>53.1000</td>\n",
       "      <td>C123</td>\n",
       "      <td>S</td>\n",
       "    </tr>\n",
       "    <tr>\n",
       "      <th>4</th>\n",
       "      <td>5</td>\n",
       "      <td>0.0</td>\n",
       "      <td>3</td>\n",
       "      <td>Allen, Mr. William Henry</td>\n",
       "      <td>male</td>\n",
       "      <td>35.0</td>\n",
       "      <td>0</td>\n",
       "      <td>0</td>\n",
       "      <td>373450</td>\n",
       "      <td>8.0500</td>\n",
       "      <td>NaN</td>\n",
       "      <td>S</td>\n",
       "    </tr>\n",
       "  </tbody>\n",
       "</table>\n",
       "</div>"
      ],
      "text/plain": [
       "   PassengerId  Survived  Pclass  \\\n",
       "0            1       0.0       3   \n",
       "1            2       1.0       1   \n",
       "2            3       1.0       3   \n",
       "3            4       1.0       1   \n",
       "4            5       0.0       3   \n",
       "\n",
       "                                                Name     Sex   Age  SibSp  \\\n",
       "0                            Braund, Mr. Owen Harris    male  22.0      1   \n",
       "1  Cumings, Mrs. John Bradley (Florence Briggs Th...  female  38.0      1   \n",
       "2                             Heikkinen, Miss. Laina  female  26.0      0   \n",
       "3       Futrelle, Mrs. Jacques Heath (Lily May Peel)  female  35.0      1   \n",
       "4                           Allen, Mr. William Henry    male  35.0      0   \n",
       "\n",
       "   Parch            Ticket     Fare Cabin Embarked  \n",
       "0      0         A/5 21171   7.2500   NaN        S  \n",
       "1      0          PC 17599  71.2833   C85        C  \n",
       "2      0  STON/O2. 3101282   7.9250   NaN        S  \n",
       "3      0            113803  53.1000  C123        S  \n",
       "4      0            373450   8.0500   NaN        S  "
      ]
     },
     "execution_count": 6,
     "metadata": {},
     "output_type": "execute_result"
    }
   ],
   "source": [
    "# Concat both the dataset and analyse together after fixing the data we will seperate that again\n",
    "\n",
    "df_train = pd.concat([df_train, df_test], axis=0)\n",
    "df_train.head()"
   ]
  },
  {
   "cell_type": "code",
   "execution_count": 7,
   "id": "39973721",
   "metadata": {
    "execution": {
     "iopub.execute_input": "2024-01-15T10:31:13.764203Z",
     "iopub.status.busy": "2024-01-15T10:31:13.763656Z",
     "iopub.status.idle": "2024-01-15T10:31:13.769767Z",
     "shell.execute_reply": "2024-01-15T10:31:13.768477Z"
    },
    "papermill": {
     "duration": 0.043149,
     "end_time": "2024-01-15T10:31:13.773564",
     "exception": false,
     "start_time": "2024-01-15T10:31:13.730415",
     "status": "completed"
    },
    "tags": []
   },
   "outputs": [
    {
     "name": "stdout",
     "output_type": "stream",
     "text": [
      "Train Data Shape:  (1309, 12)\n"
     ]
    }
   ],
   "source": [
    "# Check for the Data shapes\n",
    "\n",
    "print(\"Train Data Shape: \", df_train.shape)"
   ]
  },
  {
   "cell_type": "code",
   "execution_count": 8,
   "id": "9f0b0f45",
   "metadata": {
    "execution": {
     "iopub.execute_input": "2024-01-15T10:31:13.838458Z",
     "iopub.status.busy": "2024-01-15T10:31:13.837988Z",
     "iopub.status.idle": "2024-01-15T10:31:13.845267Z",
     "shell.execute_reply": "2024-01-15T10:31:13.843895Z"
    },
    "papermill": {
     "duration": 0.043791,
     "end_time": "2024-01-15T10:31:13.848730",
     "exception": false,
     "start_time": "2024-01-15T10:31:13.804939",
     "status": "completed"
    },
    "tags": []
   },
   "outputs": [
    {
     "name": "stdout",
     "output_type": "stream",
     "text": [
      "Train Data Column Names:  Index(['PassengerId', 'Survived', 'Pclass', 'Name', 'Sex', 'Age', 'SibSp',\n",
      "       'Parch', 'Ticket', 'Fare', 'Cabin', 'Embarked'],\n",
      "      dtype='object')\n"
     ]
    }
   ],
   "source": [
    "# Check for the Data Columns\n",
    "\n",
    "print(\"Train Data Column Names: \", df_train.columns)"
   ]
  },
  {
   "cell_type": "code",
   "execution_count": 9,
   "id": "7f6dc82f",
   "metadata": {
    "execution": {
     "iopub.execute_input": "2024-01-15T10:31:13.916752Z",
     "iopub.status.busy": "2024-01-15T10:31:13.916268Z",
     "iopub.status.idle": "2024-01-15T10:31:13.942517Z",
     "shell.execute_reply": "2024-01-15T10:31:13.941064Z"
    },
    "papermill": {
     "duration": 0.064426,
     "end_time": "2024-01-15T10:31:13.945250",
     "exception": false,
     "start_time": "2024-01-15T10:31:13.880824",
     "status": "completed"
    },
    "tags": []
   },
   "outputs": [
    {
     "name": "stdout",
     "output_type": "stream",
     "text": [
      "Total Duplicate rows in Train data:  0\n"
     ]
    }
   ],
   "source": [
    "# Check for the Duplicate rows\n",
    "\n",
    "print(\"Total Duplicate rows in Train data: \", df_train.duplicated().sum())"
   ]
  },
  {
   "cell_type": "code",
   "execution_count": 10,
   "id": "c67a33cd",
   "metadata": {
    "execution": {
     "iopub.execute_input": "2024-01-15T10:31:14.012522Z",
     "iopub.status.busy": "2024-01-15T10:31:14.012023Z",
     "iopub.status.idle": "2024-01-15T10:31:14.038806Z",
     "shell.execute_reply": "2024-01-15T10:31:14.037540Z"
    },
    "papermill": {
     "duration": 0.064006,
     "end_time": "2024-01-15T10:31:14.042328",
     "exception": false,
     "start_time": "2024-01-15T10:31:13.978322",
     "status": "completed"
    },
    "tags": []
   },
   "outputs": [
    {
     "name": "stdout",
     "output_type": "stream",
     "text": [
      "<class 'pandas.core.frame.DataFrame'>\n",
      "Index: 1309 entries, 0 to 417\n",
      "Data columns (total 12 columns):\n",
      " #   Column       Non-Null Count  Dtype  \n",
      "---  ------       --------------  -----  \n",
      " 0   PassengerId  1309 non-null   int64  \n",
      " 1   Survived     891 non-null    float64\n",
      " 2   Pclass       1309 non-null   int64  \n",
      " 3   Name         1309 non-null   object \n",
      " 4   Sex          1309 non-null   object \n",
      " 5   Age          1046 non-null   float64\n",
      " 6   SibSp        1309 non-null   int64  \n",
      " 7   Parch        1309 non-null   int64  \n",
      " 8   Ticket       1309 non-null   object \n",
      " 9   Fare         1308 non-null   float64\n",
      " 10  Cabin        295 non-null    object \n",
      " 11  Embarked     1307 non-null   object \n",
      "dtypes: float64(3), int64(4), object(5)\n",
      "memory usage: 132.9+ KB\n"
     ]
    }
   ],
   "source": [
    "df_train.info()"
   ]
  },
  {
   "cell_type": "code",
   "execution_count": 11,
   "id": "186416f2",
   "metadata": {
    "execution": {
     "iopub.execute_input": "2024-01-15T10:31:14.172894Z",
     "iopub.status.busy": "2024-01-15T10:31:14.172388Z",
     "iopub.status.idle": "2024-01-15T10:31:14.215804Z",
     "shell.execute_reply": "2024-01-15T10:31:14.214150Z"
    },
    "papermill": {
     "duration": 0.080831,
     "end_time": "2024-01-15T10:31:14.219502",
     "exception": false,
     "start_time": "2024-01-15T10:31:14.138671",
     "status": "completed"
    },
    "tags": []
   },
   "outputs": [
    {
     "data": {
      "text/html": [
       "<div>\n",
       "<style scoped>\n",
       "    .dataframe tbody tr th:only-of-type {\n",
       "        vertical-align: middle;\n",
       "    }\n",
       "\n",
       "    .dataframe tbody tr th {\n",
       "        vertical-align: top;\n",
       "    }\n",
       "\n",
       "    .dataframe thead th {\n",
       "        text-align: right;\n",
       "    }\n",
       "</style>\n",
       "<table border=\"1\" class=\"dataframe\">\n",
       "  <thead>\n",
       "    <tr style=\"text-align: right;\">\n",
       "      <th></th>\n",
       "      <th>PassengerId</th>\n",
       "      <th>Survived</th>\n",
       "      <th>Pclass</th>\n",
       "      <th>Age</th>\n",
       "      <th>SibSp</th>\n",
       "      <th>Parch</th>\n",
       "      <th>Fare</th>\n",
       "    </tr>\n",
       "  </thead>\n",
       "  <tbody>\n",
       "    <tr>\n",
       "      <th>count</th>\n",
       "      <td>1309.000000</td>\n",
       "      <td>891.000000</td>\n",
       "      <td>1309.000000</td>\n",
       "      <td>1046.000000</td>\n",
       "      <td>1309.000000</td>\n",
       "      <td>1309.000000</td>\n",
       "      <td>1308.000000</td>\n",
       "    </tr>\n",
       "    <tr>\n",
       "      <th>mean</th>\n",
       "      <td>655.000000</td>\n",
       "      <td>0.383838</td>\n",
       "      <td>2.294882</td>\n",
       "      <td>29.881138</td>\n",
       "      <td>0.498854</td>\n",
       "      <td>0.385027</td>\n",
       "      <td>33.295479</td>\n",
       "    </tr>\n",
       "    <tr>\n",
       "      <th>std</th>\n",
       "      <td>378.020061</td>\n",
       "      <td>0.486592</td>\n",
       "      <td>0.837836</td>\n",
       "      <td>14.413493</td>\n",
       "      <td>1.041658</td>\n",
       "      <td>0.865560</td>\n",
       "      <td>51.758668</td>\n",
       "    </tr>\n",
       "    <tr>\n",
       "      <th>min</th>\n",
       "      <td>1.000000</td>\n",
       "      <td>0.000000</td>\n",
       "      <td>1.000000</td>\n",
       "      <td>0.170000</td>\n",
       "      <td>0.000000</td>\n",
       "      <td>0.000000</td>\n",
       "      <td>0.000000</td>\n",
       "    </tr>\n",
       "    <tr>\n",
       "      <th>25%</th>\n",
       "      <td>328.000000</td>\n",
       "      <td>0.000000</td>\n",
       "      <td>2.000000</td>\n",
       "      <td>21.000000</td>\n",
       "      <td>0.000000</td>\n",
       "      <td>0.000000</td>\n",
       "      <td>7.895800</td>\n",
       "    </tr>\n",
       "    <tr>\n",
       "      <th>50%</th>\n",
       "      <td>655.000000</td>\n",
       "      <td>0.000000</td>\n",
       "      <td>3.000000</td>\n",
       "      <td>28.000000</td>\n",
       "      <td>0.000000</td>\n",
       "      <td>0.000000</td>\n",
       "      <td>14.454200</td>\n",
       "    </tr>\n",
       "    <tr>\n",
       "      <th>75%</th>\n",
       "      <td>982.000000</td>\n",
       "      <td>1.000000</td>\n",
       "      <td>3.000000</td>\n",
       "      <td>39.000000</td>\n",
       "      <td>1.000000</td>\n",
       "      <td>0.000000</td>\n",
       "      <td>31.275000</td>\n",
       "    </tr>\n",
       "    <tr>\n",
       "      <th>max</th>\n",
       "      <td>1309.000000</td>\n",
       "      <td>1.000000</td>\n",
       "      <td>3.000000</td>\n",
       "      <td>80.000000</td>\n",
       "      <td>8.000000</td>\n",
       "      <td>9.000000</td>\n",
       "      <td>512.329200</td>\n",
       "    </tr>\n",
       "  </tbody>\n",
       "</table>\n",
       "</div>"
      ],
      "text/plain": [
       "       PassengerId    Survived       Pclass          Age        SibSp  \\\n",
       "count  1309.000000  891.000000  1309.000000  1046.000000  1309.000000   \n",
       "mean    655.000000    0.383838     2.294882    29.881138     0.498854   \n",
       "std     378.020061    0.486592     0.837836    14.413493     1.041658   \n",
       "min       1.000000    0.000000     1.000000     0.170000     0.000000   \n",
       "25%     328.000000    0.000000     2.000000    21.000000     0.000000   \n",
       "50%     655.000000    0.000000     3.000000    28.000000     0.000000   \n",
       "75%     982.000000    1.000000     3.000000    39.000000     1.000000   \n",
       "max    1309.000000    1.000000     3.000000    80.000000     8.000000   \n",
       "\n",
       "             Parch         Fare  \n",
       "count  1309.000000  1308.000000  \n",
       "mean      0.385027    33.295479  \n",
       "std       0.865560    51.758668  \n",
       "min       0.000000     0.000000  \n",
       "25%       0.000000     7.895800  \n",
       "50%       0.000000    14.454200  \n",
       "75%       0.000000    31.275000  \n",
       "max       9.000000   512.329200  "
      ]
     },
     "execution_count": 11,
     "metadata": {},
     "output_type": "execute_result"
    }
   ],
   "source": [
    "df_train.describe()"
   ]
  },
  {
   "cell_type": "markdown",
   "id": "deccb61c",
   "metadata": {
    "papermill": {
     "duration": 0.034289,
     "end_time": "2024-01-15T10:31:14.286910",
     "exception": false,
     "start_time": "2024-01-15T10:31:14.252621",
     "status": "completed"
    },
    "tags": []
   },
   "source": [
    "# Handling Missing Values"
   ]
  },
  {
   "cell_type": "markdown",
   "id": "e806ee95",
   "metadata": {
    "papermill": {
     "duration": 0.033226,
     "end_time": "2024-01-15T10:31:14.352185",
     "exception": false,
     "start_time": "2024-01-15T10:31:14.318959",
     "status": "completed"
    },
    "tags": []
   },
   "source": [
    "## Age\n",
    "**As per the above observation we can see that there are some missing values in age column and as per the describe function we can do some statistical analysis**\n",
    "\n",
    "**Count :** we have Age Data Available for 714 Passengers.\n",
    "\n",
    "**mean  :** The Average Age of Passenger is 29 Years.\n",
    "\n",
    "**std   :** Most Passengers Fall in the Age Range of (mean-std)Age and (mean+std) age i.e (29-14)years to (29+14) years i.e 15 years to 43 Years.\n",
    "\n",
    "**min :** The Youngest Passenger on Ship is 0.4 Years old that mean s there is a baby(infant) on ship.\n",
    "\n",
    "**25%(Quantile 1) :** 25% of Passengers  are of Age 20 or younger.\n",
    "\n",
    "**50%(Quantile 2) :** 50% is also called Median , it means 50% of passengers are younger then 28Yrs Age. which also means remaining 50% Pasengers age is greater then 28 years\n",
    "\n",
    "**75(Quantile 3)  :** 75% of the Passengesr are younger then 38 Years.\n",
    "\n",
    "**Max             :** The Oldest Person on Ship is 80 Years old."
   ]
  },
  {
   "cell_type": "markdown",
   "id": "c775028c",
   "metadata": {
    "papermill": {
     "duration": 0.032955,
     "end_time": "2024-01-15T10:31:14.417275",
     "exception": false,
     "start_time": "2024-01-15T10:31:14.384320",
     "status": "completed"
    },
    "tags": []
   },
   "source": [
    "### Before jumping to fix the Age column lets just check for the missing values in all the columns"
   ]
  },
  {
   "cell_type": "code",
   "execution_count": 12,
   "id": "86ec87ba",
   "metadata": {
    "execution": {
     "iopub.execute_input": "2024-01-15T10:31:14.487162Z",
     "iopub.status.busy": "2024-01-15T10:31:14.486365Z",
     "iopub.status.idle": "2024-01-15T10:31:14.500814Z",
     "shell.execute_reply": "2024-01-15T10:31:14.499567Z"
    },
    "papermill": {
     "duration": 0.052165,
     "end_time": "2024-01-15T10:31:14.503715",
     "exception": false,
     "start_time": "2024-01-15T10:31:14.451550",
     "status": "completed"
    },
    "tags": []
   },
   "outputs": [
    {
     "data": {
      "text/plain": [
       "Cabin          1014\n",
       "Survived        418\n",
       "Age             263\n",
       "Embarked          2\n",
       "Fare              1\n",
       "PassengerId       0\n",
       "Pclass            0\n",
       "Name              0\n",
       "Sex               0\n",
       "SibSp             0\n",
       "Parch             0\n",
       "Ticket            0\n",
       "dtype: int64"
      ]
     },
     "execution_count": 12,
     "metadata": {},
     "output_type": "execute_result"
    }
   ],
   "source": [
    "# Lets check the total number of missing values in columns\n",
    "\n",
    "df_train.isnull().sum().sort_values(ascending=False)"
   ]
  },
  {
   "cell_type": "code",
   "execution_count": 13,
   "id": "efbac098",
   "metadata": {
    "execution": {
     "iopub.execute_input": "2024-01-15T10:31:14.571889Z",
     "iopub.status.busy": "2024-01-15T10:31:14.571344Z",
     "iopub.status.idle": "2024-01-15T10:31:14.589614Z",
     "shell.execute_reply": "2024-01-15T10:31:14.588164Z"
    },
    "papermill": {
     "duration": 0.055183,
     "end_time": "2024-01-15T10:31:14.592339",
     "exception": false,
     "start_time": "2024-01-15T10:31:14.537156",
     "status": "completed"
    },
    "tags": []
   },
   "outputs": [
    {
     "data": {
      "text/plain": [
       "Cabin          77.463713\n",
       "Survived       31.932773\n",
       "Age            20.091673\n",
       "Embarked        0.152788\n",
       "Fare            0.076394\n",
       "PassengerId     0.000000\n",
       "Pclass          0.000000\n",
       "Name            0.000000\n",
       "Sex             0.000000\n",
       "SibSp           0.000000\n",
       "Parch           0.000000\n",
       "Ticket          0.000000\n",
       "dtype: float64"
      ]
     },
     "execution_count": 13,
     "metadata": {},
     "output_type": "execute_result"
    }
   ],
   "source": [
    "# lets check the percentage wise missing value for better understanding\n",
    "\n",
    "(100*df_train.isnull().sum()/df_train.shape[0]).sort_values(ascending=False)"
   ]
  },
  {
   "cell_type": "code",
   "execution_count": 14,
   "id": "c43d80ab",
   "metadata": {
    "execution": {
     "iopub.execute_input": "2024-01-15T10:31:14.660531Z",
     "iopub.status.busy": "2024-01-15T10:31:14.660067Z",
     "iopub.status.idle": "2024-01-15T10:31:14.673237Z",
     "shell.execute_reply": "2024-01-15T10:31:14.672031Z"
    },
    "papermill": {
     "duration": 0.05074,
     "end_time": "2024-01-15T10:31:14.675831",
     "exception": false,
     "start_time": "2024-01-15T10:31:14.625091",
     "status": "completed"
    },
    "tags": []
   },
   "outputs": [
    {
     "data": {
      "text/plain": [
       "Cabin          78.229665\n",
       "Age            20.574163\n",
       "Fare            0.239234\n",
       "PassengerId     0.000000\n",
       "Pclass          0.000000\n",
       "Name            0.000000\n",
       "Sex             0.000000\n",
       "SibSp           0.000000\n",
       "Parch           0.000000\n",
       "Ticket          0.000000\n",
       "Embarked        0.000000\n",
       "dtype: float64"
      ]
     },
     "execution_count": 14,
     "metadata": {},
     "output_type": "execute_result"
    }
   ],
   "source": [
    "# For test data\n",
    "\n",
    "(100*df_test.isnull().sum()/df_test.shape[0]).sort_values(ascending=False)"
   ]
  },
  {
   "cell_type": "markdown",
   "id": "b228ff55",
   "metadata": {
    "papermill": {
     "duration": 0.032349,
     "end_time": "2024-01-15T10:31:14.740714",
     "exception": false,
     "start_time": "2024-01-15T10:31:14.708365",
     "status": "completed"
    },
    "tags": []
   },
   "source": [
    "**Observation**\n",
    "* <font color = green>As per the above observation we can see there are missing information in Age, Cabin, Embarked columns.\n",
    "* <font color = green>But in the Cabin column there is a lot of missing values which is difficult to fill, but before removing lets just analyze the Cabin column.\n",
    "* <font color = green>But we can fix Age and Embarked column by filling suitable values."
   ]
  },
  {
   "cell_type": "markdown",
   "id": "5aa6c4b1",
   "metadata": {
    "papermill": {
     "duration": 0.033686,
     "end_time": "2024-01-15T10:31:14.806955",
     "exception": false,
     "start_time": "2024-01-15T10:31:14.773269",
     "status": "completed"
    },
    "tags": []
   },
   "source": [
    "### Analyze Cabin Column"
   ]
  },
  {
   "cell_type": "code",
   "execution_count": 15,
   "id": "45d50e30",
   "metadata": {
    "execution": {
     "iopub.execute_input": "2024-01-15T10:31:14.875098Z",
     "iopub.status.busy": "2024-01-15T10:31:14.874618Z",
     "iopub.status.idle": "2024-01-15T10:31:14.898560Z",
     "shell.execute_reply": "2024-01-15T10:31:14.897342Z"
    },
    "papermill": {
     "duration": 0.061541,
     "end_time": "2024-01-15T10:31:14.901285",
     "exception": false,
     "start_time": "2024-01-15T10:31:14.839744",
     "status": "completed"
    },
    "tags": []
   },
   "outputs": [
    {
     "data": {
      "text/html": [
       "<div>\n",
       "<style scoped>\n",
       "    .dataframe tbody tr th:only-of-type {\n",
       "        vertical-align: middle;\n",
       "    }\n",
       "\n",
       "    .dataframe tbody tr th {\n",
       "        vertical-align: top;\n",
       "    }\n",
       "\n",
       "    .dataframe thead th {\n",
       "        text-align: right;\n",
       "    }\n",
       "</style>\n",
       "<table border=\"1\" class=\"dataframe\">\n",
       "  <thead>\n",
       "    <tr style=\"text-align: right;\">\n",
       "      <th></th>\n",
       "      <th>PassengerId</th>\n",
       "      <th>Survived</th>\n",
       "      <th>Pclass</th>\n",
       "      <th>Name</th>\n",
       "      <th>Sex</th>\n",
       "      <th>Age</th>\n",
       "      <th>SibSp</th>\n",
       "      <th>Parch</th>\n",
       "      <th>Ticket</th>\n",
       "      <th>Fare</th>\n",
       "      <th>Cabin</th>\n",
       "      <th>Embarked</th>\n",
       "    </tr>\n",
       "  </thead>\n",
       "  <tbody>\n",
       "    <tr>\n",
       "      <th>0</th>\n",
       "      <td>1</td>\n",
       "      <td>0.0</td>\n",
       "      <td>3</td>\n",
       "      <td>Braund, Mr. Owen Harris</td>\n",
       "      <td>male</td>\n",
       "      <td>22.0</td>\n",
       "      <td>1</td>\n",
       "      <td>0</td>\n",
       "      <td>A/5 21171</td>\n",
       "      <td>7.2500</td>\n",
       "      <td>WithoutCabin</td>\n",
       "      <td>S</td>\n",
       "    </tr>\n",
       "    <tr>\n",
       "      <th>1</th>\n",
       "      <td>2</td>\n",
       "      <td>1.0</td>\n",
       "      <td>1</td>\n",
       "      <td>Cumings, Mrs. John Bradley (Florence Briggs Th...</td>\n",
       "      <td>female</td>\n",
       "      <td>38.0</td>\n",
       "      <td>1</td>\n",
       "      <td>0</td>\n",
       "      <td>PC 17599</td>\n",
       "      <td>71.2833</td>\n",
       "      <td>WithCabin</td>\n",
       "      <td>C</td>\n",
       "    </tr>\n",
       "    <tr>\n",
       "      <th>2</th>\n",
       "      <td>3</td>\n",
       "      <td>1.0</td>\n",
       "      <td>3</td>\n",
       "      <td>Heikkinen, Miss. Laina</td>\n",
       "      <td>female</td>\n",
       "      <td>26.0</td>\n",
       "      <td>0</td>\n",
       "      <td>0</td>\n",
       "      <td>STON/O2. 3101282</td>\n",
       "      <td>7.9250</td>\n",
       "      <td>WithoutCabin</td>\n",
       "      <td>S</td>\n",
       "    </tr>\n",
       "    <tr>\n",
       "      <th>3</th>\n",
       "      <td>4</td>\n",
       "      <td>1.0</td>\n",
       "      <td>1</td>\n",
       "      <td>Futrelle, Mrs. Jacques Heath (Lily May Peel)</td>\n",
       "      <td>female</td>\n",
       "      <td>35.0</td>\n",
       "      <td>1</td>\n",
       "      <td>0</td>\n",
       "      <td>113803</td>\n",
       "      <td>53.1000</td>\n",
       "      <td>WithCabin</td>\n",
       "      <td>S</td>\n",
       "    </tr>\n",
       "    <tr>\n",
       "      <th>4</th>\n",
       "      <td>5</td>\n",
       "      <td>0.0</td>\n",
       "      <td>3</td>\n",
       "      <td>Allen, Mr. William Henry</td>\n",
       "      <td>male</td>\n",
       "      <td>35.0</td>\n",
       "      <td>0</td>\n",
       "      <td>0</td>\n",
       "      <td>373450</td>\n",
       "      <td>8.0500</td>\n",
       "      <td>WithoutCabin</td>\n",
       "      <td>S</td>\n",
       "    </tr>\n",
       "  </tbody>\n",
       "</table>\n",
       "</div>"
      ],
      "text/plain": [
       "   PassengerId  Survived  Pclass  \\\n",
       "0            1       0.0       3   \n",
       "1            2       1.0       1   \n",
       "2            3       1.0       3   \n",
       "3            4       1.0       1   \n",
       "4            5       0.0       3   \n",
       "\n",
       "                                                Name     Sex   Age  SibSp  \\\n",
       "0                            Braund, Mr. Owen Harris    male  22.0      1   \n",
       "1  Cumings, Mrs. John Bradley (Florence Briggs Th...  female  38.0      1   \n",
       "2                             Heikkinen, Miss. Laina  female  26.0      0   \n",
       "3       Futrelle, Mrs. Jacques Heath (Lily May Peel)  female  35.0      1   \n",
       "4                           Allen, Mr. William Henry    male  35.0      0   \n",
       "\n",
       "   Parch            Ticket     Fare         Cabin Embarked  \n",
       "0      0         A/5 21171   7.2500  WithoutCabin        S  \n",
       "1      0          PC 17599  71.2833     WithCabin        C  \n",
       "2      0  STON/O2. 3101282   7.9250  WithoutCabin        S  \n",
       "3      0            113803  53.1000     WithCabin        S  \n",
       "4      0            373450   8.0500  WithoutCabin        S  "
      ]
     },
     "execution_count": 15,
     "metadata": {},
     "output_type": "execute_result"
    }
   ],
   "source": [
    "# We know there are so many missing values in the cabin column lets just give two values to the cabin.\n",
    "# WithCabin people have the cabin and WithoutCabin for NA values\n",
    "df_train.Cabin = df_train.Cabin.apply(lambda x: 'WithoutCabin' if pd.isnull(x) else 'WithCabin' )\n",
    "df_train.head()"
   ]
  },
  {
   "cell_type": "code",
   "execution_count": 16,
   "id": "c8831541",
   "metadata": {
    "execution": {
     "iopub.execute_input": "2024-01-15T10:31:14.969270Z",
     "iopub.status.busy": "2024-01-15T10:31:14.968425Z",
     "iopub.status.idle": "2024-01-15T10:31:15.339474Z",
     "shell.execute_reply": "2024-01-15T10:31:15.338204Z"
    },
    "papermill": {
     "duration": 0.408949,
     "end_time": "2024-01-15T10:31:15.343039",
     "exception": false,
     "start_time": "2024-01-15T10:31:14.934090",
     "status": "completed"
    },
    "tags": []
   },
   "outputs": [
    {
     "name": "stdout",
     "output_type": "stream",
     "text": [
      "Total Passengers With or Without Cabin\n",
      "\n",
      " Cabin\n",
      "WithCabin        295\n",
      "WithoutCabin    1014\n",
      "Name: count, dtype: int64\n"
     ]
    },
    {
     "data": {
      "image/png": "[encoded data removed]",
      "text/plain": [
       "<Figure size 640x480 with 1 Axes>"
      ]
     },
     "metadata": {},
     "output_type": "display_data"
    },
    {
     "name": "stdout",
     "output_type": "stream",
     "text": [
      "\n",
      "Count of Passenger survived and died\n"
     ]
    },
    {
     "data": {
      "text/html": [
       "<div>\n",
       "<style scoped>\n",
       "    .dataframe tbody tr th:only-of-type {\n",
       "        vertical-align: middle;\n",
       "    }\n",
       "\n",
       "    .dataframe tbody tr th {\n",
       "        vertical-align: top;\n",
       "    }\n",
       "\n",
       "    .dataframe thead th {\n",
       "        text-align: right;\n",
       "    }\n",
       "</style>\n",
       "<table border=\"1\" class=\"dataframe\">\n",
       "  <thead>\n",
       "    <tr style=\"text-align: right;\">\n",
       "      <th>Survived</th>\n",
       "      <th>0.0</th>\n",
       "      <th>1.0</th>\n",
       "      <th>Survival_%</th>\n",
       "    </tr>\n",
       "    <tr>\n",
       "      <th>Cabin</th>\n",
       "      <th></th>\n",
       "      <th></th>\n",
       "      <th></th>\n",
       "    </tr>\n",
       "  </thead>\n",
       "  <tbody>\n",
       "    <tr>\n",
       "      <th>WithCabin</th>\n",
       "      <td>68</td>\n",
       "      <td>136</td>\n",
       "      <td>66.666667</td>\n",
       "    </tr>\n",
       "    <tr>\n",
       "      <th>WithoutCabin</th>\n",
       "      <td>481</td>\n",
       "      <td>206</td>\n",
       "      <td>29.985444</td>\n",
       "    </tr>\n",
       "  </tbody>\n",
       "</table>\n",
       "</div>"
      ],
      "text/plain": [
       "Survived      0.0  1.0  Survival_%\n",
       "Cabin                             \n",
       "WithCabin      68  136   66.666667\n",
       "WithoutCabin  481  206   29.985444"
      ]
     },
     "execution_count": 16,
     "metadata": {},
     "output_type": "execute_result"
    }
   ],
   "source": [
    "# Show total count\n",
    "print(\"Total Passengers With or Without Cabin\\n\\n\", df_train.Cabin.value_counts(ascending=True))\n",
    "\n",
    "# Plot the Survival plot wrt Cabin\n",
    "sns.countplot(data=df_train, x='Cabin', hue='Survived')\n",
    "plt.title(\"Cabin VS Survival Count Plot\", fontdict = {'fontsize':20, 'fontweight':5, 'color':'Green'})\n",
    "plt.show()\n",
    "\n",
    "# Show how many survived and died wrt cabin\n",
    "print(\"\\nCount of Passenger survived and died\")\n",
    "grouped_data = df_train.groupby(['Cabin', 'Survived']).size().unstack(fill_value=0)\n",
    "grouped_data['Survival_%'] = grouped_data[1]/grouped_data.sum(axis=1)*100\n",
    "grouped_data"
   ]
  },
  {
   "cell_type": "markdown",
   "id": "76179534",
   "metadata": {
    "execution": {
     "iopub.execute_input": "2024-01-13T13:25:53.919031Z",
     "iopub.status.busy": "2024-01-13T13:25:53.918650Z",
     "iopub.status.idle": "2024-01-13T13:25:53.929696Z",
     "shell.execute_reply": "2024-01-13T13:25:53.928627Z",
     "shell.execute_reply.started": "2024-01-13T13:25:53.919002Z"
    },
    "papermill": {
     "duration": 0.0351,
     "end_time": "2024-01-15T10:31:15.412174",
     "exception": false,
     "start_time": "2024-01-15T10:31:15.377074",
     "status": "completed"
    },
    "tags": []
   },
   "source": [
    "**Observation**\n",
    "* <font color=Green>As per the above observation we can conclude that people without cabin has higher chances to die, but people with cabin assigned has lower chance to die.\n",
    "* <font color=Green>So, for now we are going to keep the Cabin column for the further analysis"
   ]
  },
  {
   "cell_type": "markdown",
   "id": "613aeae0",
   "metadata": {
    "papermill": {
     "duration": 0.033318,
     "end_time": "2024-01-15T10:31:15.479559",
     "exception": false,
     "start_time": "2024-01-15T10:31:15.446241",
     "status": "completed"
    },
    "tags": []
   },
   "source": [
    "### Analyze Age Column\n",
    "**Basic Approach to fill the age column is to fill the mean value in Null rows. But we are going to take different approach to fill these values because it is possible that there will be missing age for the Kids, Unmarried Men/Women, Married Men/Women. So, filling the same mean value for all the categories is not a wise step. So, we are going to use Formal Titles used in the name columns to assign the age to the missing age rows.**"
   ]
  },
  {
   "cell_type": "code",
   "execution_count": 17,
   "id": "86cea780",
   "metadata": {
    "execution": {
     "iopub.execute_input": "2024-01-15T10:31:15.550070Z",
     "iopub.status.busy": "2024-01-15T10:31:15.549535Z",
     "iopub.status.idle": "2024-01-15T10:31:15.579767Z",
     "shell.execute_reply": "2024-01-15T10:31:15.578508Z"
    },
    "papermill": {
     "duration": 0.068508,
     "end_time": "2024-01-15T10:31:15.582404",
     "exception": false,
     "start_time": "2024-01-15T10:31:15.513896",
     "status": "completed"
    },
    "tags": []
   },
   "outputs": [
    {
     "data": {
      "text/html": [
       "<div>\n",
       "<style scoped>\n",
       "    .dataframe tbody tr th:only-of-type {\n",
       "        vertical-align: middle;\n",
       "    }\n",
       "\n",
       "    .dataframe tbody tr th {\n",
       "        vertical-align: top;\n",
       "    }\n",
       "\n",
       "    .dataframe thead th {\n",
       "        text-align: right;\n",
       "    }\n",
       "</style>\n",
       "<table border=\"1\" class=\"dataframe\">\n",
       "  <thead>\n",
       "    <tr style=\"text-align: right;\">\n",
       "      <th></th>\n",
       "      <th>PassengerId</th>\n",
       "      <th>Survived</th>\n",
       "      <th>Pclass</th>\n",
       "      <th>Name</th>\n",
       "      <th>Sex</th>\n",
       "      <th>Age</th>\n",
       "      <th>SibSp</th>\n",
       "      <th>Parch</th>\n",
       "      <th>Ticket</th>\n",
       "      <th>Fare</th>\n",
       "      <th>Cabin</th>\n",
       "      <th>Embarked</th>\n",
       "      <th>Title</th>\n",
       "    </tr>\n",
       "  </thead>\n",
       "  <tbody>\n",
       "    <tr>\n",
       "      <th>0</th>\n",
       "      <td>1</td>\n",
       "      <td>0.0</td>\n",
       "      <td>3</td>\n",
       "      <td>Braund, Mr. Owen Harris</td>\n",
       "      <td>male</td>\n",
       "      <td>22.0</td>\n",
       "      <td>1</td>\n",
       "      <td>0</td>\n",
       "      <td>A/5 21171</td>\n",
       "      <td>7.2500</td>\n",
       "      <td>WithoutCabin</td>\n",
       "      <td>S</td>\n",
       "      <td>Mr</td>\n",
       "    </tr>\n",
       "    <tr>\n",
       "      <th>1</th>\n",
       "      <td>2</td>\n",
       "      <td>1.0</td>\n",
       "      <td>1</td>\n",
       "      <td>Cumings, Mrs. John Bradley (Florence Briggs Th...</td>\n",
       "      <td>female</td>\n",
       "      <td>38.0</td>\n",
       "      <td>1</td>\n",
       "      <td>0</td>\n",
       "      <td>PC 17599</td>\n",
       "      <td>71.2833</td>\n",
       "      <td>WithCabin</td>\n",
       "      <td>C</td>\n",
       "      <td>Mrs</td>\n",
       "    </tr>\n",
       "    <tr>\n",
       "      <th>2</th>\n",
       "      <td>3</td>\n",
       "      <td>1.0</td>\n",
       "      <td>3</td>\n",
       "      <td>Heikkinen, Miss. Laina</td>\n",
       "      <td>female</td>\n",
       "      <td>26.0</td>\n",
       "      <td>0</td>\n",
       "      <td>0</td>\n",
       "      <td>STON/O2. 3101282</td>\n",
       "      <td>7.9250</td>\n",
       "      <td>WithoutCabin</td>\n",
       "      <td>S</td>\n",
       "      <td>Miss</td>\n",
       "    </tr>\n",
       "    <tr>\n",
       "      <th>3</th>\n",
       "      <td>4</td>\n",
       "      <td>1.0</td>\n",
       "      <td>1</td>\n",
       "      <td>Futrelle, Mrs. Jacques Heath (Lily May Peel)</td>\n",
       "      <td>female</td>\n",
       "      <td>35.0</td>\n",
       "      <td>1</td>\n",
       "      <td>0</td>\n",
       "      <td>113803</td>\n",
       "      <td>53.1000</td>\n",
       "      <td>WithCabin</td>\n",
       "      <td>S</td>\n",
       "      <td>Mrs</td>\n",
       "    </tr>\n",
       "    <tr>\n",
       "      <th>4</th>\n",
       "      <td>5</td>\n",
       "      <td>0.0</td>\n",
       "      <td>3</td>\n",
       "      <td>Allen, Mr. William Henry</td>\n",
       "      <td>male</td>\n",
       "      <td>35.0</td>\n",
       "      <td>0</td>\n",
       "      <td>0</td>\n",
       "      <td>373450</td>\n",
       "      <td>8.0500</td>\n",
       "      <td>WithoutCabin</td>\n",
       "      <td>S</td>\n",
       "      <td>Mr</td>\n",
       "    </tr>\n",
       "  </tbody>\n",
       "</table>\n",
       "</div>"
      ],
      "text/plain": [
       "   PassengerId  Survived  Pclass  \\\n",
       "0            1       0.0       3   \n",
       "1            2       1.0       1   \n",
       "2            3       1.0       3   \n",
       "3            4       1.0       1   \n",
       "4            5       0.0       3   \n",
       "\n",
       "                                                Name     Sex   Age  SibSp  \\\n",
       "0                            Braund, Mr. Owen Harris    male  22.0      1   \n",
       "1  Cumings, Mrs. John Bradley (Florence Briggs Th...  female  38.0      1   \n",
       "2                             Heikkinen, Miss. Laina  female  26.0      0   \n",
       "3       Futrelle, Mrs. Jacques Heath (Lily May Peel)  female  35.0      1   \n",
       "4                           Allen, Mr. William Henry    male  35.0      0   \n",
       "\n",
       "   Parch            Ticket     Fare         Cabin Embarked  Title  \n",
       "0      0         A/5 21171   7.2500  WithoutCabin        S     Mr  \n",
       "1      0          PC 17599  71.2833     WithCabin        C    Mrs  \n",
       "2      0  STON/O2. 3101282   7.9250  WithoutCabin        S   Miss  \n",
       "3      0            113803  53.1000     WithCabin        S    Mrs  \n",
       "4      0            373450   8.0500  WithoutCabin        S     Mr  "
      ]
     },
     "execution_count": 17,
     "metadata": {},
     "output_type": "execute_result"
    }
   ],
   "source": [
    "# Make a new column with Title\n",
    "\n",
    "import re\n",
    "df_train['Title'] = df_train.Name.apply(lambda x: re.split(r'[,.]', x)[1])\n",
    "df_train['Title'].str.strip() # Remove any extra spaces\n",
    "df_train.head()"
   ]
  },
  {
   "cell_type": "code",
   "execution_count": 18,
   "id": "dea468f2",
   "metadata": {
    "execution": {
     "iopub.execute_input": "2024-01-15T10:31:15.655198Z",
     "iopub.status.busy": "2024-01-15T10:31:15.654672Z",
     "iopub.status.idle": "2024-01-15T10:31:15.663973Z",
     "shell.execute_reply": "2024-01-15T10:31:15.662749Z"
    },
    "papermill": {
     "duration": 0.048992,
     "end_time": "2024-01-15T10:31:15.666507",
     "exception": false,
     "start_time": "2024-01-15T10:31:15.617515",
     "status": "completed"
    },
    "tags": []
   },
   "outputs": [
    {
     "data": {
      "text/plain": [
       "array([' Mr', ' Mrs', ' Miss', ' Master', ' Don', ' Rev', ' Dr', ' Mme',\n",
       "       ' Ms', ' Major', ' Lady', ' Sir', ' Mlle', ' Col', ' Capt',\n",
       "       ' the Countess', ' Jonkheer', ' Dona'], dtype=object)"
      ]
     },
     "execution_count": 18,
     "metadata": {},
     "output_type": "execute_result"
    }
   ],
   "source": [
    "# Lets take the look on Title column\n",
    "\n",
    "df_train.Title.unique()"
   ]
  },
  {
   "cell_type": "markdown",
   "id": "2aca6c5b",
   "metadata": {
    "papermill": {
     "duration": 0.034028,
     "end_time": "2024-01-15T10:31:15.736487",
     "exception": false,
     "start_time": "2024-01-15T10:31:15.702459",
     "status": "completed"
    },
    "tags": []
   },
   "source": [
    "### Lets take a look at the Titles we have and try to understand it\n",
    "\n",
    "* **Mr:** Used for adult men.\n",
    "* **Mrs:** Used for married women.\n",
    "* **Miss:** Used for unmarried women.\n",
    "* **Master:** Used for young boys.\n",
    "* **Don:** A Spanish title, similar to \"Sir.\"\n",
    "* **Rev (Reverend):** A title for ministers or clergy members.\n",
    "* **Dr (Doctor):** Used for medical professionals.\n",
    "* **Mme (Madame):** French title used for married women.\n",
    "* **Ms:** A neutral title for women, regardless of marital status.\n",
    "* **Major:** A military rank.\n",
    "* **Lady:** A title for a woman of high social standing.\n",
    "* **Sir:** A title of honor for men, similar to \"Mr.\"\n",
    "* **Mlle (Mademoiselle):** French title used for unmarried women.\n",
    "* **Col (Colonel):** A military rank.\n",
    "* **Capt (Captain):** Typically used for military or naval officers.\n",
    "* **the Countess:** A title for a female count (noble rank).\n",
    "* **Jonkheer:** A Dutch honorific for a young lord or squire.\n",
    "\n",
    "1. **Master:** Typically used for young boys less than 18 years old.\n",
    "2. **Miss:** Generally used for unmarried girls or young women.\n",
    "3. **Mr/Mrs/Ms:** Used for adults, and the age range can be broad.\n",
    "4. **Rev/Dr/Capt/Col/Major:** Can be adults and may have a wider age range."
   ]
  },
  {
   "cell_type": "code",
   "execution_count": 19,
   "id": "a8a63bf7",
   "metadata": {
    "execution": {
     "iopub.execute_input": "2024-01-15T10:31:15.807117Z",
     "iopub.status.busy": "2024-01-15T10:31:15.806181Z",
     "iopub.status.idle": "2024-01-15T10:31:15.818314Z",
     "shell.execute_reply": "2024-01-15T10:31:15.817427Z"
    },
    "papermill": {
     "duration": 0.050255,
     "end_time": "2024-01-15T10:31:15.820862",
     "exception": false,
     "start_time": "2024-01-15T10:31:15.770607",
     "status": "completed"
    },
    "tags": []
   },
   "outputs": [
    {
     "data": {
      "text/plain": [
       "Title\n",
       " Dr          1\n",
       " Master      8\n",
       " Miss       50\n",
       " Mr        176\n",
       " Mrs        27\n",
       " Ms          1\n",
       "dtype: int64"
      ]
     },
     "execution_count": 19,
     "metadata": {},
     "output_type": "execute_result"
    }
   ],
   "source": [
    "# Lets take a look at the missing age value as per the Title\n",
    "\n",
    "df_train[df_train['Age'].isnull()].groupby('Title').size()"
   ]
  },
  {
   "cell_type": "code",
   "execution_count": 20,
   "id": "3734bd6b",
   "metadata": {
    "execution": {
     "iopub.execute_input": "2024-01-15T10:31:15.892928Z",
     "iopub.status.busy": "2024-01-15T10:31:15.892361Z",
     "iopub.status.idle": "2024-01-15T10:31:15.908167Z",
     "shell.execute_reply": "2024-01-15T10:31:15.906698Z"
    },
    "papermill": {
     "duration": 0.055154,
     "end_time": "2024-01-15T10:31:15.910843",
     "exception": false,
     "start_time": "2024-01-15T10:31:15.855689",
     "status": "completed"
    },
    "tags": []
   },
   "outputs": [
    {
     "data": {
      "text/plain": [
       "Title\n",
       " Capt            70.000000\n",
       " Col             54.000000\n",
       " Don             40.000000\n",
       " Dona            39.000000\n",
       " Dr              43.571429\n",
       " Jonkheer        38.000000\n",
       " Lady            48.000000\n",
       " Major           48.500000\n",
       " Master           5.482642\n",
       " Miss            21.774238\n",
       " Mlle            24.000000\n",
       " Mme             24.000000\n",
       " Mr              32.252151\n",
       " Mrs             36.994118\n",
       " Ms              28.000000\n",
       " Rev             41.250000\n",
       " Sir             49.000000\n",
       " the Countess    33.000000\n",
       "Name: Age, dtype: float64"
      ]
     },
     "execution_count": 20,
     "metadata": {},
     "output_type": "execute_result"
    }
   ],
   "source": [
    "# Lets check for the mean value for all the unique Titles\n",
    "\n",
    "title_mean_age = df_train.groupby('Title')['Age'].mean()\n",
    "title_mean_age"
   ]
  },
  {
   "cell_type": "code",
   "execution_count": 21,
   "id": "84ff46d6",
   "metadata": {
    "execution": {
     "iopub.execute_input": "2024-01-15T10:31:15.983045Z",
     "iopub.status.busy": "2024-01-15T10:31:15.982474Z",
     "iopub.status.idle": "2024-01-15T10:31:16.019400Z",
     "shell.execute_reply": "2024-01-15T10:31:16.018062Z"
    },
    "papermill": {
     "duration": 0.07737,
     "end_time": "2024-01-15T10:31:16.023187",
     "exception": false,
     "start_time": "2024-01-15T10:31:15.945817",
     "status": "completed"
    },
    "tags": []
   },
   "outputs": [],
   "source": [
    "# Lets assign the age to the null rows in age column as per the mean age we find according to Title.\n",
    "\n",
    "df_train.Age = df_train.apply(lambda row: title_mean_age[row['Title']] if pd.isnull(row['Age']) else row['Age'], axis=1)"
   ]
  },
  {
   "cell_type": "code",
   "execution_count": 22,
   "id": "b8a03890",
   "metadata": {
    "execution": {
     "iopub.execute_input": "2024-01-15T10:31:16.096618Z",
     "iopub.status.busy": "2024-01-15T10:31:16.096145Z",
     "iopub.status.idle": "2024-01-15T10:31:16.104762Z",
     "shell.execute_reply": "2024-01-15T10:31:16.103445Z"
    },
    "papermill": {
     "duration": 0.04827,
     "end_time": "2024-01-15T10:31:16.107442",
     "exception": false,
     "start_time": "2024-01-15T10:31:16.059172",
     "status": "completed"
    },
    "tags": []
   },
   "outputs": [
    {
     "data": {
      "text/plain": [
       "0"
      ]
     },
     "execution_count": 22,
     "metadata": {},
     "output_type": "execute_result"
    }
   ],
   "source": [
    "df_train.Age.isnull().sum()"
   ]
  },
  {
   "cell_type": "code",
   "execution_count": 23,
   "id": "d6507f21",
   "metadata": {
    "execution": {
     "iopub.execute_input": "2024-01-15T10:31:16.179655Z",
     "iopub.status.busy": "2024-01-15T10:31:16.179171Z",
     "iopub.status.idle": "2024-01-15T10:31:16.454649Z",
     "shell.execute_reply": "2024-01-15T10:31:16.453229Z"
    },
    "papermill": {
     "duration": 0.315058,
     "end_time": "2024-01-15T10:31:16.457576",
     "exception": false,
     "start_time": "2024-01-15T10:31:16.142518",
     "status": "completed"
    },
    "tags": []
   },
   "outputs": [
    {
     "name": "stdout",
     "output_type": "stream",
     "text": [
      "count    1309.000000\n",
      "mean       29.896894\n",
      "std        13.193803\n",
      "min         0.170000\n",
      "25%        21.774238\n",
      "50%        30.000000\n",
      "75%        36.000000\n",
      "max        80.000000\n",
      "Name: Age, dtype: float64\n"
     ]
    },
    {
     "data": {
      "text/plain": [
       "<Axes: xlabel='Age'>"
      ]
     },
     "execution_count": 23,
     "metadata": {},
     "output_type": "execute_result"
    },
    {
     "data": {
      "image/png": "[encoded data removed]",
      "text/plain": [
       "<Figure size 640x480 with 1 Axes>"
      ]
     },
     "metadata": {},
     "output_type": "display_data"
    }
   ],
   "source": [
    "# Now lets just take a look at the spread of the age\n",
    "print(df_train.Age.describe())\n",
    "sns.boxplot(x='Age', data=df_train)"
   ]
  },
  {
   "cell_type": "markdown",
   "id": "dddeb473",
   "metadata": {
    "papermill": {
     "duration": 0.039971,
     "end_time": "2024-01-15T10:31:16.537894",
     "exception": false,
     "start_time": "2024-01-15T10:31:16.497923",
     "status": "completed"
    },
    "tags": []
   },
   "source": [
    "### Now we just need to fill values in Embarked Column\n",
    "* We have three data in the Embarked Column \n",
    "* C = Cherbourg, Q = Queenstown, S = Southampton"
   ]
  },
  {
   "cell_type": "code",
   "execution_count": 24,
   "id": "5f1d6f78",
   "metadata": {
    "execution": {
     "iopub.execute_input": "2024-01-15T10:31:16.617434Z",
     "iopub.status.busy": "2024-01-15T10:31:16.616378Z",
     "iopub.status.idle": "2024-01-15T10:31:16.909405Z",
     "shell.execute_reply": "2024-01-15T10:31:16.908165Z"
    },
    "papermill": {
     "duration": 0.339431,
     "end_time": "2024-01-15T10:31:16.913877",
     "exception": false,
     "start_time": "2024-01-15T10:31:16.574446",
     "status": "completed"
    },
    "tags": []
   },
   "outputs": [
    {
     "name": "stdout",
     "output_type": "stream",
     "text": [
      "Count of Embarked Column:\n",
      " Embarked\n",
      "S    914\n",
      "C    270\n",
      "Q    123\n",
      "Name: count, dtype: int64\n"
     ]
    },
    {
     "data": {
      "text/plain": [
       "<Axes: xlabel='Embarked'>"
      ]
     },
     "execution_count": 24,
     "metadata": {},
     "output_type": "execute_result"
    },
    {
     "data": {
      "image/png": "[encoded data removed]",
      "text/plain": [
       "<Figure size 640x480 with 1 Axes>"
      ]
     },
     "metadata": {},
     "output_type": "display_data"
    }
   ],
   "source": [
    "# Lets check for the distribution of these columns\n",
    "\n",
    "print('Count of Embarked Column:\\n', df_train.Embarked.value_counts())\n",
    "df_train.Embarked.value_counts().plot.bar(color=['Green', 'Red', 'Yellow'])"
   ]
  },
  {
   "cell_type": "code",
   "execution_count": 25,
   "id": "c0521d60",
   "metadata": {
    "execution": {
     "iopub.execute_input": "2024-01-15T10:31:17.007137Z",
     "iopub.status.busy": "2024-01-15T10:31:17.005429Z",
     "iopub.status.idle": "2024-01-15T10:31:17.015460Z",
     "shell.execute_reply": "2024-01-15T10:31:17.014120Z"
    },
    "papermill": {
     "duration": 0.059392,
     "end_time": "2024-01-15T10:31:17.018788",
     "exception": false,
     "start_time": "2024-01-15T10:31:16.959396",
     "status": "completed"
    },
    "tags": []
   },
   "outputs": [],
   "source": [
    "# At Place of null value just put 'S' as a boarding station\n",
    "\n",
    "df_train.Embarked.fillna(df_train.Embarked.mode()[0], inplace=True)"
   ]
  },
  {
   "cell_type": "code",
   "execution_count": 26,
   "id": "da2b683d",
   "metadata": {
    "execution": {
     "iopub.execute_input": "2024-01-15T10:31:17.096855Z",
     "iopub.status.busy": "2024-01-15T10:31:17.095439Z",
     "iopub.status.idle": "2024-01-15T10:31:17.111143Z",
     "shell.execute_reply": "2024-01-15T10:31:17.109831Z"
    },
    "papermill": {
     "duration": 0.057914,
     "end_time": "2024-01-15T10:31:17.113822",
     "exception": false,
     "start_time": "2024-01-15T10:31:17.055908",
     "status": "completed"
    },
    "tags": []
   },
   "outputs": [
    {
     "data": {
      "text/plain": [
       "PassengerId      0\n",
       "Survived       418\n",
       "Pclass           0\n",
       "Name             0\n",
       "Sex              0\n",
       "Age              0\n",
       "SibSp            0\n",
       "Parch            0\n",
       "Ticket           0\n",
       "Fare             1\n",
       "Cabin            0\n",
       "Embarked         0\n",
       "Title            0\n",
       "dtype: int64"
      ]
     },
     "execution_count": 26,
     "metadata": {},
     "output_type": "execute_result"
    }
   ],
   "source": [
    "# As we had fixed all the null values.\n",
    "# Lets crossverify the null value\n",
    "\n",
    "df_train.isnull().sum()"
   ]
  },
  {
   "cell_type": "markdown",
   "id": "9f72aa0d",
   "metadata": {
    "papermill": {
     "duration": 0.037229,
     "end_time": "2024-01-15T10:31:17.187640",
     "exception": false,
     "start_time": "2024-01-15T10:31:17.150411",
     "status": "completed"
    },
    "tags": []
   },
   "source": [
    "# Feature Engineering using Data Visualization\n",
    "* Now we are going to analyze all the features and their spread and theri relation wrt survival and lets see what feature is required for our training data."
   ]
  },
  {
   "cell_type": "code",
   "execution_count": 27,
   "id": "2904c0c7",
   "metadata": {
    "execution": {
     "iopub.execute_input": "2024-01-15T10:31:17.265947Z",
     "iopub.status.busy": "2024-01-15T10:31:17.264990Z",
     "iopub.status.idle": "2024-01-15T10:31:17.273575Z",
     "shell.execute_reply": "2024-01-15T10:31:17.272353Z"
    },
    "papermill": {
     "duration": 0.049976,
     "end_time": "2024-01-15T10:31:17.276498",
     "exception": false,
     "start_time": "2024-01-15T10:31:17.226522",
     "status": "completed"
    },
    "tags": []
   },
   "outputs": [
    {
     "data": {
      "text/plain": [
       "Index(['PassengerId', 'Survived', 'Pclass', 'Name', 'Sex', 'Age', 'SibSp',\n",
       "       'Parch', 'Ticket', 'Fare', 'Cabin', 'Embarked', 'Title'],\n",
       "      dtype='object')"
      ]
     },
     "execution_count": 27,
     "metadata": {},
     "output_type": "execute_result"
    }
   ],
   "source": [
    "# Check for the columns\n",
    "\n",
    "df_train.columns"
   ]
  },
  {
   "cell_type": "markdown",
   "id": "ece5f256",
   "metadata": {
    "execution": {
     "iopub.execute_input": "2024-01-14T11:39:20.529404Z",
     "iopub.status.busy": "2024-01-14T11:39:20.528944Z",
     "iopub.status.idle": "2024-01-14T11:39:20.536339Z",
     "shell.execute_reply": "2024-01-14T11:39:20.534671Z",
     "shell.execute_reply.started": "2024-01-14T11:39:20.529367Z"
    },
    "papermill": {
     "duration": 0.040016,
     "end_time": "2024-01-15T10:31:17.353721",
     "exception": false,
     "start_time": "2024-01-15T10:31:17.313705",
     "status": "completed"
    },
    "tags": []
   },
   "source": [
    "#### PassengerID Column"
   ]
  },
  {
   "cell_type": "code",
   "execution_count": 28,
   "id": "b0c66005",
   "metadata": {
    "execution": {
     "iopub.execute_input": "2024-01-15T10:31:17.431112Z",
     "iopub.status.busy": "2024-01-15T10:31:17.430604Z",
     "iopub.status.idle": "2024-01-15T10:31:17.453340Z",
     "shell.execute_reply": "2024-01-15T10:31:17.452104Z"
    },
    "papermill": {
     "duration": 0.065154,
     "end_time": "2024-01-15T10:31:17.456262",
     "exception": false,
     "start_time": "2024-01-15T10:31:17.391108",
     "status": "completed"
    },
    "tags": []
   },
   "outputs": [
    {
     "data": {
      "text/html": [
       "<div>\n",
       "<style scoped>\n",
       "    .dataframe tbody tr th:only-of-type {\n",
       "        vertical-align: middle;\n",
       "    }\n",
       "\n",
       "    .dataframe tbody tr th {\n",
       "        vertical-align: top;\n",
       "    }\n",
       "\n",
       "    .dataframe thead th {\n",
       "        text-align: right;\n",
       "    }\n",
       "</style>\n",
       "<table border=\"1\" class=\"dataframe\">\n",
       "  <thead>\n",
       "    <tr style=\"text-align: right;\">\n",
       "      <th></th>\n",
       "      <th>Survived</th>\n",
       "      <th>Pclass</th>\n",
       "      <th>Name</th>\n",
       "      <th>Sex</th>\n",
       "      <th>Age</th>\n",
       "      <th>SibSp</th>\n",
       "      <th>Parch</th>\n",
       "      <th>Ticket</th>\n",
       "      <th>Fare</th>\n",
       "      <th>Cabin</th>\n",
       "      <th>Embarked</th>\n",
       "      <th>Title</th>\n",
       "    </tr>\n",
       "  </thead>\n",
       "  <tbody>\n",
       "    <tr>\n",
       "      <th>0</th>\n",
       "      <td>0.0</td>\n",
       "      <td>3</td>\n",
       "      <td>Braund, Mr. Owen Harris</td>\n",
       "      <td>male</td>\n",
       "      <td>22.0</td>\n",
       "      <td>1</td>\n",
       "      <td>0</td>\n",
       "      <td>A/5 21171</td>\n",
       "      <td>7.2500</td>\n",
       "      <td>WithoutCabin</td>\n",
       "      <td>S</td>\n",
       "      <td>Mr</td>\n",
       "    </tr>\n",
       "    <tr>\n",
       "      <th>1</th>\n",
       "      <td>1.0</td>\n",
       "      <td>1</td>\n",
       "      <td>Cumings, Mrs. John Bradley (Florence Briggs Th...</td>\n",
       "      <td>female</td>\n",
       "      <td>38.0</td>\n",
       "      <td>1</td>\n",
       "      <td>0</td>\n",
       "      <td>PC 17599</td>\n",
       "      <td>71.2833</td>\n",
       "      <td>WithCabin</td>\n",
       "      <td>C</td>\n",
       "      <td>Mrs</td>\n",
       "    </tr>\n",
       "    <tr>\n",
       "      <th>2</th>\n",
       "      <td>1.0</td>\n",
       "      <td>3</td>\n",
       "      <td>Heikkinen, Miss. Laina</td>\n",
       "      <td>female</td>\n",
       "      <td>26.0</td>\n",
       "      <td>0</td>\n",
       "      <td>0</td>\n",
       "      <td>STON/O2. 3101282</td>\n",
       "      <td>7.9250</td>\n",
       "      <td>WithoutCabin</td>\n",
       "      <td>S</td>\n",
       "      <td>Miss</td>\n",
       "    </tr>\n",
       "    <tr>\n",
       "      <th>3</th>\n",
       "      <td>1.0</td>\n",
       "      <td>1</td>\n",
       "      <td>Futrelle, Mrs. Jacques Heath (Lily May Peel)</td>\n",
       "      <td>female</td>\n",
       "      <td>35.0</td>\n",
       "      <td>1</td>\n",
       "      <td>0</td>\n",
       "      <td>113803</td>\n",
       "      <td>53.1000</td>\n",
       "      <td>WithCabin</td>\n",
       "      <td>S</td>\n",
       "      <td>Mrs</td>\n",
       "    </tr>\n",
       "    <tr>\n",
       "      <th>4</th>\n",
       "      <td>0.0</td>\n",
       "      <td>3</td>\n",
       "      <td>Allen, Mr. William Henry</td>\n",
       "      <td>male</td>\n",
       "      <td>35.0</td>\n",
       "      <td>0</td>\n",
       "      <td>0</td>\n",
       "      <td>373450</td>\n",
       "      <td>8.0500</td>\n",
       "      <td>WithoutCabin</td>\n",
       "      <td>S</td>\n",
       "      <td>Mr</td>\n",
       "    </tr>\n",
       "  </tbody>\n",
       "</table>\n",
       "</div>"
      ],
      "text/plain": [
       "   Survived  Pclass                                               Name  \\\n",
       "0       0.0       3                            Braund, Mr. Owen Harris   \n",
       "1       1.0       1  Cumings, Mrs. John Bradley (Florence Briggs Th...   \n",
       "2       1.0       3                             Heikkinen, Miss. Laina   \n",
       "3       1.0       1       Futrelle, Mrs. Jacques Heath (Lily May Peel)   \n",
       "4       0.0       3                           Allen, Mr. William Henry   \n",
       "\n",
       "      Sex   Age  SibSp  Parch            Ticket     Fare         Cabin  \\\n",
       "0    male  22.0      1      0         A/5 21171   7.2500  WithoutCabin   \n",
       "1  female  38.0      1      0          PC 17599  71.2833     WithCabin   \n",
       "2  female  26.0      0      0  STON/O2. 3101282   7.9250  WithoutCabin   \n",
       "3  female  35.0      1      0            113803  53.1000     WithCabin   \n",
       "4    male  35.0      0      0            373450   8.0500  WithoutCabin   \n",
       "\n",
       "  Embarked  Title  \n",
       "0        S     Mr  \n",
       "1        C    Mrs  \n",
       "2        S   Miss  \n",
       "3        S    Mrs  \n",
       "4        S     Mr  "
      ]
     },
     "execution_count": 28,
     "metadata": {},
     "output_type": "execute_result"
    }
   ],
   "source": [
    "# PassengerId is a unique id for all the passengers in our model training this data is not required\n",
    "# So we have to remove this column from our dataset\n",
    "\n",
    "df_train.drop('PassengerId', axis=1, inplace=True)\n",
    "df_train.head()"
   ]
  },
  {
   "cell_type": "markdown",
   "id": "2de10a3a",
   "metadata": {
    "execution": {
     "iopub.execute_input": "2024-01-14T11:39:35.701148Z",
     "iopub.status.busy": "2024-01-14T11:39:35.700639Z",
     "iopub.status.idle": "2024-01-14T11:39:35.707446Z",
     "shell.execute_reply": "2024-01-14T11:39:35.705268Z",
     "shell.execute_reply.started": "2024-01-14T11:39:35.701110Z"
    },
    "papermill": {
     "duration": 0.037707,
     "end_time": "2024-01-15T10:31:17.531459",
     "exception": false,
     "start_time": "2024-01-15T10:31:17.493752",
     "status": "completed"
    },
    "tags": []
   },
   "source": [
    "#### Pclass Column"
   ]
  },
  {
   "cell_type": "code",
   "execution_count": 29,
   "id": "48bb8747",
   "metadata": {
    "execution": {
     "iopub.execute_input": "2024-01-15T10:31:17.609487Z",
     "iopub.status.busy": "2024-01-15T10:31:17.608061Z",
     "iopub.status.idle": "2024-01-15T10:31:17.957189Z",
     "shell.execute_reply": "2024-01-15T10:31:17.955736Z"
    },
    "papermill": {
     "duration": 0.391596,
     "end_time": "2024-01-15T10:31:17.960214",
     "exception": false,
     "start_time": "2024-01-15T10:31:17.568618",
     "status": "completed"
    },
    "tags": []
   },
   "outputs": [
    {
     "data": {
      "image/png": "[encoded data removed]",
      "text/plain": [
       "<Figure size 640x480 with 1 Axes>"
      ]
     },
     "metadata": {},
     "output_type": "display_data"
    },
    {
     "name": "stdout",
     "output_type": "stream",
     "text": [
      "\n",
      "Pclass VS Survival Matrix:\n",
      "\n"
     ]
    },
    {
     "data": {
      "text/html": [
       "<div>\n",
       "<style scoped>\n",
       "    .dataframe tbody tr th:only-of-type {\n",
       "        vertical-align: middle;\n",
       "    }\n",
       "\n",
       "    .dataframe tbody tr th {\n",
       "        vertical-align: top;\n",
       "    }\n",
       "\n",
       "    .dataframe thead th {\n",
       "        text-align: right;\n",
       "    }\n",
       "</style>\n",
       "<table border=\"1\" class=\"dataframe\">\n",
       "  <thead>\n",
       "    <tr style=\"text-align: right;\">\n",
       "      <th>Survived</th>\n",
       "      <th>0.0</th>\n",
       "      <th>1.0</th>\n",
       "      <th>Survival_%</th>\n",
       "    </tr>\n",
       "    <tr>\n",
       "      <th>Pclass</th>\n",
       "      <th></th>\n",
       "      <th></th>\n",
       "      <th></th>\n",
       "    </tr>\n",
       "  </thead>\n",
       "  <tbody>\n",
       "    <tr>\n",
       "      <th>1</th>\n",
       "      <td>80</td>\n",
       "      <td>136</td>\n",
       "      <td>62.962963</td>\n",
       "    </tr>\n",
       "    <tr>\n",
       "      <th>2</th>\n",
       "      <td>97</td>\n",
       "      <td>87</td>\n",
       "      <td>47.282609</td>\n",
       "    </tr>\n",
       "    <tr>\n",
       "      <th>3</th>\n",
       "      <td>372</td>\n",
       "      <td>119</td>\n",
       "      <td>24.236253</td>\n",
       "    </tr>\n",
       "  </tbody>\n",
       "</table>\n",
       "</div>"
      ],
      "text/plain": [
       "Survived  0.0  1.0  Survival_%\n",
       "Pclass                        \n",
       "1          80  136   62.962963\n",
       "2          97   87   47.282609\n",
       "3         372  119   24.236253"
      ]
     },
     "execution_count": 29,
     "metadata": {},
     "output_type": "execute_result"
    }
   ],
   "source": [
    "# Check for the relation between Pclass and Survived.\n",
    "\n",
    "sns.countplot(data=df_train, x='Pclass', hue='Survived')\n",
    "plt.title(\"Pclass VS Survival Count\", fontdict = {'fontsize':20, 'fontweight':5, 'color':'Green'})\n",
    "plt.show()\n",
    "print(\"\\nPclass VS Survival Matrix:\\n\")\n",
    "pclass_survival = df_train.groupby(['Pclass', 'Survived']).size().unstack(fill_value=0)\n",
    "pclass_survival['Survival_%'] = pclass_survival[1]/pclass_survival.sum(axis=1)*100\n",
    "pclass_survival"
   ]
  },
  {
   "cell_type": "markdown",
   "id": "8eb3fc08",
   "metadata": {
    "papermill": {
     "duration": 0.037321,
     "end_time": "2024-01-15T10:31:18.035051",
     "exception": false,
     "start_time": "2024-01-15T10:31:17.997730",
     "status": "completed"
    },
    "tags": []
   },
   "source": [
    "**Observation**\n",
    "* <font color=Green>As per the above observation in between Pclass and Survival we can see that Survival rate of passenger traveling in class 1 hase more than class 2 and 3. So, Pclass is crucial for the model training"
   ]
  },
  {
   "cell_type": "markdown",
   "id": "4f8a779a",
   "metadata": {
    "papermill": {
     "duration": 0.03749,
     "end_time": "2024-01-15T10:31:18.111251",
     "exception": false,
     "start_time": "2024-01-15T10:31:18.073761",
     "status": "completed"
    },
    "tags": []
   },
   "source": [
    "#### Name Column"
   ]
  },
  {
   "cell_type": "code",
   "execution_count": 30,
   "id": "1d05b837",
   "metadata": {
    "execution": {
     "iopub.execute_input": "2024-01-15T10:31:18.192025Z",
     "iopub.status.busy": "2024-01-15T10:31:18.191200Z",
     "iopub.status.idle": "2024-01-15T10:31:18.213582Z",
     "shell.execute_reply": "2024-01-15T10:31:18.212212Z"
    },
    "papermill": {
     "duration": 0.06581,
     "end_time": "2024-01-15T10:31:18.216495",
     "exception": false,
     "start_time": "2024-01-15T10:31:18.150685",
     "status": "completed"
    },
    "tags": []
   },
   "outputs": [
    {
     "data": {
      "text/html": [
       "<div>\n",
       "<style scoped>\n",
       "    .dataframe tbody tr th:only-of-type {\n",
       "        vertical-align: middle;\n",
       "    }\n",
       "\n",
       "    .dataframe tbody tr th {\n",
       "        vertical-align: top;\n",
       "    }\n",
       "\n",
       "    .dataframe thead th {\n",
       "        text-align: right;\n",
       "    }\n",
       "</style>\n",
       "<table border=\"1\" class=\"dataframe\">\n",
       "  <thead>\n",
       "    <tr style=\"text-align: right;\">\n",
       "      <th></th>\n",
       "      <th>Survived</th>\n",
       "      <th>Pclass</th>\n",
       "      <th>Sex</th>\n",
       "      <th>Age</th>\n",
       "      <th>SibSp</th>\n",
       "      <th>Parch</th>\n",
       "      <th>Ticket</th>\n",
       "      <th>Fare</th>\n",
       "      <th>Cabin</th>\n",
       "      <th>Embarked</th>\n",
       "      <th>Title</th>\n",
       "    </tr>\n",
       "  </thead>\n",
       "  <tbody>\n",
       "    <tr>\n",
       "      <th>0</th>\n",
       "      <td>0.0</td>\n",
       "      <td>3</td>\n",
       "      <td>male</td>\n",
       "      <td>22.0</td>\n",
       "      <td>1</td>\n",
       "      <td>0</td>\n",
       "      <td>A/5 21171</td>\n",
       "      <td>7.2500</td>\n",
       "      <td>WithoutCabin</td>\n",
       "      <td>S</td>\n",
       "      <td>Mr</td>\n",
       "    </tr>\n",
       "    <tr>\n",
       "      <th>1</th>\n",
       "      <td>1.0</td>\n",
       "      <td>1</td>\n",
       "      <td>female</td>\n",
       "      <td>38.0</td>\n",
       "      <td>1</td>\n",
       "      <td>0</td>\n",
       "      <td>PC 17599</td>\n",
       "      <td>71.2833</td>\n",
       "      <td>WithCabin</td>\n",
       "      <td>C</td>\n",
       "      <td>Mrs</td>\n",
       "    </tr>\n",
       "    <tr>\n",
       "      <th>2</th>\n",
       "      <td>1.0</td>\n",
       "      <td>3</td>\n",
       "      <td>female</td>\n",
       "      <td>26.0</td>\n",
       "      <td>0</td>\n",
       "      <td>0</td>\n",
       "      <td>STON/O2. 3101282</td>\n",
       "      <td>7.9250</td>\n",
       "      <td>WithoutCabin</td>\n",
       "      <td>S</td>\n",
       "      <td>Miss</td>\n",
       "    </tr>\n",
       "    <tr>\n",
       "      <th>3</th>\n",
       "      <td>1.0</td>\n",
       "      <td>1</td>\n",
       "      <td>female</td>\n",
       "      <td>35.0</td>\n",
       "      <td>1</td>\n",
       "      <td>0</td>\n",
       "      <td>113803</td>\n",
       "      <td>53.1000</td>\n",
       "      <td>WithCabin</td>\n",
       "      <td>S</td>\n",
       "      <td>Mrs</td>\n",
       "    </tr>\n",
       "    <tr>\n",
       "      <th>4</th>\n",
       "      <td>0.0</td>\n",
       "      <td>3</td>\n",
       "      <td>male</td>\n",
       "      <td>35.0</td>\n",
       "      <td>0</td>\n",
       "      <td>0</td>\n",
       "      <td>373450</td>\n",
       "      <td>8.0500</td>\n",
       "      <td>WithoutCabin</td>\n",
       "      <td>S</td>\n",
       "      <td>Mr</td>\n",
       "    </tr>\n",
       "  </tbody>\n",
       "</table>\n",
       "</div>"
      ],
      "text/plain": [
       "   Survived  Pclass     Sex   Age  SibSp  Parch            Ticket     Fare  \\\n",
       "0       0.0       3    male  22.0      1      0         A/5 21171   7.2500   \n",
       "1       1.0       1  female  38.0      1      0          PC 17599  71.2833   \n",
       "2       1.0       3  female  26.0      0      0  STON/O2. 3101282   7.9250   \n",
       "3       1.0       1  female  35.0      1      0            113803  53.1000   \n",
       "4       0.0       3    male  35.0      0      0            373450   8.0500   \n",
       "\n",
       "          Cabin Embarked  Title  \n",
       "0  WithoutCabin        S     Mr  \n",
       "1     WithCabin        C    Mrs  \n",
       "2  WithoutCabin        S   Miss  \n",
       "3     WithCabin        S    Mrs  \n",
       "4  WithoutCabin        S     Mr  "
      ]
     },
     "execution_count": 30,
     "metadata": {},
     "output_type": "execute_result"
    }
   ],
   "source": [
    "# Name column is also a unique identifier for the passenger so we can remove this from our dataset\n",
    "\n",
    "df_train.drop('Name', axis=1, inplace=True)\n",
    "df_train.head()"
   ]
  },
  {
   "cell_type": "markdown",
   "id": "76fbd9ad",
   "metadata": {
    "papermill": {
     "duration": 0.037693,
     "end_time": "2024-01-15T10:31:18.292269",
     "exception": false,
     "start_time": "2024-01-15T10:31:18.254576",
     "status": "completed"
    },
    "tags": []
   },
   "source": [
    "#### Sex Column"
   ]
  },
  {
   "cell_type": "code",
   "execution_count": 31,
   "id": "9f7b28be",
   "metadata": {
    "execution": {
     "iopub.execute_input": "2024-01-15T10:31:18.373747Z",
     "iopub.status.busy": "2024-01-15T10:31:18.373269Z",
     "iopub.status.idle": "2024-01-15T10:31:18.681247Z",
     "shell.execute_reply": "2024-01-15T10:31:18.679887Z"
    },
    "papermill": {
     "duration": 0.35342,
     "end_time": "2024-01-15T10:31:18.683941",
     "exception": false,
     "start_time": "2024-01-15T10:31:18.330521",
     "status": "completed"
    },
    "tags": []
   },
   "outputs": [
    {
     "name": "stdout",
     "output_type": "stream",
     "text": [
      "Total count of male and female:\n",
      " Sex\n",
      "male      843\n",
      "female    466\n",
      "Name: count, dtype: int64\n"
     ]
    },
    {
     "data": {
      "image/png": "[encoded data removed]",
      "text/plain": [
       "<Figure size 640x480 with 1 Axes>"
      ]
     },
     "metadata": {},
     "output_type": "display_data"
    },
    {
     "name": "stdout",
     "output_type": "stream",
     "text": [
      "\n",
      "Sex VS Survived Matrix:\n",
      "\n"
     ]
    },
    {
     "data": {
      "text/html": [
       "<div>\n",
       "<style scoped>\n",
       "    .dataframe tbody tr th:only-of-type {\n",
       "        vertical-align: middle;\n",
       "    }\n",
       "\n",
       "    .dataframe tbody tr th {\n",
       "        vertical-align: top;\n",
       "    }\n",
       "\n",
       "    .dataframe thead th {\n",
       "        text-align: right;\n",
       "    }\n",
       "</style>\n",
       "<table border=\"1\" class=\"dataframe\">\n",
       "  <thead>\n",
       "    <tr style=\"text-align: right;\">\n",
       "      <th>Survived</th>\n",
       "      <th>0.0</th>\n",
       "      <th>1.0</th>\n",
       "      <th>Survival_%</th>\n",
       "    </tr>\n",
       "    <tr>\n",
       "      <th>Sex</th>\n",
       "      <th></th>\n",
       "      <th></th>\n",
       "      <th></th>\n",
       "    </tr>\n",
       "  </thead>\n",
       "  <tbody>\n",
       "    <tr>\n",
       "      <th>female</th>\n",
       "      <td>81</td>\n",
       "      <td>233</td>\n",
       "      <td>74.203822</td>\n",
       "    </tr>\n",
       "    <tr>\n",
       "      <th>male</th>\n",
       "      <td>468</td>\n",
       "      <td>109</td>\n",
       "      <td>18.890815</td>\n",
       "    </tr>\n",
       "  </tbody>\n",
       "</table>\n",
       "</div>"
      ],
      "text/plain": [
       "Survived  0.0  1.0  Survival_%\n",
       "Sex                           \n",
       "female     81  233   74.203822\n",
       "male      468  109   18.890815"
      ]
     },
     "execution_count": 31,
     "metadata": {},
     "output_type": "execute_result"
    }
   ],
   "source": [
    "# Sex column vs Survived\n",
    "\n",
    "print(\"Total count of male and female:\\n\", df_train.Sex.value_counts())\n",
    "\n",
    "sns.countplot(data=df_train, x='Sex', hue='Survived')\n",
    "plt.title(\"Sex VS Survived\", fontdict = {'fontsize':20, 'fontweight':5, 'color':'Green'})\n",
    "plt.show()\n",
    "\n",
    "print(\"\\nSex VS Survived Matrix:\\n\")\n",
    "sex_survival = df_train.groupby(['Sex', 'Survived']).size().unstack(fill_value=0)\n",
    "sex_survival['Survival_%'] = sex_survival[1]/sex_survival.sum(axis=1)*100\n",
    "sex_survival"
   ]
  },
  {
   "cell_type": "markdown",
   "id": "a76b391a",
   "metadata": {
    "papermill": {
     "duration": 0.037915,
     "end_time": "2024-01-15T10:31:18.760918",
     "exception": false,
     "start_time": "2024-01-15T10:31:18.723003",
     "status": "completed"
    },
    "tags": []
   },
   "source": [
    "**Observation**\n",
    "* <font color=Green>As per the Sex and Survival we can easily say that chance of women to survive is more than man."
   ]
  },
  {
   "cell_type": "markdown",
   "id": "c22bedc5",
   "metadata": {
    "papermill": {
     "duration": 0.039248,
     "end_time": "2024-01-15T10:31:18.838398",
     "exception": false,
     "start_time": "2024-01-15T10:31:18.799150",
     "status": "completed"
    },
    "tags": []
   },
   "source": [
    "#### Age Column"
   ]
  },
  {
   "cell_type": "code",
   "execution_count": 32,
   "id": "52a850cc",
   "metadata": {
    "execution": {
     "iopub.execute_input": "2024-01-15T10:31:18.919779Z",
     "iopub.status.busy": "2024-01-15T10:31:18.918859Z",
     "iopub.status.idle": "2024-01-15T10:31:19.182629Z",
     "shell.execute_reply": "2024-01-15T10:31:19.181120Z"
    },
    "papermill": {
     "duration": 0.307995,
     "end_time": "2024-01-15T10:31:19.185616",
     "exception": false,
     "start_time": "2024-01-15T10:31:18.877621",
     "status": "completed"
    },
    "tags": []
   },
   "outputs": [
    {
     "name": "stdout",
     "output_type": "stream",
     "text": [
      "count    1309.000000\n",
      "mean       29.896894\n",
      "std        13.193803\n",
      "min         0.170000\n",
      "25%        21.774238\n",
      "50%        30.000000\n",
      "75%        36.000000\n",
      "max        80.000000\n",
      "Name: Age, dtype: float64\n"
     ]
    },
    {
     "data": {
      "text/plain": [
       "<Axes: xlabel='Age'>"
      ]
     },
     "execution_count": 32,
     "metadata": {},
     "output_type": "execute_result"
    },
    {
     "data": {
      "image/png": "[encoded data removed]",
      "text/plain": [
       "<Figure size 640x480 with 1 Axes>"
      ]
     },
     "metadata": {},
     "output_type": "display_data"
    }
   ],
   "source": [
    "# To analyze the Age Vs Survival first we need to group the age in certain ranges.\n",
    "# First see the spread of the age again.\n",
    "\n",
    "print(df_train.Age.describe())\n",
    "sns.boxplot(x=df_train.Age)"
   ]
  },
  {
   "cell_type": "code",
   "execution_count": 33,
   "id": "4e0e1ca9",
   "metadata": {
    "execution": {
     "iopub.execute_input": "2024-01-15T10:31:19.267104Z",
     "iopub.status.busy": "2024-01-15T10:31:19.266567Z",
     "iopub.status.idle": "2024-01-15T10:31:19.293644Z",
     "shell.execute_reply": "2024-01-15T10:31:19.292225Z"
    },
    "papermill": {
     "duration": 0.070929,
     "end_time": "2024-01-15T10:31:19.296601",
     "exception": false,
     "start_time": "2024-01-15T10:31:19.225672",
     "status": "completed"
    },
    "tags": []
   },
   "outputs": [
    {
     "data": {
      "text/html": [
       "<div>\n",
       "<style scoped>\n",
       "    .dataframe tbody tr th:only-of-type {\n",
       "        vertical-align: middle;\n",
       "    }\n",
       "\n",
       "    .dataframe tbody tr th {\n",
       "        vertical-align: top;\n",
       "    }\n",
       "\n",
       "    .dataframe thead th {\n",
       "        text-align: right;\n",
       "    }\n",
       "</style>\n",
       "<table border=\"1\" class=\"dataframe\">\n",
       "  <thead>\n",
       "    <tr style=\"text-align: right;\">\n",
       "      <th></th>\n",
       "      <th>Survived</th>\n",
       "      <th>Pclass</th>\n",
       "      <th>Sex</th>\n",
       "      <th>Age</th>\n",
       "      <th>SibSp</th>\n",
       "      <th>Parch</th>\n",
       "      <th>Ticket</th>\n",
       "      <th>Fare</th>\n",
       "      <th>Cabin</th>\n",
       "      <th>Embarked</th>\n",
       "      <th>Title</th>\n",
       "      <th>Age_Range</th>\n",
       "    </tr>\n",
       "  </thead>\n",
       "  <tbody>\n",
       "    <tr>\n",
       "      <th>0</th>\n",
       "      <td>0.0</td>\n",
       "      <td>3</td>\n",
       "      <td>male</td>\n",
       "      <td>22.0</td>\n",
       "      <td>1</td>\n",
       "      <td>0</td>\n",
       "      <td>A/5 21171</td>\n",
       "      <td>7.2500</td>\n",
       "      <td>WithoutCabin</td>\n",
       "      <td>S</td>\n",
       "      <td>Mr</td>\n",
       "      <td>20-30</td>\n",
       "    </tr>\n",
       "    <tr>\n",
       "      <th>1</th>\n",
       "      <td>1.0</td>\n",
       "      <td>1</td>\n",
       "      <td>female</td>\n",
       "      <td>38.0</td>\n",
       "      <td>1</td>\n",
       "      <td>0</td>\n",
       "      <td>PC 17599</td>\n",
       "      <td>71.2833</td>\n",
       "      <td>WithCabin</td>\n",
       "      <td>C</td>\n",
       "      <td>Mrs</td>\n",
       "      <td>30-40</td>\n",
       "    </tr>\n",
       "    <tr>\n",
       "      <th>2</th>\n",
       "      <td>1.0</td>\n",
       "      <td>3</td>\n",
       "      <td>female</td>\n",
       "      <td>26.0</td>\n",
       "      <td>0</td>\n",
       "      <td>0</td>\n",
       "      <td>STON/O2. 3101282</td>\n",
       "      <td>7.9250</td>\n",
       "      <td>WithoutCabin</td>\n",
       "      <td>S</td>\n",
       "      <td>Miss</td>\n",
       "      <td>20-30</td>\n",
       "    </tr>\n",
       "    <tr>\n",
       "      <th>3</th>\n",
       "      <td>1.0</td>\n",
       "      <td>1</td>\n",
       "      <td>female</td>\n",
       "      <td>35.0</td>\n",
       "      <td>1</td>\n",
       "      <td>0</td>\n",
       "      <td>113803</td>\n",
       "      <td>53.1000</td>\n",
       "      <td>WithCabin</td>\n",
       "      <td>S</td>\n",
       "      <td>Mrs</td>\n",
       "      <td>30-40</td>\n",
       "    </tr>\n",
       "    <tr>\n",
       "      <th>4</th>\n",
       "      <td>0.0</td>\n",
       "      <td>3</td>\n",
       "      <td>male</td>\n",
       "      <td>35.0</td>\n",
       "      <td>0</td>\n",
       "      <td>0</td>\n",
       "      <td>373450</td>\n",
       "      <td>8.0500</td>\n",
       "      <td>WithoutCabin</td>\n",
       "      <td>S</td>\n",
       "      <td>Mr</td>\n",
       "      <td>30-40</td>\n",
       "    </tr>\n",
       "  </tbody>\n",
       "</table>\n",
       "</div>"
      ],
      "text/plain": [
       "   Survived  Pclass     Sex   Age  SibSp  Parch            Ticket     Fare  \\\n",
       "0       0.0       3    male  22.0      1      0         A/5 21171   7.2500   \n",
       "1       1.0       1  female  38.0      1      0          PC 17599  71.2833   \n",
       "2       1.0       3  female  26.0      0      0  STON/O2. 3101282   7.9250   \n",
       "3       1.0       1  female  35.0      1      0            113803  53.1000   \n",
       "4       0.0       3    male  35.0      0      0            373450   8.0500   \n",
       "\n",
       "          Cabin Embarked  Title Age_Range  \n",
       "0  WithoutCabin        S     Mr     20-30  \n",
       "1     WithCabin        C    Mrs     30-40  \n",
       "2  WithoutCabin        S   Miss     20-30  \n",
       "3     WithCabin        S    Mrs     30-40  \n",
       "4  WithoutCabin        S     Mr     30-40  "
      ]
     },
     "execution_count": 33,
     "metadata": {},
     "output_type": "execute_result"
    }
   ],
   "source": [
    "# lets make a new column name Age_Range\n",
    "# divide our range into 8 seperate groups ['0-10', '10-20', '20-30', '30-40', '40-50', '50-60', '60-70', '70-80']\n",
    "\n",
    "df_train['Age_Range'] = pd.cut(df_train.Age, bins=8, labels=['0-10', '10-20', '20-30', '30-40', '40-50', '50-60', '60-70', '70-80'])\n",
    "df_train.head()"
   ]
  },
  {
   "cell_type": "code",
   "execution_count": 34,
   "id": "6de6c1cc",
   "metadata": {
    "execution": {
     "iopub.execute_input": "2024-01-15T10:31:19.381969Z",
     "iopub.status.busy": "2024-01-15T10:31:19.380736Z",
     "iopub.status.idle": "2024-01-15T10:31:19.805074Z",
     "shell.execute_reply": "2024-01-15T10:31:19.803875Z"
    },
    "papermill": {
     "duration": 0.470025,
     "end_time": "2024-01-15T10:31:19.807533",
     "exception": false,
     "start_time": "2024-01-15T10:31:19.337508",
     "status": "completed"
    },
    "tags": []
   },
   "outputs": [
    {
     "name": "stdout",
     "output_type": "stream",
     "text": [
      "Total no of passenger in all age range:\n",
      " Age_Range\n",
      "30-40    413\n",
      "20-30    412\n",
      "10-20    162\n",
      "40-50    133\n",
      "0-10      94\n",
      "50-60     62\n",
      "60-70     27\n",
      "70-80      6\n",
      "Name: count, dtype: int64\n"
     ]
    },
    {
     "data": {
      "image/png": "[encoded data removed]",
      "text/plain": [
       "<Figure size 640x480 with 1 Axes>"
      ]
     },
     "metadata": {},
     "output_type": "display_data"
    },
    {
     "name": "stdout",
     "output_type": "stream",
     "text": [
      "\n",
      "Age_Range vs Survival Matrix:\n",
      "\n"
     ]
    },
    {
     "data": {
      "text/html": [
       "<div>\n",
       "<style scoped>\n",
       "    .dataframe tbody tr th:only-of-type {\n",
       "        vertical-align: middle;\n",
       "    }\n",
       "\n",
       "    .dataframe tbody tr th {\n",
       "        vertical-align: top;\n",
       "    }\n",
       "\n",
       "    .dataframe thead th {\n",
       "        text-align: right;\n",
       "    }\n",
       "</style>\n",
       "<table border=\"1\" class=\"dataframe\">\n",
       "  <thead>\n",
       "    <tr style=\"text-align: right;\">\n",
       "      <th>Survived</th>\n",
       "      <th>0.0</th>\n",
       "      <th>1.0</th>\n",
       "      <th>Survival_%</th>\n",
       "    </tr>\n",
       "    <tr>\n",
       "      <th>Age_Range</th>\n",
       "      <th></th>\n",
       "      <th></th>\n",
       "      <th></th>\n",
       "    </tr>\n",
       "  </thead>\n",
       "  <tbody>\n",
       "    <tr>\n",
       "      <th>0-10</th>\n",
       "      <td>28</td>\n",
       "      <td>40</td>\n",
       "      <td>58.823529</td>\n",
       "    </tr>\n",
       "    <tr>\n",
       "      <th>10-20</th>\n",
       "      <td>71</td>\n",
       "      <td>44</td>\n",
       "      <td>38.260870</td>\n",
       "    </tr>\n",
       "    <tr>\n",
       "      <th>20-30</th>\n",
       "      <td>160</td>\n",
       "      <td>106</td>\n",
       "      <td>39.849624</td>\n",
       "    </tr>\n",
       "    <tr>\n",
       "      <th>30-40</th>\n",
       "      <td>194</td>\n",
       "      <td>97</td>\n",
       "      <td>33.333333</td>\n",
       "    </tr>\n",
       "    <tr>\n",
       "      <th>40-50</th>\n",
       "      <td>54</td>\n",
       "      <td>33</td>\n",
       "      <td>37.931034</td>\n",
       "    </tr>\n",
       "    <tr>\n",
       "      <th>50-60</th>\n",
       "      <td>25</td>\n",
       "      <td>17</td>\n",
       "      <td>40.476190</td>\n",
       "    </tr>\n",
       "    <tr>\n",
       "      <th>60-70</th>\n",
       "      <td>13</td>\n",
       "      <td>4</td>\n",
       "      <td>23.529412</td>\n",
       "    </tr>\n",
       "    <tr>\n",
       "      <th>70-80</th>\n",
       "      <td>4</td>\n",
       "      <td>1</td>\n",
       "      <td>20.000000</td>\n",
       "    </tr>\n",
       "  </tbody>\n",
       "</table>\n",
       "</div>"
      ],
      "text/plain": [
       "Survived   0.0  1.0  Survival_%\n",
       "Age_Range                      \n",
       "0-10        28   40   58.823529\n",
       "10-20       71   44   38.260870\n",
       "20-30      160  106   39.849624\n",
       "30-40      194   97   33.333333\n",
       "40-50       54   33   37.931034\n",
       "50-60       25   17   40.476190\n",
       "60-70       13    4   23.529412\n",
       "70-80        4    1   20.000000"
      ]
     },
     "execution_count": 34,
     "metadata": {},
     "output_type": "execute_result"
    }
   ],
   "source": [
    "# lets take a look at the no. of passenger in all age ranges\n",
    "print(\"Total no of passenger in all age range:\\n\", df_train.Age_Range.value_counts())\n",
    "\n",
    "# Plot Age_Range vs Survival plot\n",
    "sns.countplot(data=df_train, x='Age_Range', hue='Survived')\n",
    "plt.title(\"Age_Range VS Survival\", fontdict = {'fontsize':20, 'fontweight':5, 'color':'Green'})\n",
    "plt.show()\n",
    "\n",
    "# Age_Range vs Survival Matrix\n",
    "print(\"\\nAge_Range vs Survival Matrix:\\n\")\n",
    "Age_Range_Survival = df_train.groupby(['Age_Range', 'Survived']).size().unstack(fill_value=0)\n",
    "Age_Range_Survival['Survival_%'] = 100*Age_Range_Survival[1]/Age_Range_Survival.sum(axis=1)\n",
    "Age_Range_Survival"
   ]
  },
  {
   "cell_type": "markdown",
   "id": "5b39fd18",
   "metadata": {
    "execution": {
     "iopub.execute_input": "2024-01-14T09:26:55.127028Z",
     "iopub.status.busy": "2024-01-14T09:26:55.126524Z",
     "iopub.status.idle": "2024-01-14T09:26:55.141630Z",
     "shell.execute_reply": "2024-01-14T09:26:55.139951Z",
     "shell.execute_reply.started": "2024-01-14T09:26:55.126978Z"
    },
    "papermill": {
     "duration": 0.040311,
     "end_time": "2024-01-15T10:31:19.888390",
     "exception": false,
     "start_time": "2024-01-15T10:31:19.848079",
     "status": "completed"
    },
    "tags": []
   },
   "source": [
    "**Observation**\n",
    "* <font color=Green>As per the above Observation we can notice that the survival rate of the kids are High 0-10.\n",
    "* <font color=Green>We can also see that Survival rate from 10-30 and 40-60 is approx same.\n",
    "* <font color=Green>And there is very less survival rate for old peoples 60-80."
   ]
  },
  {
   "cell_type": "markdown",
   "id": "8722a532",
   "metadata": {
    "papermill": {
     "duration": 0.040943,
     "end_time": "2024-01-15T10:31:19.971573",
     "exception": false,
     "start_time": "2024-01-15T10:31:19.930630",
     "status": "completed"
    },
    "tags": []
   },
   "source": [
    "### We need to look for the dip in the survival percentage of 30-40 age range and 60- 80 age range. Maybe just being old is not the reason."
   ]
  },
  {
   "cell_type": "code",
   "execution_count": 35,
   "id": "12a15fc0",
   "metadata": {
    "execution": {
     "iopub.execute_input": "2024-01-15T10:31:20.056464Z",
     "iopub.status.busy": "2024-01-15T10:31:20.055514Z",
     "iopub.status.idle": "2024-01-15T10:31:20.460304Z",
     "shell.execute_reply": "2024-01-15T10:31:20.459223Z"
    },
    "papermill": {
     "duration": 0.450979,
     "end_time": "2024-01-15T10:31:20.463938",
     "exception": false,
     "start_time": "2024-01-15T10:31:20.012959",
     "status": "completed"
    },
    "tags": []
   },
   "outputs": [
    {
     "data": {
      "text/plain": [
       "<Axes: xlabel='Age_Range', ylabel='count'>"
      ]
     },
     "execution_count": 35,
     "metadata": {},
     "output_type": "execute_result"
    },
    {
     "data": {
      "image/png": "[encoded data removed]",
      "text/plain": [
       "<Figure size 640x480 with 1 Axes>"
      ]
     },
     "metadata": {},
     "output_type": "display_data"
    }
   ],
   "source": [
    "# Plot the count plot for Age_Range and Sex\n",
    "\n",
    "sns.countplot(data=df_train, x='Age_Range', hue='Sex')"
   ]
  },
  {
   "cell_type": "code",
   "execution_count": 36,
   "id": "90ac1db0",
   "metadata": {
    "execution": {
     "iopub.execute_input": "2024-01-15T10:31:20.551069Z",
     "iopub.status.busy": "2024-01-15T10:31:20.550175Z",
     "iopub.status.idle": "2024-01-15T10:31:20.567582Z",
     "shell.execute_reply": "2024-01-15T10:31:20.566536Z"
    },
    "papermill": {
     "duration": 0.064707,
     "end_time": "2024-01-15T10:31:20.569962",
     "exception": false,
     "start_time": "2024-01-15T10:31:20.505255",
     "status": "completed"
    },
    "tags": []
   },
   "outputs": [
    {
     "name": "stdout",
     "output_type": "stream",
     "text": [
      "\u001b[1mNo.of people died in Range-(60-80):\u001b[0m\n",
      "Sex\n",
      "male    17\n",
      "Name: count, dtype: int64\n",
      "\n",
      "\u001b[1mNo.of people Survived in Range-(60-80):\u001b[0m\n"
     ]
    },
    {
     "data": {
      "text/plain": [
       "Sex\n",
       "female    3\n",
       "male      2\n",
       "Name: count, dtype: int64"
      ]
     },
     "execution_count": 36,
     "metadata": {},
     "output_type": "execute_result"
    }
   ],
   "source": [
    "print(\"\\033[1mNo.of people died in Range-(60-80):\\033[0m\")\n",
    "print(df_train[((df_train.Age_Range=='60-70') | (df_train.Age_Range=='70-80')) & (df_train.Survived==0)].Sex.value_counts())\n",
    "\n",
    "print(\"\\n\\033[1mNo.of people Survived in Range-(60-80):\\033[0m\")\n",
    "df_train[((df_train.Age_Range=='60-70') | (df_train.Age_Range=='70-80')) & (df_train.Survived==1)].Sex.value_counts()"
   ]
  },
  {
   "cell_type": "code",
   "execution_count": 37,
   "id": "e3d5047d",
   "metadata": {
    "execution": {
     "iopub.execute_input": "2024-01-15T10:31:20.655495Z",
     "iopub.status.busy": "2024-01-15T10:31:20.654592Z",
     "iopub.status.idle": "2024-01-15T10:31:20.668095Z",
     "shell.execute_reply": "2024-01-15T10:31:20.666822Z"
    },
    "papermill": {
     "duration": 0.058681,
     "end_time": "2024-01-15T10:31:20.670371",
     "exception": false,
     "start_time": "2024-01-15T10:31:20.611690",
     "status": "completed"
    },
    "tags": []
   },
   "outputs": [
    {
     "name": "stdout",
     "output_type": "stream",
     "text": [
      "\u001b[1mNo.of people died in Range-(30-40):\u001b[0m\n",
      "Sex\n",
      "male      182\n",
      "female     12\n",
      "Name: count, dtype: int64\n",
      "\n",
      "\u001b[1mNo.of people Survived in Range-(30-40):\u001b[0m\n",
      "Sex\n",
      "female    60\n",
      "male      37\n",
      "Name: count, dtype: int64\n"
     ]
    }
   ],
   "source": [
    "print(\"\\033[1mNo.of people died in Range-(30-40):\\033[0m\")\n",
    "print(df_train[(df_train.Age_Range=='30-40') & (df_train.Survived==0)].Sex.value_counts())\n",
    "\n",
    "print(\"\\n\\033[1mNo.of people Survived in Range-(30-40):\\033[0m\")\n",
    "print(df_train[(df_train.Age_Range=='30-40') & (df_train.Survived==1)].Sex.value_counts())"
   ]
  },
  {
   "cell_type": "markdown",
   "id": "b18ab4f5",
   "metadata": {
    "papermill": {
     "duration": 0.040777,
     "end_time": "2024-01-15T10:31:20.752861",
     "exception": false,
     "start_time": "2024-01-15T10:31:20.712084",
     "status": "completed"
    },
    "tags": []
   },
   "source": [
    "**Observation**\n",
    "1. <font color=Green>In range 60-80 only men have died all females were saved.\n",
    "2. <font color=Green>The difference we observed in the range 30-40 was because there are more number of males present in that range and the death of male is quite high."
   ]
  },
  {
   "cell_type": "markdown",
   "id": "fda21c30",
   "metadata": {
    "papermill": {
     "duration": 0.040943,
     "end_time": "2024-01-15T10:31:20.835400",
     "exception": false,
     "start_time": "2024-01-15T10:31:20.794457",
     "status": "completed"
    },
    "tags": []
   },
   "source": [
    "#### SibSp and ParCh columns"
   ]
  },
  {
   "cell_type": "code",
   "execution_count": 38,
   "id": "c589cf0c",
   "metadata": {
    "execution": {
     "iopub.execute_input": "2024-01-15T10:31:20.923510Z",
     "iopub.status.busy": "2024-01-15T10:31:20.921468Z",
     "iopub.status.idle": "2024-01-15T10:31:21.208506Z",
     "shell.execute_reply": "2024-01-15T10:31:21.207004Z"
    },
    "papermill": {
     "duration": 0.33574,
     "end_time": "2024-01-15T10:31:21.212851",
     "exception": false,
     "start_time": "2024-01-15T10:31:20.877111",
     "status": "completed"
    },
    "tags": []
   },
   "outputs": [
    {
     "name": "stdout",
     "output_type": "stream",
     "text": [
      "SibSp\n",
      "0    891\n",
      "1    319\n",
      "2     42\n",
      "4     22\n",
      "3     20\n",
      "8      9\n",
      "5      6\n",
      "Name: count, dtype: int64\n"
     ]
    },
    {
     "data": {
      "text/plain": [
       "<Axes: xlabel='SibSp'>"
      ]
     },
     "execution_count": 38,
     "metadata": {},
     "output_type": "execute_result"
    },
    {
     "data": {
      "image/png": "[encoded data removed]",
      "text/plain": [
       "<Figure size 640x480 with 1 Axes>"
      ]
     },
     "metadata": {},
     "output_type": "display_data"
    }
   ],
   "source": [
    "# lets chek for the count of people who are traveling with Sibling and spouse\n",
    "\n",
    "print(df_train.SibSp.value_counts())\n",
    "df_train.SibSp.value_counts().plot.bar()"
   ]
  },
  {
   "cell_type": "code",
   "execution_count": 39,
   "id": "71d57e08",
   "metadata": {
    "execution": {
     "iopub.execute_input": "2024-01-15T10:31:21.306942Z",
     "iopub.status.busy": "2024-01-15T10:31:21.306369Z",
     "iopub.status.idle": "2024-01-15T10:31:21.721140Z",
     "shell.execute_reply": "2024-01-15T10:31:21.719774Z"
    },
    "papermill": {
     "duration": 0.467516,
     "end_time": "2024-01-15T10:31:21.723926",
     "exception": false,
     "start_time": "2024-01-15T10:31:21.256410",
     "status": "completed"
    },
    "tags": []
   },
   "outputs": [
    {
     "data": {
      "image/png": "[encoded data removed]",
      "text/plain": [
       "<Figure size 640x480 with 1 Axes>"
      ]
     },
     "metadata": {},
     "output_type": "display_data"
    },
    {
     "data": {
      "text/html": [
       "<div>\n",
       "<style scoped>\n",
       "    .dataframe tbody tr th:only-of-type {\n",
       "        vertical-align: middle;\n",
       "    }\n",
       "\n",
       "    .dataframe tbody tr th {\n",
       "        vertical-align: top;\n",
       "    }\n",
       "\n",
       "    .dataframe thead th {\n",
       "        text-align: right;\n",
       "    }\n",
       "</style>\n",
       "<table border=\"1\" class=\"dataframe\">\n",
       "  <thead>\n",
       "    <tr style=\"text-align: right;\">\n",
       "      <th>Survived</th>\n",
       "      <th>0.0</th>\n",
       "      <th>1.0</th>\n",
       "      <th>Survival_%</th>\n",
       "    </tr>\n",
       "    <tr>\n",
       "      <th>SibSp</th>\n",
       "      <th></th>\n",
       "      <th></th>\n",
       "      <th></th>\n",
       "    </tr>\n",
       "  </thead>\n",
       "  <tbody>\n",
       "    <tr>\n",
       "      <th>0</th>\n",
       "      <td>398</td>\n",
       "      <td>210</td>\n",
       "      <td>34.539474</td>\n",
       "    </tr>\n",
       "    <tr>\n",
       "      <th>1</th>\n",
       "      <td>97</td>\n",
       "      <td>112</td>\n",
       "      <td>53.588517</td>\n",
       "    </tr>\n",
       "    <tr>\n",
       "      <th>2</th>\n",
       "      <td>15</td>\n",
       "      <td>13</td>\n",
       "      <td>46.428571</td>\n",
       "    </tr>\n",
       "    <tr>\n",
       "      <th>3</th>\n",
       "      <td>12</td>\n",
       "      <td>4</td>\n",
       "      <td>25.000000</td>\n",
       "    </tr>\n",
       "    <tr>\n",
       "      <th>4</th>\n",
       "      <td>15</td>\n",
       "      <td>3</td>\n",
       "      <td>16.666667</td>\n",
       "    </tr>\n",
       "    <tr>\n",
       "      <th>5</th>\n",
       "      <td>5</td>\n",
       "      <td>0</td>\n",
       "      <td>0.000000</td>\n",
       "    </tr>\n",
       "    <tr>\n",
       "      <th>8</th>\n",
       "      <td>7</td>\n",
       "      <td>0</td>\n",
       "      <td>0.000000</td>\n",
       "    </tr>\n",
       "  </tbody>\n",
       "</table>\n",
       "</div>"
      ],
      "text/plain": [
       "Survived  0.0  1.0  Survival_%\n",
       "SibSp                         \n",
       "0         398  210   34.539474\n",
       "1          97  112   53.588517\n",
       "2          15   13   46.428571\n",
       "3          12    4   25.000000\n",
       "4          15    3   16.666667\n",
       "5           5    0    0.000000\n",
       "8           7    0    0.000000"
      ]
     },
     "execution_count": 39,
     "metadata": {},
     "output_type": "execute_result"
    }
   ],
   "source": [
    "# Lets check for the relation between survived and sibsp\n",
    "# To check which kind of traveller has more chance of survival\n",
    "sns.countplot(data=df_train, x='SibSp', hue='Survived')\n",
    "plt.title(\"SibSp VS Survived\", fontdict = {'fontsize':20, 'fontweight':5, 'color':'Green'})\n",
    "plt.show()\n",
    "# Create a matrix\n",
    "sibsp_survival = df_train.groupby(['SibSp', 'Survived']).size().unstack(fill_value=0)\n",
    "sibsp_survival['Survival_%'] = sibsp_survival[1]/sibsp_survival.sum(axis=1)*100\n",
    "sibsp_survival"
   ]
  },
  {
   "cell_type": "markdown",
   "id": "3d5ba6a7",
   "metadata": {
    "papermill": {
     "duration": 0.043879,
     "end_time": "2024-01-15T10:31:21.810832",
     "exception": false,
     "start_time": "2024-01-15T10:31:21.766953",
     "status": "completed"
    },
    "tags": []
   },
   "source": [
    "**Observation**\n",
    "* <font color=Green>Passengers Travelling with more than 4 SibSp have no chance to survive whereas passenger with 1 SibSp has the higher chance to survive."
   ]
  },
  {
   "cell_type": "code",
   "execution_count": 40,
   "id": "e88deebd",
   "metadata": {
    "execution": {
     "iopub.execute_input": "2024-01-15T10:31:21.900492Z",
     "iopub.status.busy": "2024-01-15T10:31:21.900013Z",
     "iopub.status.idle": "2024-01-15T10:31:22.195497Z",
     "shell.execute_reply": "2024-01-15T10:31:22.194247Z"
    },
    "papermill": {
     "duration": 0.344321,
     "end_time": "2024-01-15T10:31:22.198191",
     "exception": false,
     "start_time": "2024-01-15T10:31:21.853870",
     "status": "completed"
    },
    "tags": []
   },
   "outputs": [
    {
     "name": "stdout",
     "output_type": "stream",
     "text": [
      "Parch\n",
      "0    1002\n",
      "1     170\n",
      "2     113\n",
      "3       8\n",
      "5       6\n",
      "4       6\n",
      "6       2\n",
      "9       2\n",
      "Name: count, dtype: int64\n"
     ]
    },
    {
     "data": {
      "text/plain": [
       "<Axes: xlabel='Parch'>"
      ]
     },
     "execution_count": 40,
     "metadata": {},
     "output_type": "execute_result"
    },
    {
     "data": {
      "image/png": "[encoded data removed]",
      "text/plain": [
       "<Figure size 640x480 with 1 Axes>"
      ]
     },
     "metadata": {},
     "output_type": "display_data"
    }
   ],
   "source": [
    "# Letch do the same analysis on ParCh\n",
    "\n",
    "print(df_train.Parch.value_counts())\n",
    "df_train.Parch.value_counts().plot.bar()"
   ]
  },
  {
   "cell_type": "code",
   "execution_count": 41,
   "id": "415bb2a1",
   "metadata": {
    "execution": {
     "iopub.execute_input": "2024-01-15T10:31:22.289013Z",
     "iopub.status.busy": "2024-01-15T10:31:22.287642Z",
     "iopub.status.idle": "2024-01-15T10:31:22.890165Z",
     "shell.execute_reply": "2024-01-15T10:31:22.888870Z"
    },
    "papermill": {
     "duration": 0.650441,
     "end_time": "2024-01-15T10:31:22.892755",
     "exception": false,
     "start_time": "2024-01-15T10:31:22.242314",
     "status": "completed"
    },
    "tags": []
   },
   "outputs": [
    {
     "data": {
      "image/png": "[encoded data removed]",
      "text/plain": [
       "<Figure size 640x480 with 1 Axes>"
      ]
     },
     "metadata": {},
     "output_type": "display_data"
    },
    {
     "data": {
      "text/html": [
       "<div>\n",
       "<style scoped>\n",
       "    .dataframe tbody tr th:only-of-type {\n",
       "        vertical-align: middle;\n",
       "    }\n",
       "\n",
       "    .dataframe tbody tr th {\n",
       "        vertical-align: top;\n",
       "    }\n",
       "\n",
       "    .dataframe thead th {\n",
       "        text-align: right;\n",
       "    }\n",
       "</style>\n",
       "<table border=\"1\" class=\"dataframe\">\n",
       "  <thead>\n",
       "    <tr style=\"text-align: right;\">\n",
       "      <th>Survived</th>\n",
       "      <th>0.0</th>\n",
       "      <th>1.0</th>\n",
       "      <th>Survival_%</th>\n",
       "    </tr>\n",
       "    <tr>\n",
       "      <th>Parch</th>\n",
       "      <th></th>\n",
       "      <th></th>\n",
       "      <th></th>\n",
       "    </tr>\n",
       "  </thead>\n",
       "  <tbody>\n",
       "    <tr>\n",
       "      <th>0</th>\n",
       "      <td>445</td>\n",
       "      <td>233</td>\n",
       "      <td>34.365782</td>\n",
       "    </tr>\n",
       "    <tr>\n",
       "      <th>1</th>\n",
       "      <td>53</td>\n",
       "      <td>65</td>\n",
       "      <td>55.084746</td>\n",
       "    </tr>\n",
       "    <tr>\n",
       "      <th>2</th>\n",
       "      <td>40</td>\n",
       "      <td>40</td>\n",
       "      <td>50.000000</td>\n",
       "    </tr>\n",
       "    <tr>\n",
       "      <th>3</th>\n",
       "      <td>2</td>\n",
       "      <td>3</td>\n",
       "      <td>60.000000</td>\n",
       "    </tr>\n",
       "    <tr>\n",
       "      <th>4</th>\n",
       "      <td>4</td>\n",
       "      <td>0</td>\n",
       "      <td>0.000000</td>\n",
       "    </tr>\n",
       "    <tr>\n",
       "      <th>5</th>\n",
       "      <td>4</td>\n",
       "      <td>1</td>\n",
       "      <td>20.000000</td>\n",
       "    </tr>\n",
       "    <tr>\n",
       "      <th>6</th>\n",
       "      <td>1</td>\n",
       "      <td>0</td>\n",
       "      <td>0.000000</td>\n",
       "    </tr>\n",
       "  </tbody>\n",
       "</table>\n",
       "</div>"
      ],
      "text/plain": [
       "Survived  0.0  1.0  Survival_%\n",
       "Parch                         \n",
       "0         445  233   34.365782\n",
       "1          53   65   55.084746\n",
       "2          40   40   50.000000\n",
       "3           2    3   60.000000\n",
       "4           4    0    0.000000\n",
       "5           4    1   20.000000\n",
       "6           1    0    0.000000"
      ]
     },
     "execution_count": 41,
     "metadata": {},
     "output_type": "execute_result"
    }
   ],
   "source": [
    "# Lets check for the relation between survived and Parch\n",
    "# To check which kind of traveller has more chance of survival\n",
    "sns.countplot(data=df_train, x='Parch', hue='Survived')\n",
    "plt.title(\"Parch VS Survived\", fontdict = {'fontsize':20, 'fontweight':5, 'color':'Green'})\n",
    "plt.show()\n",
    "\n",
    "# Create a matrix\n",
    "parch_survival = df_train.groupby(['Parch', 'Survived']).size().unstack(fill_value=0)\n",
    "parch_survival['Survival_%'] = parch_survival[1]/parch_survival.sum(axis=1)*100\n",
    "parch_survival"
   ]
  },
  {
   "cell_type": "markdown",
   "id": "02b1d28c",
   "metadata": {
    "papermill": {
     "duration": 0.044501,
     "end_time": "2024-01-15T10:31:22.981668",
     "exception": false,
     "start_time": "2024-01-15T10:31:22.937167",
     "status": "completed"
    },
    "tags": []
   },
   "source": [
    "**Observation**\n",
    "* <font color=Green>Travellers who has no Parent and children and have more than 4 parent or children has less chances of survival.\n",
    "* <font color=Green>Whereas Travellers who has atleat 1 parent of children and till 3 parent and children has more chances of survival.\n",
    "* <font color=Green>It may be possible because Parents are trying to save their children first, or young children are trying to save their old parents first. Anything is possible in this scenario."
   ]
  },
  {
   "cell_type": "markdown",
   "id": "3a458c52",
   "metadata": {
    "papermill": {
     "duration": 0.045077,
     "end_time": "2024-01-15T10:31:23.070991",
     "exception": false,
     "start_time": "2024-01-15T10:31:23.025914",
     "status": "completed"
    },
    "tags": []
   },
   "source": [
    "#### Ticket Column"
   ]
  },
  {
   "cell_type": "code",
   "execution_count": 42,
   "id": "69dbab5e",
   "metadata": {
    "execution": {
     "iopub.execute_input": "2024-01-15T10:31:23.161988Z",
     "iopub.status.busy": "2024-01-15T10:31:23.161439Z",
     "iopub.status.idle": "2024-01-15T10:31:23.172967Z",
     "shell.execute_reply": "2024-01-15T10:31:23.171698Z"
    },
    "papermill": {
     "duration": 0.060188,
     "end_time": "2024-01-15T10:31:23.175500",
     "exception": false,
     "start_time": "2024-01-15T10:31:23.115312",
     "status": "completed"
    },
    "tags": []
   },
   "outputs": [
    {
     "data": {
      "text/plain": [
       "Ticket\n",
       "CA. 2343        11\n",
       "CA 2144          8\n",
       "1601             8\n",
       "PC 17608         7\n",
       "S.O.C. 14879     7\n",
       "                ..\n",
       "113792           1\n",
       "36209            1\n",
       "323592           1\n",
       "315089           1\n",
       "359309           1\n",
       "Name: count, Length: 929, dtype: int64"
      ]
     },
     "execution_count": 42,
     "metadata": {},
     "output_type": "execute_result"
    }
   ],
   "source": [
    "df_train.Ticket.value_counts(ascending=False)"
   ]
  },
  {
   "cell_type": "code",
   "execution_count": 43,
   "id": "e9ba29fa",
   "metadata": {
    "execution": {
     "iopub.execute_input": "2024-01-15T10:31:23.267178Z",
     "iopub.status.busy": "2024-01-15T10:31:23.266437Z",
     "iopub.status.idle": "2024-01-15T10:31:23.274508Z",
     "shell.execute_reply": "2024-01-15T10:31:23.273225Z"
    },
    "papermill": {
     "duration": 0.056944,
     "end_time": "2024-01-15T10:31:23.277235",
     "exception": false,
     "start_time": "2024-01-15T10:31:23.220291",
     "status": "completed"
    },
    "tags": []
   },
   "outputs": [
    {
     "data": {
      "text/plain": [
       "929"
      ]
     },
     "execution_count": 43,
     "metadata": {},
     "output_type": "execute_result"
    }
   ],
   "source": [
    "df_train.Ticket.nunique()"
   ]
  },
  {
   "cell_type": "code",
   "execution_count": 44,
   "id": "37da1838",
   "metadata": {
    "execution": {
     "iopub.execute_input": "2024-01-15T10:31:23.369541Z",
     "iopub.status.busy": "2024-01-15T10:31:23.368120Z",
     "iopub.status.idle": "2024-01-15T10:31:23.392997Z",
     "shell.execute_reply": "2024-01-15T10:31:23.391495Z"
    },
    "papermill": {
     "duration": 0.073515,
     "end_time": "2024-01-15T10:31:23.395628",
     "exception": false,
     "start_time": "2024-01-15T10:31:23.322113",
     "status": "completed"
    },
    "tags": []
   },
   "outputs": [
    {
     "data": {
      "text/html": [
       "<div>\n",
       "<style scoped>\n",
       "    .dataframe tbody tr th:only-of-type {\n",
       "        vertical-align: middle;\n",
       "    }\n",
       "\n",
       "    .dataframe tbody tr th {\n",
       "        vertical-align: top;\n",
       "    }\n",
       "\n",
       "    .dataframe thead th {\n",
       "        text-align: right;\n",
       "    }\n",
       "</style>\n",
       "<table border=\"1\" class=\"dataframe\">\n",
       "  <thead>\n",
       "    <tr style=\"text-align: right;\">\n",
       "      <th></th>\n",
       "      <th>Survived</th>\n",
       "      <th>Pclass</th>\n",
       "      <th>Sex</th>\n",
       "      <th>Age</th>\n",
       "      <th>SibSp</th>\n",
       "      <th>Parch</th>\n",
       "      <th>Ticket</th>\n",
       "      <th>Fare</th>\n",
       "      <th>Cabin</th>\n",
       "      <th>Embarked</th>\n",
       "      <th>Title</th>\n",
       "      <th>Age_Range</th>\n",
       "    </tr>\n",
       "  </thead>\n",
       "  <tbody>\n",
       "    <tr>\n",
       "      <th>13</th>\n",
       "      <td>0.0</td>\n",
       "      <td>3</td>\n",
       "      <td>male</td>\n",
       "      <td>39.0</td>\n",
       "      <td>1</td>\n",
       "      <td>5</td>\n",
       "      <td>347082</td>\n",
       "      <td>31.275</td>\n",
       "      <td>WithoutCabin</td>\n",
       "      <td>S</td>\n",
       "      <td>Mr</td>\n",
       "      <td>30-40</td>\n",
       "    </tr>\n",
       "    <tr>\n",
       "      <th>119</th>\n",
       "      <td>0.0</td>\n",
       "      <td>3</td>\n",
       "      <td>female</td>\n",
       "      <td>2.0</td>\n",
       "      <td>4</td>\n",
       "      <td>2</td>\n",
       "      <td>347082</td>\n",
       "      <td>31.275</td>\n",
       "      <td>WithoutCabin</td>\n",
       "      <td>S</td>\n",
       "      <td>Miss</td>\n",
       "      <td>0-10</td>\n",
       "    </tr>\n",
       "    <tr>\n",
       "      <th>541</th>\n",
       "      <td>0.0</td>\n",
       "      <td>3</td>\n",
       "      <td>female</td>\n",
       "      <td>9.0</td>\n",
       "      <td>4</td>\n",
       "      <td>2</td>\n",
       "      <td>347082</td>\n",
       "      <td>31.275</td>\n",
       "      <td>WithoutCabin</td>\n",
       "      <td>S</td>\n",
       "      <td>Miss</td>\n",
       "      <td>0-10</td>\n",
       "    </tr>\n",
       "    <tr>\n",
       "      <th>542</th>\n",
       "      <td>0.0</td>\n",
       "      <td>3</td>\n",
       "      <td>female</td>\n",
       "      <td>11.0</td>\n",
       "      <td>4</td>\n",
       "      <td>2</td>\n",
       "      <td>347082</td>\n",
       "      <td>31.275</td>\n",
       "      <td>WithoutCabin</td>\n",
       "      <td>S</td>\n",
       "      <td>Miss</td>\n",
       "      <td>10-20</td>\n",
       "    </tr>\n",
       "    <tr>\n",
       "      <th>610</th>\n",
       "      <td>0.0</td>\n",
       "      <td>3</td>\n",
       "      <td>female</td>\n",
       "      <td>39.0</td>\n",
       "      <td>1</td>\n",
       "      <td>5</td>\n",
       "      <td>347082</td>\n",
       "      <td>31.275</td>\n",
       "      <td>WithoutCabin</td>\n",
       "      <td>S</td>\n",
       "      <td>Mrs</td>\n",
       "      <td>30-40</td>\n",
       "    </tr>\n",
       "    <tr>\n",
       "      <th>813</th>\n",
       "      <td>0.0</td>\n",
       "      <td>3</td>\n",
       "      <td>female</td>\n",
       "      <td>6.0</td>\n",
       "      <td>4</td>\n",
       "      <td>2</td>\n",
       "      <td>347082</td>\n",
       "      <td>31.275</td>\n",
       "      <td>WithoutCabin</td>\n",
       "      <td>S</td>\n",
       "      <td>Miss</td>\n",
       "      <td>0-10</td>\n",
       "    </tr>\n",
       "    <tr>\n",
       "      <th>850</th>\n",
       "      <td>0.0</td>\n",
       "      <td>3</td>\n",
       "      <td>male</td>\n",
       "      <td>4.0</td>\n",
       "      <td>4</td>\n",
       "      <td>2</td>\n",
       "      <td>347082</td>\n",
       "      <td>31.275</td>\n",
       "      <td>WithoutCabin</td>\n",
       "      <td>S</td>\n",
       "      <td>Master</td>\n",
       "      <td>0-10</td>\n",
       "    </tr>\n",
       "  </tbody>\n",
       "</table>\n",
       "</div>"
      ],
      "text/plain": [
       "     Survived  Pclass     Sex   Age  SibSp  Parch  Ticket    Fare  \\\n",
       "13        0.0       3    male  39.0      1      5  347082  31.275   \n",
       "119       0.0       3  female   2.0      4      2  347082  31.275   \n",
       "541       0.0       3  female   9.0      4      2  347082  31.275   \n",
       "542       0.0       3  female  11.0      4      2  347082  31.275   \n",
       "610       0.0       3  female  39.0      1      5  347082  31.275   \n",
       "813       0.0       3  female   6.0      4      2  347082  31.275   \n",
       "850       0.0       3    male   4.0      4      2  347082  31.275   \n",
       "\n",
       "            Cabin Embarked    Title Age_Range  \n",
       "13   WithoutCabin        S       Mr     30-40  \n",
       "119  WithoutCabin        S     Miss      0-10  \n",
       "541  WithoutCabin        S     Miss      0-10  \n",
       "542  WithoutCabin        S     Miss     10-20  \n",
       "610  WithoutCabin        S      Mrs     30-40  \n",
       "813  WithoutCabin        S     Miss      0-10  \n",
       "850  WithoutCabin        S   Master      0-10  "
      ]
     },
     "execution_count": 44,
     "metadata": {},
     "output_type": "execute_result"
    }
   ],
   "source": [
    "df_train[df_train.Ticket=='347082']"
   ]
  },
  {
   "cell_type": "markdown",
   "id": "eee2c9bb",
   "metadata": {
    "papermill": {
     "duration": 0.045344,
     "end_time": "2024-01-15T10:31:23.487099",
     "exception": false,
     "start_time": "2024-01-15T10:31:23.441755",
     "status": "completed"
    },
    "tags": []
   },
   "source": [
    "**Observation**\n",
    "* <font color=Green>Family travelling on the ship may have same Tickets.\n",
    "* <font color=Green>We have to modify the ticket column so that we can use it in our model training.\n",
    "* <font color=Green>But there is one issue in it as we can see that out of 891 we have 681 unique tickets, so we are going to extract the numerical values from the ticket and at the time of training we will scale it."
   ]
  },
  {
   "cell_type": "code",
   "execution_count": 45,
   "id": "2cf8910a",
   "metadata": {
    "execution": {
     "iopub.execute_input": "2024-01-15T10:31:23.580230Z",
     "iopub.status.busy": "2024-01-15T10:31:23.579033Z",
     "iopub.status.idle": "2024-01-15T10:31:23.593688Z",
     "shell.execute_reply": "2024-01-15T10:31:23.592469Z"
    },
    "papermill": {
     "duration": 0.06416,
     "end_time": "2024-01-15T10:31:23.596322",
     "exception": false,
     "start_time": "2024-01-15T10:31:23.532162",
     "status": "completed"
    },
    "tags": []
   },
   "outputs": [
    {
     "data": {
      "text/plain": [
       "dtype('int32')"
      ]
     },
     "execution_count": 45,
     "metadata": {},
     "output_type": "execute_result"
    }
   ],
   "source": [
    "# Lets just remove the char from the ticket and keep the numbers.\n",
    "# And change the data type to int.\n",
    "df_train.Ticket = df_train['Ticket'].str.extract('(\\d+)', expand=False)\n",
    "df_train.Ticket.fillna(0, inplace=True)\n",
    "df_train.Ticket = df_train.Ticket.astype('int')\n",
    "df_train.Ticket.dtypes"
   ]
  },
  {
   "cell_type": "markdown",
   "id": "be7d591a",
   "metadata": {
    "papermill": {
     "duration": 0.04557,
     "end_time": "2024-01-15T10:31:23.688258",
     "exception": false,
     "start_time": "2024-01-15T10:31:23.642688",
     "status": "completed"
    },
    "tags": []
   },
   "source": [
    "#### Fare Column"
   ]
  },
  {
   "cell_type": "code",
   "execution_count": 46,
   "id": "c96b8340",
   "metadata": {
    "execution": {
     "iopub.execute_input": "2024-01-15T10:31:23.781474Z",
     "iopub.status.busy": "2024-01-15T10:31:23.780525Z",
     "iopub.status.idle": "2024-01-15T10:31:23.992179Z",
     "shell.execute_reply": "2024-01-15T10:31:23.990891Z"
    },
    "papermill": {
     "duration": 0.260824,
     "end_time": "2024-01-15T10:31:23.994586",
     "exception": false,
     "start_time": "2024-01-15T10:31:23.733762",
     "status": "completed"
    },
    "tags": []
   },
   "outputs": [
    {
     "name": "stdout",
     "output_type": "stream",
     "text": [
      "count    1308.000000\n",
      "mean       33.295479\n",
      "std        51.758668\n",
      "min         0.000000\n",
      "25%         7.895800\n",
      "50%        14.454200\n",
      "75%        31.275000\n",
      "max       512.329200\n",
      "Name: Fare, dtype: float64\n"
     ]
    },
    {
     "data": {
      "image/png": "[encoded data removed]",
      "text/plain": [
       "<Figure size 640x480 with 1 Axes>"
      ]
     },
     "metadata": {},
     "output_type": "display_data"
    }
   ],
   "source": [
    "# Lets see the spread of the Fare column\n",
    "print(df_train.Fare.describe())\n",
    "\n",
    "# For checking the spread on box plot\n",
    "sns.boxplot(x=df_train.Fare)\n",
    "plt.show()"
   ]
  },
  {
   "cell_type": "code",
   "execution_count": 47,
   "id": "b5edea31",
   "metadata": {
    "execution": {
     "iopub.execute_input": "2024-01-15T10:31:24.087940Z",
     "iopub.status.busy": "2024-01-15T10:31:24.087419Z",
     "iopub.status.idle": "2024-01-15T10:31:24.097682Z",
     "shell.execute_reply": "2024-01-15T10:31:24.096336Z"
    },
    "papermill": {
     "duration": 0.060773,
     "end_time": "2024-01-15T10:31:24.100688",
     "exception": false,
     "start_time": "2024-01-15T10:31:24.039915",
     "status": "completed"
    },
    "tags": []
   },
   "outputs": [],
   "source": [
    "# Make one more column and divide the range of fare on the quantile basis\n",
    "df_train['Fare_Range'] = pd.qcut(df_train.Fare, q=4, labels=['Below_25%', '25%-50%', '50%-75%', 'Above_75%'])"
   ]
  },
  {
   "cell_type": "code",
   "execution_count": 48,
   "id": "cc166fb7",
   "metadata": {
    "execution": {
     "iopub.execute_input": "2024-01-15T10:31:24.194329Z",
     "iopub.status.busy": "2024-01-15T10:31:24.193375Z",
     "iopub.status.idle": "2024-01-15T10:31:24.509157Z",
     "shell.execute_reply": "2024-01-15T10:31:24.507881Z"
    },
    "papermill": {
     "duration": 0.365908,
     "end_time": "2024-01-15T10:31:24.512074",
     "exception": false,
     "start_time": "2024-01-15T10:31:24.146166",
     "status": "completed"
    },
    "tags": []
   },
   "outputs": [
    {
     "data": {
      "text/plain": [
       "<Axes: xlabel='Fare_Range', ylabel='Fare'>"
      ]
     },
     "execution_count": 48,
     "metadata": {},
     "output_type": "execute_result"
    },
    {
     "data": {
      "image/png": "[encoded data removed]",
      "text/plain": [
       "<Figure size 640x480 with 1 Axes>"
      ]
     },
     "metadata": {},
     "output_type": "display_data"
    }
   ],
   "source": [
    "sns.boxplot(data=df_train, x='Fare_Range', y='Fare')"
   ]
  },
  {
   "cell_type": "code",
   "execution_count": 49,
   "id": "3de067e0",
   "metadata": {
    "execution": {
     "iopub.execute_input": "2024-01-15T10:31:24.606703Z",
     "iopub.status.busy": "2024-01-15T10:31:24.605930Z",
     "iopub.status.idle": "2024-01-15T10:31:24.966651Z",
     "shell.execute_reply": "2024-01-15T10:31:24.965395Z"
    },
    "papermill": {
     "duration": 0.411149,
     "end_time": "2024-01-15T10:31:24.969252",
     "exception": false,
     "start_time": "2024-01-15T10:31:24.558103",
     "status": "completed"
    },
    "tags": []
   },
   "outputs": [
    {
     "data": {
      "image/png": "[encoded data removed]",
      "text/plain": [
       "<Figure size 640x480 with 1 Axes>"
      ]
     },
     "metadata": {},
     "output_type": "display_data"
    },
    {
     "data": {
      "text/html": [
       "<div>\n",
       "<style scoped>\n",
       "    .dataframe tbody tr th:only-of-type {\n",
       "        vertical-align: middle;\n",
       "    }\n",
       "\n",
       "    .dataframe tbody tr th {\n",
       "        vertical-align: top;\n",
       "    }\n",
       "\n",
       "    .dataframe thead th {\n",
       "        text-align: right;\n",
       "    }\n",
       "</style>\n",
       "<table border=\"1\" class=\"dataframe\">\n",
       "  <thead>\n",
       "    <tr style=\"text-align: right;\">\n",
       "      <th>Survived</th>\n",
       "      <th>0.0</th>\n",
       "      <th>1.0</th>\n",
       "      <th>Survival_%</th>\n",
       "    </tr>\n",
       "    <tr>\n",
       "      <th>Fare_Range</th>\n",
       "      <th></th>\n",
       "      <th></th>\n",
       "      <th></th>\n",
       "    </tr>\n",
       "  </thead>\n",
       "  <tbody>\n",
       "    <tr>\n",
       "      <th>Below_25%</th>\n",
       "      <td>179</td>\n",
       "      <td>44</td>\n",
       "      <td>19.730942</td>\n",
       "    </tr>\n",
       "    <tr>\n",
       "      <th>25%-50%</th>\n",
       "      <td>156</td>\n",
       "      <td>68</td>\n",
       "      <td>30.357143</td>\n",
       "    </tr>\n",
       "    <tr>\n",
       "      <th>50%-75%</th>\n",
       "      <td>128</td>\n",
       "      <td>101</td>\n",
       "      <td>44.104803</td>\n",
       "    </tr>\n",
       "    <tr>\n",
       "      <th>Above_75%</th>\n",
       "      <td>86</td>\n",
       "      <td>129</td>\n",
       "      <td>60.000000</td>\n",
       "    </tr>\n",
       "  </tbody>\n",
       "</table>\n",
       "</div>"
      ],
      "text/plain": [
       "Survived    0.0  1.0  Survival_%\n",
       "Fare_Range                      \n",
       "Below_25%   179   44   19.730942\n",
       "25%-50%     156   68   30.357143\n",
       "50%-75%     128  101   44.104803\n",
       "Above_75%    86  129   60.000000"
      ]
     },
     "execution_count": 49,
     "metadata": {},
     "output_type": "execute_result"
    }
   ],
   "source": [
    "# Fare_Range vs Survival\n",
    "sns.countplot(data=df_train, x='Fare_Range', hue='Survived')\n",
    "plt.title(\"Fare_Range vs Survival\", fontdict = {'fontsize':20, 'fontweight':5, 'color':'Green'})\n",
    "plt.show()\n",
    "\n",
    "# Fare_Range vs Survival Matrix\n",
    "fare_survival = df_train.groupby(['Fare_Range', 'Survived']).size().unstack(fill_value=0)\n",
    "fare_survival['Survival_%'] = fare_survival[1]/fare_survival.sum(axis=1)*100\n",
    "fare_survival"
   ]
  },
  {
   "cell_type": "markdown",
   "id": "bfa62f14",
   "metadata": {
    "papermill": {
     "duration": 0.047679,
     "end_time": "2024-01-15T10:31:25.064257",
     "exception": false,
     "start_time": "2024-01-15T10:31:25.016578",
     "status": "completed"
    },
    "tags": []
   },
   "source": [
    "**Observation**\n",
    "* <font color=Green>People who paid more for the ticket has more chance of survival."
   ]
  },
  {
   "cell_type": "markdown",
   "id": "f34e77e9",
   "metadata": {
    "papermill": {
     "duration": 0.04688,
     "end_time": "2024-01-15T10:31:25.158933",
     "exception": false,
     "start_time": "2024-01-15T10:31:25.112053",
     "status": "completed"
    },
    "tags": []
   },
   "source": [
    "# Title Column\n",
    "* We had already analyzed the cabin and embarked column so for now we are going to leave those columns"
   ]
  },
  {
   "cell_type": "code",
   "execution_count": 50,
   "id": "89ebaa57",
   "metadata": {
    "execution": {
     "iopub.execute_input": "2024-01-15T10:31:25.256674Z",
     "iopub.status.busy": "2024-01-15T10:31:25.255888Z",
     "iopub.status.idle": "2024-01-15T10:31:25.769223Z",
     "shell.execute_reply": "2024-01-15T10:31:25.768002Z"
    },
    "papermill": {
     "duration": 0.565829,
     "end_time": "2024-01-15T10:31:25.771851",
     "exception": false,
     "start_time": "2024-01-15T10:31:25.206022",
     "status": "completed"
    },
    "tags": []
   },
   "outputs": [
    {
     "name": "stdout",
     "output_type": "stream",
     "text": [
      "Title\n",
      " Mr              757\n",
      " Miss            260\n",
      " Mrs             197\n",
      " Master           61\n",
      " Rev               8\n",
      " Dr                8\n",
      " Col               4\n",
      " Mlle              2\n",
      " Major             2\n",
      " Ms                2\n",
      " Lady              1\n",
      " Sir               1\n",
      " Mme               1\n",
      " Don               1\n",
      " Capt              1\n",
      " the Countess      1\n",
      " Jonkheer          1\n",
      " Dona              1\n",
      "Name: count, dtype: int64\n"
     ]
    },
    {
     "data": {
      "image/png": "[encoded data removed]",
      "text/plain": [
       "<Figure size 640x480 with 1 Axes>"
      ]
     },
     "metadata": {},
     "output_type": "display_data"
    },
    {
     "data": {
      "text/html": [
       "<div>\n",
       "<style scoped>\n",
       "    .dataframe tbody tr th:only-of-type {\n",
       "        vertical-align: middle;\n",
       "    }\n",
       "\n",
       "    .dataframe tbody tr th {\n",
       "        vertical-align: top;\n",
       "    }\n",
       "\n",
       "    .dataframe thead th {\n",
       "        text-align: right;\n",
       "    }\n",
       "</style>\n",
       "<table border=\"1\" class=\"dataframe\">\n",
       "  <thead>\n",
       "    <tr style=\"text-align: right;\">\n",
       "      <th>Survived</th>\n",
       "      <th>0.0</th>\n",
       "      <th>1.0</th>\n",
       "      <th>Survival_%</th>\n",
       "    </tr>\n",
       "    <tr>\n",
       "      <th>Title</th>\n",
       "      <th></th>\n",
       "      <th></th>\n",
       "      <th></th>\n",
       "    </tr>\n",
       "  </thead>\n",
       "  <tbody>\n",
       "    <tr>\n",
       "      <th>Capt</th>\n",
       "      <td>1</td>\n",
       "      <td>0</td>\n",
       "      <td>0.000000</td>\n",
       "    </tr>\n",
       "    <tr>\n",
       "      <th>Col</th>\n",
       "      <td>1</td>\n",
       "      <td>1</td>\n",
       "      <td>50.000000</td>\n",
       "    </tr>\n",
       "    <tr>\n",
       "      <th>Don</th>\n",
       "      <td>1</td>\n",
       "      <td>0</td>\n",
       "      <td>0.000000</td>\n",
       "    </tr>\n",
       "    <tr>\n",
       "      <th>Dr</th>\n",
       "      <td>4</td>\n",
       "      <td>3</td>\n",
       "      <td>42.857143</td>\n",
       "    </tr>\n",
       "    <tr>\n",
       "      <th>Jonkheer</th>\n",
       "      <td>1</td>\n",
       "      <td>0</td>\n",
       "      <td>0.000000</td>\n",
       "    </tr>\n",
       "    <tr>\n",
       "      <th>Lady</th>\n",
       "      <td>0</td>\n",
       "      <td>1</td>\n",
       "      <td>100.000000</td>\n",
       "    </tr>\n",
       "    <tr>\n",
       "      <th>Major</th>\n",
       "      <td>1</td>\n",
       "      <td>1</td>\n",
       "      <td>50.000000</td>\n",
       "    </tr>\n",
       "    <tr>\n",
       "      <th>Master</th>\n",
       "      <td>17</td>\n",
       "      <td>23</td>\n",
       "      <td>57.500000</td>\n",
       "    </tr>\n",
       "    <tr>\n",
       "      <th>Miss</th>\n",
       "      <td>55</td>\n",
       "      <td>127</td>\n",
       "      <td>69.780220</td>\n",
       "    </tr>\n",
       "    <tr>\n",
       "      <th>Mlle</th>\n",
       "      <td>0</td>\n",
       "      <td>2</td>\n",
       "      <td>100.000000</td>\n",
       "    </tr>\n",
       "    <tr>\n",
       "      <th>Mme</th>\n",
       "      <td>0</td>\n",
       "      <td>1</td>\n",
       "      <td>100.000000</td>\n",
       "    </tr>\n",
       "    <tr>\n",
       "      <th>Mr</th>\n",
       "      <td>436</td>\n",
       "      <td>81</td>\n",
       "      <td>15.667311</td>\n",
       "    </tr>\n",
       "    <tr>\n",
       "      <th>Mrs</th>\n",
       "      <td>26</td>\n",
       "      <td>99</td>\n",
       "      <td>79.200000</td>\n",
       "    </tr>\n",
       "    <tr>\n",
       "      <th>Ms</th>\n",
       "      <td>0</td>\n",
       "      <td>1</td>\n",
       "      <td>100.000000</td>\n",
       "    </tr>\n",
       "    <tr>\n",
       "      <th>Rev</th>\n",
       "      <td>6</td>\n",
       "      <td>0</td>\n",
       "      <td>0.000000</td>\n",
       "    </tr>\n",
       "    <tr>\n",
       "      <th>Sir</th>\n",
       "      <td>0</td>\n",
       "      <td>1</td>\n",
       "      <td>100.000000</td>\n",
       "    </tr>\n",
       "    <tr>\n",
       "      <th>the Countess</th>\n",
       "      <td>0</td>\n",
       "      <td>1</td>\n",
       "      <td>100.000000</td>\n",
       "    </tr>\n",
       "  </tbody>\n",
       "</table>\n",
       "</div>"
      ],
      "text/plain": [
       "Survived       0.0  1.0  Survival_%\n",
       "Title                              \n",
       " Capt            1    0    0.000000\n",
       " Col             1    1   50.000000\n",
       " Don             1    0    0.000000\n",
       " Dr              4    3   42.857143\n",
       " Jonkheer        1    0    0.000000\n",
       " Lady            0    1  100.000000\n",
       " Major           1    1   50.000000\n",
       " Master         17   23   57.500000\n",
       " Miss           55  127   69.780220\n",
       " Mlle            0    2  100.000000\n",
       " Mme             0    1  100.000000\n",
       " Mr            436   81   15.667311\n",
       " Mrs            26   99   79.200000\n",
       " Ms              0    1  100.000000\n",
       " Rev             6    0    0.000000\n",
       " Sir             0    1  100.000000\n",
       " the Countess    0    1  100.000000"
      ]
     },
     "execution_count": 50,
     "metadata": {},
     "output_type": "execute_result"
    }
   ],
   "source": [
    "print(df_train.Title.value_counts())\n",
    "# Title vs Survival\n",
    "sns.countplot(data=df_train, x='Title', hue='Survived')\n",
    "plt.title(\"Title vs Survival\", fontdict = {'fontsize':20, 'fontweight':5, 'color':'Green'})\n",
    "plt.xticks(rotation=90)\n",
    "plt.show()\n",
    "\n",
    "# Title vs Survival Matrix\n",
    "title_survival = df_train.groupby(['Title', 'Survived']).size().unstack(fill_value=0)\n",
    "title_survival['Survival_%'] = title_survival[1]/title_survival.sum(axis=1)*100\n",
    "title_survival"
   ]
  },
  {
   "cell_type": "markdown",
   "id": "a9c598ee",
   "metadata": {
    "papermill": {
     "duration": 0.051548,
     "end_time": "2024-01-15T10:31:25.871987",
     "exception": false,
     "start_time": "2024-01-15T10:31:25.820439",
     "status": "completed"
    },
    "tags": []
   },
   "source": [
    "# Making data ready for model training"
   ]
  },
  {
   "cell_type": "code",
   "execution_count": 51,
   "id": "f4ea41a7",
   "metadata": {
    "execution": {
     "iopub.execute_input": "2024-01-15T10:31:25.972257Z",
     "iopub.status.busy": "2024-01-15T10:31:25.971095Z",
     "iopub.status.idle": "2024-01-15T10:31:25.992258Z",
     "shell.execute_reply": "2024-01-15T10:31:25.991149Z"
    },
    "papermill": {
     "duration": 0.073296,
     "end_time": "2024-01-15T10:31:25.994686",
     "exception": false,
     "start_time": "2024-01-15T10:31:25.921390",
     "status": "completed"
    },
    "tags": []
   },
   "outputs": [
    {
     "data": {
      "text/html": [
       "<div>\n",
       "<style scoped>\n",
       "    .dataframe tbody tr th:only-of-type {\n",
       "        vertical-align: middle;\n",
       "    }\n",
       "\n",
       "    .dataframe tbody tr th {\n",
       "        vertical-align: top;\n",
       "    }\n",
       "\n",
       "    .dataframe thead th {\n",
       "        text-align: right;\n",
       "    }\n",
       "</style>\n",
       "<table border=\"1\" class=\"dataframe\">\n",
       "  <thead>\n",
       "    <tr style=\"text-align: right;\">\n",
       "      <th></th>\n",
       "      <th>Survived</th>\n",
       "      <th>Pclass</th>\n",
       "      <th>Sex</th>\n",
       "      <th>Age</th>\n",
       "      <th>SibSp</th>\n",
       "      <th>Parch</th>\n",
       "      <th>Ticket</th>\n",
       "      <th>Fare</th>\n",
       "      <th>Cabin</th>\n",
       "      <th>Embarked</th>\n",
       "      <th>Title</th>\n",
       "      <th>Age_Range</th>\n",
       "      <th>Fare_Range</th>\n",
       "    </tr>\n",
       "  </thead>\n",
       "  <tbody>\n",
       "    <tr>\n",
       "      <th>0</th>\n",
       "      <td>0.0</td>\n",
       "      <td>3</td>\n",
       "      <td>male</td>\n",
       "      <td>22.0</td>\n",
       "      <td>1</td>\n",
       "      <td>0</td>\n",
       "      <td>5</td>\n",
       "      <td>7.2500</td>\n",
       "      <td>WithoutCabin</td>\n",
       "      <td>S</td>\n",
       "      <td>Mr</td>\n",
       "      <td>20-30</td>\n",
       "      <td>Below_25%</td>\n",
       "    </tr>\n",
       "    <tr>\n",
       "      <th>1</th>\n",
       "      <td>1.0</td>\n",
       "      <td>1</td>\n",
       "      <td>female</td>\n",
       "      <td>38.0</td>\n",
       "      <td>1</td>\n",
       "      <td>0</td>\n",
       "      <td>17599</td>\n",
       "      <td>71.2833</td>\n",
       "      <td>WithCabin</td>\n",
       "      <td>C</td>\n",
       "      <td>Mrs</td>\n",
       "      <td>30-40</td>\n",
       "      <td>Above_75%</td>\n",
       "    </tr>\n",
       "    <tr>\n",
       "      <th>2</th>\n",
       "      <td>1.0</td>\n",
       "      <td>3</td>\n",
       "      <td>female</td>\n",
       "      <td>26.0</td>\n",
       "      <td>0</td>\n",
       "      <td>0</td>\n",
       "      <td>2</td>\n",
       "      <td>7.9250</td>\n",
       "      <td>WithoutCabin</td>\n",
       "      <td>S</td>\n",
       "      <td>Miss</td>\n",
       "      <td>20-30</td>\n",
       "      <td>25%-50%</td>\n",
       "    </tr>\n",
       "    <tr>\n",
       "      <th>3</th>\n",
       "      <td>1.0</td>\n",
       "      <td>1</td>\n",
       "      <td>female</td>\n",
       "      <td>35.0</td>\n",
       "      <td>1</td>\n",
       "      <td>0</td>\n",
       "      <td>113803</td>\n",
       "      <td>53.1000</td>\n",
       "      <td>WithCabin</td>\n",
       "      <td>S</td>\n",
       "      <td>Mrs</td>\n",
       "      <td>30-40</td>\n",
       "      <td>Above_75%</td>\n",
       "    </tr>\n",
       "    <tr>\n",
       "      <th>4</th>\n",
       "      <td>0.0</td>\n",
       "      <td>3</td>\n",
       "      <td>male</td>\n",
       "      <td>35.0</td>\n",
       "      <td>0</td>\n",
       "      <td>0</td>\n",
       "      <td>373450</td>\n",
       "      <td>8.0500</td>\n",
       "      <td>WithoutCabin</td>\n",
       "      <td>S</td>\n",
       "      <td>Mr</td>\n",
       "      <td>30-40</td>\n",
       "      <td>25%-50%</td>\n",
       "    </tr>\n",
       "  </tbody>\n",
       "</table>\n",
       "</div>"
      ],
      "text/plain": [
       "   Survived  Pclass     Sex   Age  SibSp  Parch  Ticket     Fare  \\\n",
       "0       0.0       3    male  22.0      1      0       5   7.2500   \n",
       "1       1.0       1  female  38.0      1      0   17599  71.2833   \n",
       "2       1.0       3  female  26.0      0      0       2   7.9250   \n",
       "3       1.0       1  female  35.0      1      0  113803  53.1000   \n",
       "4       0.0       3    male  35.0      0      0  373450   8.0500   \n",
       "\n",
       "          Cabin Embarked  Title Age_Range Fare_Range  \n",
       "0  WithoutCabin        S     Mr     20-30  Below_25%  \n",
       "1     WithCabin        C    Mrs     30-40  Above_75%  \n",
       "2  WithoutCabin        S   Miss     20-30    25%-50%  \n",
       "3     WithCabin        S    Mrs     30-40  Above_75%  \n",
       "4  WithoutCabin        S     Mr     30-40    25%-50%  "
      ]
     },
     "execution_count": 51,
     "metadata": {},
     "output_type": "execute_result"
    }
   ],
   "source": [
    "df_train.head()"
   ]
  },
  {
   "cell_type": "code",
   "execution_count": 52,
   "id": "84610b5e",
   "metadata": {
    "execution": {
     "iopub.execute_input": "2024-01-15T10:31:26.096464Z",
     "iopub.status.busy": "2024-01-15T10:31:26.095121Z",
     "iopub.status.idle": "2024-01-15T10:31:26.103744Z",
     "shell.execute_reply": "2024-01-15T10:31:26.102452Z"
    },
    "papermill": {
     "duration": 0.062342,
     "end_time": "2024-01-15T10:31:26.106564",
     "exception": false,
     "start_time": "2024-01-15T10:31:26.044222",
     "status": "completed"
    },
    "tags": []
   },
   "outputs": [
    {
     "data": {
      "text/plain": [
       "(1309, 13)"
      ]
     },
     "execution_count": 52,
     "metadata": {},
     "output_type": "execute_result"
    }
   ],
   "source": [
    "df_train.shape"
   ]
  },
  {
   "cell_type": "code",
   "execution_count": 53,
   "id": "44cbeba7",
   "metadata": {
    "execution": {
     "iopub.execute_input": "2024-01-15T10:31:26.207392Z",
     "iopub.status.busy": "2024-01-15T10:31:26.206455Z",
     "iopub.status.idle": "2024-01-15T10:31:26.219388Z",
     "shell.execute_reply": "2024-01-15T10:31:26.217979Z"
    },
    "papermill": {
     "duration": 0.067169,
     "end_time": "2024-01-15T10:31:26.222422",
     "exception": false,
     "start_time": "2024-01-15T10:31:26.155253",
     "status": "completed"
    },
    "tags": []
   },
   "outputs": [
    {
     "data": {
      "text/plain": [
       "Survived      418\n",
       "Pclass          0\n",
       "Sex             0\n",
       "Age             0\n",
       "SibSp           0\n",
       "Parch           0\n",
       "Ticket          0\n",
       "Fare            1\n",
       "Cabin           0\n",
       "Embarked        0\n",
       "Title           0\n",
       "Age_Range       0\n",
       "Fare_Range      1\n",
       "dtype: int64"
      ]
     },
     "execution_count": 53,
     "metadata": {},
     "output_type": "execute_result"
    }
   ],
   "source": [
    "df_train.isnull().sum()"
   ]
  },
  {
   "cell_type": "code",
   "execution_count": 54,
   "id": "5a9c23fd",
   "metadata": {
    "execution": {
     "iopub.execute_input": "2024-01-15T10:31:26.322712Z",
     "iopub.status.busy": "2024-01-15T10:31:26.321322Z",
     "iopub.status.idle": "2024-01-15T10:31:26.328387Z",
     "shell.execute_reply": "2024-01-15T10:31:26.327163Z"
    },
    "papermill": {
     "duration": 0.060152,
     "end_time": "2024-01-15T10:31:26.331396",
     "exception": false,
     "start_time": "2024-01-15T10:31:26.271244",
     "status": "completed"
    },
    "tags": []
   },
   "outputs": [],
   "source": [
    "# update fare column\n",
    "df_train.Fare.fillna(0, inplace=True)"
   ]
  },
  {
   "cell_type": "code",
   "execution_count": 55,
   "id": "cc3d2f01",
   "metadata": {
    "execution": {
     "iopub.execute_input": "2024-01-15T10:31:26.434343Z",
     "iopub.status.busy": "2024-01-15T10:31:26.433815Z",
     "iopub.status.idle": "2024-01-15T10:31:26.470291Z",
     "shell.execute_reply": "2024-01-15T10:31:26.469215Z"
    },
    "papermill": {
     "duration": 0.091773,
     "end_time": "2024-01-15T10:31:26.472714",
     "exception": false,
     "start_time": "2024-01-15T10:31:26.380941",
     "status": "completed"
    },
    "tags": []
   },
   "outputs": [
    {
     "data": {
      "text/html": [
       "<div>\n",
       "<style scoped>\n",
       "    .dataframe tbody tr th:only-of-type {\n",
       "        vertical-align: middle;\n",
       "    }\n",
       "\n",
       "    .dataframe tbody tr th {\n",
       "        vertical-align: top;\n",
       "    }\n",
       "\n",
       "    .dataframe thead th {\n",
       "        text-align: right;\n",
       "    }\n",
       "</style>\n",
       "<table border=\"1\" class=\"dataframe\">\n",
       "  <thead>\n",
       "    <tr style=\"text-align: right;\">\n",
       "      <th></th>\n",
       "      <th>Survived</th>\n",
       "      <th>Pclass</th>\n",
       "      <th>Age</th>\n",
       "      <th>SibSp</th>\n",
       "      <th>Parch</th>\n",
       "      <th>Ticket</th>\n",
       "      <th>Fare</th>\n",
       "      <th>Sex_encoded</th>\n",
       "      <th>Cabin_encoded</th>\n",
       "      <th>Embarked_encoded</th>\n",
       "      <th>Title_encoded</th>\n",
       "      <th>Age_Range_encoded</th>\n",
       "      <th>Fare_Range_encoded</th>\n",
       "    </tr>\n",
       "  </thead>\n",
       "  <tbody>\n",
       "    <tr>\n",
       "      <th>0</th>\n",
       "      <td>0.0</td>\n",
       "      <td>3</td>\n",
       "      <td>22.0</td>\n",
       "      <td>1</td>\n",
       "      <td>0</td>\n",
       "      <td>5</td>\n",
       "      <td>7.2500</td>\n",
       "      <td>1</td>\n",
       "      <td>1</td>\n",
       "      <td>2</td>\n",
       "      <td>12</td>\n",
       "      <td>2</td>\n",
       "      <td>3</td>\n",
       "    </tr>\n",
       "    <tr>\n",
       "      <th>1</th>\n",
       "      <td>1.0</td>\n",
       "      <td>1</td>\n",
       "      <td>38.0</td>\n",
       "      <td>1</td>\n",
       "      <td>0</td>\n",
       "      <td>17599</td>\n",
       "      <td>71.2833</td>\n",
       "      <td>0</td>\n",
       "      <td>0</td>\n",
       "      <td>0</td>\n",
       "      <td>13</td>\n",
       "      <td>3</td>\n",
       "      <td>2</td>\n",
       "    </tr>\n",
       "    <tr>\n",
       "      <th>2</th>\n",
       "      <td>1.0</td>\n",
       "      <td>3</td>\n",
       "      <td>26.0</td>\n",
       "      <td>0</td>\n",
       "      <td>0</td>\n",
       "      <td>2</td>\n",
       "      <td>7.9250</td>\n",
       "      <td>0</td>\n",
       "      <td>1</td>\n",
       "      <td>2</td>\n",
       "      <td>9</td>\n",
       "      <td>2</td>\n",
       "      <td>0</td>\n",
       "    </tr>\n",
       "    <tr>\n",
       "      <th>3</th>\n",
       "      <td>1.0</td>\n",
       "      <td>1</td>\n",
       "      <td>35.0</td>\n",
       "      <td>1</td>\n",
       "      <td>0</td>\n",
       "      <td>113803</td>\n",
       "      <td>53.1000</td>\n",
       "      <td>0</td>\n",
       "      <td>0</td>\n",
       "      <td>2</td>\n",
       "      <td>13</td>\n",
       "      <td>3</td>\n",
       "      <td>2</td>\n",
       "    </tr>\n",
       "    <tr>\n",
       "      <th>4</th>\n",
       "      <td>0.0</td>\n",
       "      <td>3</td>\n",
       "      <td>35.0</td>\n",
       "      <td>0</td>\n",
       "      <td>0</td>\n",
       "      <td>373450</td>\n",
       "      <td>8.0500</td>\n",
       "      <td>1</td>\n",
       "      <td>1</td>\n",
       "      <td>2</td>\n",
       "      <td>12</td>\n",
       "      <td>3</td>\n",
       "      <td>0</td>\n",
       "    </tr>\n",
       "  </tbody>\n",
       "</table>\n",
       "</div>"
      ],
      "text/plain": [
       "   Survived  Pclass   Age  SibSp  Parch  Ticket     Fare  Sex_encoded  \\\n",
       "0       0.0       3  22.0      1      0       5   7.2500            1   \n",
       "1       1.0       1  38.0      1      0   17599  71.2833            0   \n",
       "2       1.0       3  26.0      0      0       2   7.9250            0   \n",
       "3       1.0       1  35.0      1      0  113803  53.1000            0   \n",
       "4       0.0       3  35.0      0      0  373450   8.0500            1   \n",
       "\n",
       "   Cabin_encoded  Embarked_encoded  Title_encoded  Age_Range_encoded  \\\n",
       "0              1                 2             12                  2   \n",
       "1              0                 0             13                  3   \n",
       "2              1                 2              9                  2   \n",
       "3              0                 2             13                  3   \n",
       "4              1                 2             12                  3   \n",
       "\n",
       "   Fare_Range_encoded  \n",
       "0                   3  \n",
       "1                   2  \n",
       "2                   0  \n",
       "3                   2  \n",
       "4                   0  "
      ]
     },
     "execution_count": 55,
     "metadata": {},
     "output_type": "execute_result"
    }
   ],
   "source": [
    "# First fix the columns Sex, Cabin, Embarked, Age_Range, Fare_Range using Label EncodeR\n",
    "label_encoder = LabelEncoder()\n",
    "columns = ['Sex', 'Cabin', 'Embarked', 'Title', 'Age_Range', 'Fare_Range']\n",
    "\n",
    "for column in  columns:\n",
    "    # Create a new encoded column\n",
    "    df_train[column+'_encoded'] = label_encoder.fit_transform(df_train[column])\n",
    "    \n",
    "    # Remove the existing column\n",
    "    df_train.drop(column, axis=1, inplace=True)\n",
    "\n",
    "df_train.head()"
   ]
  },
  {
   "cell_type": "code",
   "execution_count": 56,
   "id": "c04aa8e8",
   "metadata": {
    "execution": {
     "iopub.execute_input": "2024-01-15T10:31:26.573362Z",
     "iopub.status.busy": "2024-01-15T10:31:26.572489Z",
     "iopub.status.idle": "2024-01-15T10:31:26.579369Z",
     "shell.execute_reply": "2024-01-15T10:31:26.578273Z"
    },
    "papermill": {
     "duration": 0.060828,
     "end_time": "2024-01-15T10:31:26.582267",
     "exception": false,
     "start_time": "2024-01-15T10:31:26.521439",
     "status": "completed"
    },
    "tags": []
   },
   "outputs": [],
   "source": [
    "# drop fare and age column as we already have range for both the columns\n",
    "\n",
    "df_train.drop(['Age', 'Fare'], axis=1, inplace=True)"
   ]
  },
  {
   "cell_type": "code",
   "execution_count": 57,
   "id": "8e9fb129",
   "metadata": {
    "execution": {
     "iopub.execute_input": "2024-01-15T10:31:26.685112Z",
     "iopub.status.busy": "2024-01-15T10:31:26.684294Z",
     "iopub.status.idle": "2024-01-15T10:31:26.706958Z",
     "shell.execute_reply": "2024-01-15T10:31:26.705897Z"
    },
    "papermill": {
     "duration": 0.077179,
     "end_time": "2024-01-15T10:31:26.709936",
     "exception": false,
     "start_time": "2024-01-15T10:31:26.632757",
     "status": "completed"
    },
    "tags": []
   },
   "outputs": [
    {
     "data": {
      "text/html": [
       "<div>\n",
       "<style scoped>\n",
       "    .dataframe tbody tr th:only-of-type {\n",
       "        vertical-align: middle;\n",
       "    }\n",
       "\n",
       "    .dataframe tbody tr th {\n",
       "        vertical-align: top;\n",
       "    }\n",
       "\n",
       "    .dataframe thead th {\n",
       "        text-align: right;\n",
       "    }\n",
       "</style>\n",
       "<table border=\"1\" class=\"dataframe\">\n",
       "  <thead>\n",
       "    <tr style=\"text-align: right;\">\n",
       "      <th></th>\n",
       "      <th>Survived</th>\n",
       "      <th>Pclass</th>\n",
       "      <th>SibSp</th>\n",
       "      <th>Parch</th>\n",
       "      <th>Ticket</th>\n",
       "      <th>Sex_encoded</th>\n",
       "      <th>Cabin_encoded</th>\n",
       "      <th>Embarked_encoded</th>\n",
       "      <th>Title_encoded</th>\n",
       "      <th>Age_Range_encoded</th>\n",
       "      <th>Fare_Range_encoded</th>\n",
       "    </tr>\n",
       "  </thead>\n",
       "  <tbody>\n",
       "    <tr>\n",
       "      <th>0</th>\n",
       "      <td>0.0</td>\n",
       "      <td>3</td>\n",
       "      <td>1</td>\n",
       "      <td>0</td>\n",
       "      <td>-0.445699</td>\n",
       "      <td>1</td>\n",
       "      <td>1</td>\n",
       "      <td>2</td>\n",
       "      <td>12</td>\n",
       "      <td>2</td>\n",
       "      <td>3</td>\n",
       "    </tr>\n",
       "    <tr>\n",
       "      <th>1</th>\n",
       "      <td>1.0</td>\n",
       "      <td>1</td>\n",
       "      <td>1</td>\n",
       "      <td>0</td>\n",
       "      <td>-0.410944</td>\n",
       "      <td>0</td>\n",
       "      <td>0</td>\n",
       "      <td>0</td>\n",
       "      <td>13</td>\n",
       "      <td>3</td>\n",
       "      <td>2</td>\n",
       "    </tr>\n",
       "    <tr>\n",
       "      <th>2</th>\n",
       "      <td>1.0</td>\n",
       "      <td>3</td>\n",
       "      <td>0</td>\n",
       "      <td>0</td>\n",
       "      <td>-0.445705</td>\n",
       "      <td>0</td>\n",
       "      <td>1</td>\n",
       "      <td>2</td>\n",
       "      <td>9</td>\n",
       "      <td>2</td>\n",
       "      <td>0</td>\n",
       "    </tr>\n",
       "    <tr>\n",
       "      <th>3</th>\n",
       "      <td>1.0</td>\n",
       "      <td>1</td>\n",
       "      <td>1</td>\n",
       "      <td>0</td>\n",
       "      <td>-0.220907</td>\n",
       "      <td>0</td>\n",
       "      <td>0</td>\n",
       "      <td>2</td>\n",
       "      <td>13</td>\n",
       "      <td>3</td>\n",
       "      <td>2</td>\n",
       "    </tr>\n",
       "    <tr>\n",
       "      <th>4</th>\n",
       "      <td>0.0</td>\n",
       "      <td>3</td>\n",
       "      <td>0</td>\n",
       "      <td>0</td>\n",
       "      <td>0.291990</td>\n",
       "      <td>1</td>\n",
       "      <td>1</td>\n",
       "      <td>2</td>\n",
       "      <td>12</td>\n",
       "      <td>3</td>\n",
       "      <td>0</td>\n",
       "    </tr>\n",
       "  </tbody>\n",
       "</table>\n",
       "</div>"
      ],
      "text/plain": [
       "   Survived  Pclass  SibSp  Parch    Ticket  Sex_encoded  Cabin_encoded  \\\n",
       "0       0.0       3      1      0 -0.445699            1              1   \n",
       "1       1.0       1      1      0 -0.410944            0              0   \n",
       "2       1.0       3      0      0 -0.445705            0              1   \n",
       "3       1.0       1      1      0 -0.220907            0              0   \n",
       "4       0.0       3      0      0  0.291990            1              1   \n",
       "\n",
       "   Embarked_encoded  Title_encoded  Age_Range_encoded  Fare_Range_encoded  \n",
       "0                 2             12                  2                   3  \n",
       "1                 0             13                  3                   2  \n",
       "2                 2              9                  2                   0  \n",
       "3                 2             13                  3                   2  \n",
       "4                 2             12                  3                   0  "
      ]
     },
     "execution_count": 57,
     "metadata": {},
     "output_type": "execute_result"
    }
   ],
   "source": [
    "# Scale the Age, Ticket, Fare columns\n",
    "scaler = StandardScaler()\n",
    "df_train[['Ticket']] = scaler.fit_transform(df_train[['Ticket']])\n",
    "df_train.head()"
   ]
  },
  {
   "cell_type": "code",
   "execution_count": 58,
   "id": "6b022fe6",
   "metadata": {
    "execution": {
     "iopub.execute_input": "2024-01-15T10:31:26.811079Z",
     "iopub.status.busy": "2024-01-15T10:31:26.810540Z",
     "iopub.status.idle": "2024-01-15T10:31:26.838418Z",
     "shell.execute_reply": "2024-01-15T10:31:26.837055Z"
    },
    "papermill": {
     "duration": 0.081977,
     "end_time": "2024-01-15T10:31:26.841442",
     "exception": false,
     "start_time": "2024-01-15T10:31:26.759465",
     "status": "completed"
    },
    "tags": []
   },
   "outputs": [
    {
     "data": {
      "text/html": [
       "<div>\n",
       "<style scoped>\n",
       "    .dataframe tbody tr th:only-of-type {\n",
       "        vertical-align: middle;\n",
       "    }\n",
       "\n",
       "    .dataframe tbody tr th {\n",
       "        vertical-align: top;\n",
       "    }\n",
       "\n",
       "    .dataframe thead th {\n",
       "        text-align: right;\n",
       "    }\n",
       "</style>\n",
       "<table border=\"1\" class=\"dataframe\">\n",
       "  <thead>\n",
       "    <tr style=\"text-align: right;\">\n",
       "      <th></th>\n",
       "      <th>Survived</th>\n",
       "      <th>Pclass</th>\n",
       "      <th>SibSp</th>\n",
       "      <th>Parch</th>\n",
       "      <th>Ticket</th>\n",
       "      <th>Sex_encoded</th>\n",
       "      <th>Cabin_encoded</th>\n",
       "      <th>Embarked_encoded</th>\n",
       "      <th>Title_encoded</th>\n",
       "      <th>Age_Range_encoded</th>\n",
       "      <th>Fare_Range_encoded</th>\n",
       "    </tr>\n",
       "  </thead>\n",
       "  <tbody>\n",
       "    <tr>\n",
       "      <th>Survived</th>\n",
       "      <td>1.000000</td>\n",
       "      <td>-0.338481</td>\n",
       "      <td>-0.035322</td>\n",
       "      <td>0.081629</td>\n",
       "      <td>-0.128940</td>\n",
       "      <td>-0.543351</td>\n",
       "      <td>-0.316912</td>\n",
       "      <td>-0.167675</td>\n",
       "      <td>-0.190488</td>\n",
       "      <td>-0.095349</td>\n",
       "      <td>-0.038627</td>\n",
       "    </tr>\n",
       "    <tr>\n",
       "      <th>Pclass</th>\n",
       "      <td>-0.338481</td>\n",
       "      <td>1.000000</td>\n",
       "      <td>0.060832</td>\n",
       "      <td>0.018322</td>\n",
       "      <td>0.261253</td>\n",
       "      <td>0.124617</td>\n",
       "      <td>0.713857</td>\n",
       "      <td>0.185479</td>\n",
       "      <td>-0.007861</td>\n",
       "      <td>-0.345346</td>\n",
       "      <td>0.039427</td>\n",
       "    </tr>\n",
       "    <tr>\n",
       "      <th>SibSp</th>\n",
       "      <td>-0.035322</td>\n",
       "      <td>0.060832</td>\n",
       "      <td>1.000000</td>\n",
       "      <td>0.373587</td>\n",
       "      <td>0.059006</td>\n",
       "      <td>-0.109609</td>\n",
       "      <td>0.009064</td>\n",
       "      <td>0.065567</td>\n",
       "      <td>-0.188333</td>\n",
       "      <td>-0.219728</td>\n",
       "      <td>-0.017806</td>\n",
       "    </tr>\n",
       "    <tr>\n",
       "      <th>Parch</th>\n",
       "      <td>0.081629</td>\n",
       "      <td>0.018322</td>\n",
       "      <td>0.373587</td>\n",
       "      <td>1.000000</td>\n",
       "      <td>0.001927</td>\n",
       "      <td>-0.213125</td>\n",
       "      <td>-0.036806</td>\n",
       "      <td>0.044772</td>\n",
       "      <td>-0.101395</td>\n",
       "      <td>-0.149576</td>\n",
       "      <td>-0.017175</td>\n",
       "    </tr>\n",
       "    <tr>\n",
       "      <th>Ticket</th>\n",
       "      <td>-0.128940</td>\n",
       "      <td>0.261253</td>\n",
       "      <td>0.059006</td>\n",
       "      <td>0.001927</td>\n",
       "      <td>1.000000</td>\n",
       "      <td>0.043938</td>\n",
       "      <td>0.174341</td>\n",
       "      <td>0.178023</td>\n",
       "      <td>-0.010812</td>\n",
       "      <td>-0.105498</td>\n",
       "      <td>0.067471</td>\n",
       "    </tr>\n",
       "    <tr>\n",
       "      <th>Sex_encoded</th>\n",
       "      <td>-0.543351</td>\n",
       "      <td>0.124617</td>\n",
       "      <td>-0.109609</td>\n",
       "      <td>-0.213125</td>\n",
       "      <td>0.043938</td>\n",
       "      <td>1.000000</td>\n",
       "      <td>0.137396</td>\n",
       "      <td>0.097960</td>\n",
       "      <td>0.227419</td>\n",
       "      <td>0.101728</td>\n",
       "      <td>0.039941</td>\n",
       "    </tr>\n",
       "    <tr>\n",
       "      <th>Cabin_encoded</th>\n",
       "      <td>-0.316912</td>\n",
       "      <td>0.713857</td>\n",
       "      <td>0.009064</td>\n",
       "      <td>-0.036806</td>\n",
       "      <td>0.174341</td>\n",
       "      <td>0.137396</td>\n",
       "      <td>1.000000</td>\n",
       "      <td>0.205733</td>\n",
       "      <td>0.016284</td>\n",
       "      <td>-0.249589</td>\n",
       "      <td>-0.092516</td>\n",
       "    </tr>\n",
       "    <tr>\n",
       "      <th>Embarked_encoded</th>\n",
       "      <td>-0.167675</td>\n",
       "      <td>0.185479</td>\n",
       "      <td>0.065567</td>\n",
       "      <td>0.044772</td>\n",
       "      <td>0.178023</td>\n",
       "      <td>0.097960</td>\n",
       "      <td>0.205733</td>\n",
       "      <td>1.000000</td>\n",
       "      <td>0.057999</td>\n",
       "      <td>-0.064657</td>\n",
       "      <td>-0.192956</td>\n",
       "    </tr>\n",
       "    <tr>\n",
       "      <th>Title_encoded</th>\n",
       "      <td>-0.190488</td>\n",
       "      <td>-0.007861</td>\n",
       "      <td>-0.188333</td>\n",
       "      <td>-0.101395</td>\n",
       "      <td>-0.010812</td>\n",
       "      <td>0.227419</td>\n",
       "      <td>0.016284</td>\n",
       "      <td>0.057999</td>\n",
       "      <td>1.000000</td>\n",
       "      <td>0.339536</td>\n",
       "      <td>-0.009235</td>\n",
       "    </tr>\n",
       "    <tr>\n",
       "      <th>Age_Range_encoded</th>\n",
       "      <td>-0.095349</td>\n",
       "      <td>-0.345346</td>\n",
       "      <td>-0.219728</td>\n",
       "      <td>-0.149576</td>\n",
       "      <td>-0.105498</td>\n",
       "      <td>0.101728</td>\n",
       "      <td>-0.249589</td>\n",
       "      <td>-0.064657</td>\n",
       "      <td>0.339536</td>\n",
       "      <td>1.000000</td>\n",
       "      <td>0.063640</td>\n",
       "    </tr>\n",
       "    <tr>\n",
       "      <th>Fare_Range_encoded</th>\n",
       "      <td>-0.038627</td>\n",
       "      <td>0.039427</td>\n",
       "      <td>-0.017806</td>\n",
       "      <td>-0.017175</td>\n",
       "      <td>0.067471</td>\n",
       "      <td>0.039941</td>\n",
       "      <td>-0.092516</td>\n",
       "      <td>-0.192956</td>\n",
       "      <td>-0.009235</td>\n",
       "      <td>0.063640</td>\n",
       "      <td>1.000000</td>\n",
       "    </tr>\n",
       "  </tbody>\n",
       "</table>\n",
       "</div>"
      ],
      "text/plain": [
       "                    Survived    Pclass     SibSp     Parch    Ticket  \\\n",
       "Survived            1.000000 -0.338481 -0.035322  0.081629 -0.128940   \n",
       "Pclass             -0.338481  1.000000  0.060832  0.018322  0.261253   \n",
       "SibSp              -0.035322  0.060832  1.000000  0.373587  0.059006   \n",
       "Parch               0.081629  0.018322  0.373587  1.000000  0.001927   \n",
       "Ticket             -0.128940  0.261253  0.059006  0.001927  1.000000   \n",
       "Sex_encoded        -0.543351  0.124617 -0.109609 -0.213125  0.043938   \n",
       "Cabin_encoded      -0.316912  0.713857  0.009064 -0.036806  0.174341   \n",
       "Embarked_encoded   -0.167675  0.185479  0.065567  0.044772  0.178023   \n",
       "Title_encoded      -0.190488 -0.007861 -0.188333 -0.101395 -0.010812   \n",
       "Age_Range_encoded  -0.095349 -0.345346 -0.219728 -0.149576 -0.105498   \n",
       "Fare_Range_encoded -0.038627  0.039427 -0.017806 -0.017175  0.067471   \n",
       "\n",
       "                    Sex_encoded  Cabin_encoded  Embarked_encoded  \\\n",
       "Survived              -0.543351      -0.316912         -0.167675   \n",
       "Pclass                 0.124617       0.713857          0.185479   \n",
       "SibSp                 -0.109609       0.009064          0.065567   \n",
       "Parch                 -0.213125      -0.036806          0.044772   \n",
       "Ticket                 0.043938       0.174341          0.178023   \n",
       "Sex_encoded            1.000000       0.137396          0.097960   \n",
       "Cabin_encoded          0.137396       1.000000          0.205733   \n",
       "Embarked_encoded       0.097960       0.205733          1.000000   \n",
       "Title_encoded          0.227419       0.016284          0.057999   \n",
       "Age_Range_encoded      0.101728      -0.249589         -0.064657   \n",
       "Fare_Range_encoded     0.039941      -0.092516         -0.192956   \n",
       "\n",
       "                    Title_encoded  Age_Range_encoded  Fare_Range_encoded  \n",
       "Survived                -0.190488          -0.095349           -0.038627  \n",
       "Pclass                  -0.007861          -0.345346            0.039427  \n",
       "SibSp                   -0.188333          -0.219728           -0.017806  \n",
       "Parch                   -0.101395          -0.149576           -0.017175  \n",
       "Ticket                  -0.010812          -0.105498            0.067471  \n",
       "Sex_encoded              0.227419           0.101728            0.039941  \n",
       "Cabin_encoded            0.016284          -0.249589           -0.092516  \n",
       "Embarked_encoded         0.057999          -0.064657           -0.192956  \n",
       "Title_encoded            1.000000           0.339536           -0.009235  \n",
       "Age_Range_encoded        0.339536           1.000000            0.063640  \n",
       "Fare_Range_encoded      -0.009235           0.063640            1.000000  "
      ]
     },
     "execution_count": 58,
     "metadata": {},
     "output_type": "execute_result"
    }
   ],
   "source": [
    "df_train.corr()"
   ]
  },
  {
   "cell_type": "code",
   "execution_count": 63,
   "id": "51ecc48d",
   "metadata": {
    "execution": {
     "iopub.execute_input": "2024-01-15T10:31:26.945712Z",
     "iopub.status.busy": "2024-01-15T10:31:26.944891Z",
     "iopub.status.idle": "2024-01-15T10:31:26.963432Z",
     "shell.execute_reply": "2024-01-15T10:31:26.962405Z"
    },
    "papermill": {
     "duration": 0.074192,
     "end_time": "2024-01-15T10:31:26.966504",
     "exception": false,
     "start_time": "2024-01-15T10:31:26.892312",
     "status": "completed"
    },
    "tags": []
   },
   "outputs": [],
   "source": [
    "# Now split the train data\n",
    "X_train = df_train.iloc[:891, 1:]\n",
    "y_train = df_train.iloc[:891, 0].astype('int')\n",
    "X_test = df_train.iloc[891:, 1:]\n",
    "read_data = pd.read_csv('gender_submission.csv')\n",
    "y_test = read_data.iloc[:,1]\n",
    "survived=read_data.iloc[:,0]"
   ]
  },
  {
   "cell_type": "code",
   "execution_count": 64,
   "id": "dbc46e84",
   "metadata": {
    "execution": {
     "iopub.execute_input": "2024-01-15T10:31:27.071402Z",
     "iopub.status.busy": "2024-01-15T10:31:27.070547Z",
     "iopub.status.idle": "2024-01-15T10:31:27.090355Z",
     "shell.execute_reply": "2024-01-15T10:31:27.088855Z"
    },
    "papermill": {
     "duration": 0.075405,
     "end_time": "2024-01-15T10:31:27.093558",
     "exception": false,
     "start_time": "2024-01-15T10:31:27.018153",
     "status": "completed"
    },
    "tags": []
   },
   "outputs": [
    {
     "data": {
      "text/html": [
       "<div>\n",
       "<style scoped>\n",
       "    .dataframe tbody tr th:only-of-type {\n",
       "        vertical-align: middle;\n",
       "    }\n",
       "\n",
       "    .dataframe tbody tr th {\n",
       "        vertical-align: top;\n",
       "    }\n",
       "\n",
       "    .dataframe thead th {\n",
       "        text-align: right;\n",
       "    }\n",
       "</style>\n",
       "<table border=\"1\" class=\"dataframe\">\n",
       "  <thead>\n",
       "    <tr style=\"text-align: right;\">\n",
       "      <th></th>\n",
       "      <th>Pclass</th>\n",
       "      <th>SibSp</th>\n",
       "      <th>Parch</th>\n",
       "      <th>Ticket</th>\n",
       "      <th>Sex_encoded</th>\n",
       "      <th>Cabin_encoded</th>\n",
       "      <th>Embarked_encoded</th>\n",
       "      <th>Title_encoded</th>\n",
       "      <th>Age_Range_encoded</th>\n",
       "      <th>Fare_Range_encoded</th>\n",
       "    </tr>\n",
       "  </thead>\n",
       "  <tbody>\n",
       "    <tr>\n",
       "      <th>0</th>\n",
       "      <td>3</td>\n",
       "      <td>1</td>\n",
       "      <td>0</td>\n",
       "      <td>-0.445699</td>\n",
       "      <td>1</td>\n",
       "      <td>1</td>\n",
       "      <td>2</td>\n",
       "      <td>12</td>\n",
       "      <td>2</td>\n",
       "      <td>3</td>\n",
       "    </tr>\n",
       "    <tr>\n",
       "      <th>1</th>\n",
       "      <td>1</td>\n",
       "      <td>1</td>\n",
       "      <td>0</td>\n",
       "      <td>-0.410944</td>\n",
       "      <td>0</td>\n",
       "      <td>0</td>\n",
       "      <td>0</td>\n",
       "      <td>13</td>\n",
       "      <td>3</td>\n",
       "      <td>2</td>\n",
       "    </tr>\n",
       "    <tr>\n",
       "      <th>2</th>\n",
       "      <td>3</td>\n",
       "      <td>0</td>\n",
       "      <td>0</td>\n",
       "      <td>-0.445705</td>\n",
       "      <td>0</td>\n",
       "      <td>1</td>\n",
       "      <td>2</td>\n",
       "      <td>9</td>\n",
       "      <td>2</td>\n",
       "      <td>0</td>\n",
       "    </tr>\n",
       "    <tr>\n",
       "      <th>3</th>\n",
       "      <td>1</td>\n",
       "      <td>1</td>\n",
       "      <td>0</td>\n",
       "      <td>-0.220907</td>\n",
       "      <td>0</td>\n",
       "      <td>0</td>\n",
       "      <td>2</td>\n",
       "      <td>13</td>\n",
       "      <td>3</td>\n",
       "      <td>2</td>\n",
       "    </tr>\n",
       "    <tr>\n",
       "      <th>4</th>\n",
       "      <td>3</td>\n",
       "      <td>0</td>\n",
       "      <td>0</td>\n",
       "      <td>0.291990</td>\n",
       "      <td>1</td>\n",
       "      <td>1</td>\n",
       "      <td>2</td>\n",
       "      <td>12</td>\n",
       "      <td>3</td>\n",
       "      <td>0</td>\n",
       "    </tr>\n",
       "    <tr>\n",
       "      <th>...</th>\n",
       "      <td>...</td>\n",
       "      <td>...</td>\n",
       "      <td>...</td>\n",
       "      <td>...</td>\n",
       "      <td>...</td>\n",
       "      <td>...</td>\n",
       "      <td>...</td>\n",
       "      <td>...</td>\n",
       "      <td>...</td>\n",
       "      <td>...</td>\n",
       "    </tr>\n",
       "    <tr>\n",
       "      <th>886</th>\n",
       "      <td>2</td>\n",
       "      <td>0</td>\n",
       "      <td>0</td>\n",
       "      <td>-0.027849</td>\n",
       "      <td>1</td>\n",
       "      <td>1</td>\n",
       "      <td>2</td>\n",
       "      <td>15</td>\n",
       "      <td>2</td>\n",
       "      <td>0</td>\n",
       "    </tr>\n",
       "    <tr>\n",
       "      <th>887</th>\n",
       "      <td>1</td>\n",
       "      <td>0</td>\n",
       "      <td>0</td>\n",
       "      <td>-0.224364</td>\n",
       "      <td>0</td>\n",
       "      <td>0</td>\n",
       "      <td>2</td>\n",
       "      <td>9</td>\n",
       "      <td>1</td>\n",
       "      <td>1</td>\n",
       "    </tr>\n",
       "    <tr>\n",
       "      <th>888</th>\n",
       "      <td>3</td>\n",
       "      <td>1</td>\n",
       "      <td>2</td>\n",
       "      <td>-0.432658</td>\n",
       "      <td>0</td>\n",
       "      <td>1</td>\n",
       "      <td>2</td>\n",
       "      <td>9</td>\n",
       "      <td>2</td>\n",
       "      <td>1</td>\n",
       "    </tr>\n",
       "    <tr>\n",
       "      <th>889</th>\n",
       "      <td>1</td>\n",
       "      <td>0</td>\n",
       "      <td>0</td>\n",
       "      <td>-0.225715</td>\n",
       "      <td>1</td>\n",
       "      <td>0</td>\n",
       "      <td>0</td>\n",
       "      <td>12</td>\n",
       "      <td>2</td>\n",
       "      <td>1</td>\n",
       "    </tr>\n",
       "    <tr>\n",
       "      <th>890</th>\n",
       "      <td>3</td>\n",
       "      <td>0</td>\n",
       "      <td>0</td>\n",
       "      <td>0.285918</td>\n",
       "      <td>1</td>\n",
       "      <td>1</td>\n",
       "      <td>1</td>\n",
       "      <td>12</td>\n",
       "      <td>3</td>\n",
       "      <td>3</td>\n",
       "    </tr>\n",
       "  </tbody>\n",
       "</table>\n",
       "<p>891 rows × 10 columns</p>\n",
       "</div>"
      ],
      "text/plain": [
       "     Pclass  SibSp  Parch    Ticket  Sex_encoded  Cabin_encoded  \\\n",
       "0         3      1      0 -0.445699            1              1   \n",
       "1         1      1      0 -0.410944            0              0   \n",
       "2         3      0      0 -0.445705            0              1   \n",
       "3         1      1      0 -0.220907            0              0   \n",
       "4         3      0      0  0.291990            1              1   \n",
       "..      ...    ...    ...       ...          ...            ...   \n",
       "886       2      0      0 -0.027849            1              1   \n",
       "887       1      0      0 -0.224364            0              0   \n",
       "888       3      1      2 -0.432658            0              1   \n",
       "889       1      0      0 -0.225715            1              0   \n",
       "890       3      0      0  0.285918            1              1   \n",
       "\n",
       "     Embarked_encoded  Title_encoded  Age_Range_encoded  Fare_Range_encoded  \n",
       "0                   2             12                  2                   3  \n",
       "1                   0             13                  3                   2  \n",
       "2                   2              9                  2                   0  \n",
       "3                   2             13                  3                   2  \n",
       "4                   2             12                  3                   0  \n",
       "..                ...            ...                ...                 ...  \n",
       "886                 2             15                  2                   0  \n",
       "887                 2              9                  1                   1  \n",
       "888                 2              9                  2                   1  \n",
       "889                 0             12                  2                   1  \n",
       "890                 1             12                  3                   3  \n",
       "\n",
       "[891 rows x 10 columns]"
      ]
     },
     "execution_count": 64,
     "metadata": {},
     "output_type": "execute_result"
    }
   ],
   "source": [
    "X_train"
   ]
  },
  {
   "cell_type": "code",
   "execution_count": 65,
   "id": "0b4a38ef",
   "metadata": {
    "execution": {
     "iopub.execute_input": "2024-01-15T10:31:27.198095Z",
     "iopub.status.busy": "2024-01-15T10:31:27.197109Z",
     "iopub.status.idle": "2024-01-15T10:31:27.206725Z",
     "shell.execute_reply": "2024-01-15T10:31:27.205548Z"
    },
    "papermill": {
     "duration": 0.064895,
     "end_time": "2024-01-15T10:31:27.209474",
     "exception": false,
     "start_time": "2024-01-15T10:31:27.144579",
     "status": "completed"
    },
    "tags": []
   },
   "outputs": [
    {
     "data": {
      "text/plain": [
       "0      0\n",
       "1      1\n",
       "2      1\n",
       "3      1\n",
       "4      0\n",
       "      ..\n",
       "886    0\n",
       "887    1\n",
       "888    0\n",
       "889    1\n",
       "890    0\n",
       "Name: Survived, Length: 891, dtype: int32"
      ]
     },
     "execution_count": 65,
     "metadata": {},
     "output_type": "execute_result"
    }
   ],
   "source": [
    "y_train"
   ]
  },
  {
   "cell_type": "code",
   "execution_count": 66,
   "id": "a7153e34",
   "metadata": {
    "execution": {
     "iopub.execute_input": "2024-01-15T10:31:27.315078Z",
     "iopub.status.busy": "2024-01-15T10:31:27.314113Z",
     "iopub.status.idle": "2024-01-15T10:31:27.334551Z",
     "shell.execute_reply": "2024-01-15T10:31:27.333294Z"
    },
    "papermill": {
     "duration": 0.076647,
     "end_time": "2024-01-15T10:31:27.337566",
     "exception": false,
     "start_time": "2024-01-15T10:31:27.260919",
     "status": "completed"
    },
    "tags": []
   },
   "outputs": [
    {
     "data": {
      "text/html": [
       "<div>\n",
       "<style scoped>\n",
       "    .dataframe tbody tr th:only-of-type {\n",
       "        vertical-align: middle;\n",
       "    }\n",
       "\n",
       "    .dataframe tbody tr th {\n",
       "        vertical-align: top;\n",
       "    }\n",
       "\n",
       "    .dataframe thead th {\n",
       "        text-align: right;\n",
       "    }\n",
       "</style>\n",
       "<table border=\"1\" class=\"dataframe\">\n",
       "  <thead>\n",
       "    <tr style=\"text-align: right;\">\n",
       "      <th></th>\n",
       "      <th>Pclass</th>\n",
       "      <th>SibSp</th>\n",
       "      <th>Parch</th>\n",
       "      <th>Ticket</th>\n",
       "      <th>Sex_encoded</th>\n",
       "      <th>Cabin_encoded</th>\n",
       "      <th>Embarked_encoded</th>\n",
       "      <th>Title_encoded</th>\n",
       "      <th>Age_Range_encoded</th>\n",
       "      <th>Fare_Range_encoded</th>\n",
       "    </tr>\n",
       "  </thead>\n",
       "  <tbody>\n",
       "    <tr>\n",
       "      <th>0</th>\n",
       "      <td>3</td>\n",
       "      <td>0</td>\n",
       "      <td>0</td>\n",
       "      <td>0.207960</td>\n",
       "      <td>1</td>\n",
       "      <td>1</td>\n",
       "      <td>1</td>\n",
       "      <td>12</td>\n",
       "      <td>3</td>\n",
       "      <td>3</td>\n",
       "    </tr>\n",
       "    <tr>\n",
       "      <th>1</th>\n",
       "      <td>3</td>\n",
       "      <td>1</td>\n",
       "      <td>0</td>\n",
       "      <td>0.271885</td>\n",
       "      <td>0</td>\n",
       "      <td>1</td>\n",
       "      <td>2</td>\n",
       "      <td>13</td>\n",
       "      <td>4</td>\n",
       "      <td>3</td>\n",
       "    </tr>\n",
       "    <tr>\n",
       "      <th>2</th>\n",
       "      <td>2</td>\n",
       "      <td>0</td>\n",
       "      <td>0</td>\n",
       "      <td>0.028923</td>\n",
       "      <td>1</td>\n",
       "      <td>1</td>\n",
       "      <td>1</td>\n",
       "      <td>12</td>\n",
       "      <td>6</td>\n",
       "      <td>0</td>\n",
       "    </tr>\n",
       "    <tr>\n",
       "      <th>3</th>\n",
       "      <td>3</td>\n",
       "      <td>0</td>\n",
       "      <td>0</td>\n",
       "      <td>0.176834</td>\n",
       "      <td>1</td>\n",
       "      <td>1</td>\n",
       "      <td>2</td>\n",
       "      <td>12</td>\n",
       "      <td>2</td>\n",
       "      <td>0</td>\n",
       "    </tr>\n",
       "    <tr>\n",
       "      <th>4</th>\n",
       "      <td>3</td>\n",
       "      <td>1</td>\n",
       "      <td>1</td>\n",
       "      <td>5.680476</td>\n",
       "      <td>0</td>\n",
       "      <td>1</td>\n",
       "      <td>2</td>\n",
       "      <td>13</td>\n",
       "      <td>2</td>\n",
       "      <td>0</td>\n",
       "    </tr>\n",
       "    <tr>\n",
       "      <th>...</th>\n",
       "      <td>...</td>\n",
       "      <td>...</td>\n",
       "      <td>...</td>\n",
       "      <td>...</td>\n",
       "      <td>...</td>\n",
       "      <td>...</td>\n",
       "      <td>...</td>\n",
       "      <td>...</td>\n",
       "      <td>...</td>\n",
       "      <td>...</td>\n",
       "    </tr>\n",
       "    <tr>\n",
       "      <th>413</th>\n",
       "      <td>3</td>\n",
       "      <td>0</td>\n",
       "      <td>0</td>\n",
       "      <td>-0.445699</td>\n",
       "      <td>1</td>\n",
       "      <td>1</td>\n",
       "      <td>2</td>\n",
       "      <td>12</td>\n",
       "      <td>3</td>\n",
       "      <td>0</td>\n",
       "    </tr>\n",
       "    <tr>\n",
       "      <th>414</th>\n",
       "      <td>1</td>\n",
       "      <td>0</td>\n",
       "      <td>0</td>\n",
       "      <td>-0.410630</td>\n",
       "      <td>0</td>\n",
       "      <td>0</td>\n",
       "      <td>0</td>\n",
       "      <td>3</td>\n",
       "      <td>3</td>\n",
       "      <td>2</td>\n",
       "    </tr>\n",
       "    <tr>\n",
       "      <th>415</th>\n",
       "      <td>3</td>\n",
       "      <td>0</td>\n",
       "      <td>0</td>\n",
       "      <td>5.680405</td>\n",
       "      <td>1</td>\n",
       "      <td>1</td>\n",
       "      <td>2</td>\n",
       "      <td>12</td>\n",
       "      <td>3</td>\n",
       "      <td>3</td>\n",
       "    </tr>\n",
       "    <tr>\n",
       "      <th>416</th>\n",
       "      <td>3</td>\n",
       "      <td>0</td>\n",
       "      <td>0</td>\n",
       "      <td>0.264056</td>\n",
       "      <td>1</td>\n",
       "      <td>1</td>\n",
       "      <td>2</td>\n",
       "      <td>12</td>\n",
       "      <td>3</td>\n",
       "      <td>0</td>\n",
       "    </tr>\n",
       "    <tr>\n",
       "      <th>417</th>\n",
       "      <td>3</td>\n",
       "      <td>1</td>\n",
       "      <td>1</td>\n",
       "      <td>-0.440438</td>\n",
       "      <td>1</td>\n",
       "      <td>1</td>\n",
       "      <td>0</td>\n",
       "      <td>8</td>\n",
       "      <td>0</td>\n",
       "      <td>1</td>\n",
       "    </tr>\n",
       "  </tbody>\n",
       "</table>\n",
       "<p>418 rows × 10 columns</p>\n",
       "</div>"
      ],
      "text/plain": [
       "     Pclass  SibSp  Parch    Ticket  Sex_encoded  Cabin_encoded  \\\n",
       "0         3      0      0  0.207960            1              1   \n",
       "1         3      1      0  0.271885            0              1   \n",
       "2         2      0      0  0.028923            1              1   \n",
       "3         3      0      0  0.176834            1              1   \n",
       "4         3      1      1  5.680476            0              1   \n",
       "..      ...    ...    ...       ...          ...            ...   \n",
       "413       3      0      0 -0.445699            1              1   \n",
       "414       1      0      0 -0.410630            0              0   \n",
       "415       3      0      0  5.680405            1              1   \n",
       "416       3      0      0  0.264056            1              1   \n",
       "417       3      1      1 -0.440438            1              1   \n",
       "\n",
       "     Embarked_encoded  Title_encoded  Age_Range_encoded  Fare_Range_encoded  \n",
       "0                   1             12                  3                   3  \n",
       "1                   2             13                  4                   3  \n",
       "2                   1             12                  6                   0  \n",
       "3                   2             12                  2                   0  \n",
       "4                   2             13                  2                   0  \n",
       "..                ...            ...                ...                 ...  \n",
       "413                 2             12                  3                   0  \n",
       "414                 0              3                  3                   2  \n",
       "415                 2             12                  3                   3  \n",
       "416                 2             12                  3                   0  \n",
       "417                 0              8                  0                   1  \n",
       "\n",
       "[418 rows x 10 columns]"
      ]
     },
     "execution_count": 66,
     "metadata": {},
     "output_type": "execute_result"
    }
   ],
   "source": [
    "X_test"
   ]
  },
  {
   "cell_type": "code",
   "execution_count": 67,
   "id": "716c37f5",
   "metadata": {
    "execution": {
     "iopub.execute_input": "2024-01-15T10:31:27.444762Z",
     "iopub.status.busy": "2024-01-15T10:31:27.443866Z",
     "iopub.status.idle": "2024-01-15T10:31:27.452525Z",
     "shell.execute_reply": "2024-01-15T10:31:27.451606Z"
    },
    "papermill": {
     "duration": 0.066196,
     "end_time": "2024-01-15T10:31:27.455096",
     "exception": false,
     "start_time": "2024-01-15T10:31:27.388900",
     "status": "completed"
    },
    "tags": []
   },
   "outputs": [
    {
     "data": {
      "text/plain": [
       "0      0\n",
       "1      1\n",
       "2      0\n",
       "3      0\n",
       "4      1\n",
       "      ..\n",
       "413    0\n",
       "414    1\n",
       "415    0\n",
       "416    0\n",
       "417    0\n",
       "Name: Survived, Length: 418, dtype: int64"
      ]
     },
     "execution_count": 67,
     "metadata": {},
     "output_type": "execute_result"
    }
   ],
   "source": [
    "y_test"
   ]
  },
  {
   "cell_type": "code",
   "execution_count": 68,
   "id": "8c2d6152",
   "metadata": {
    "execution": {
     "iopub.execute_input": "2024-01-15T10:31:27.562590Z",
     "iopub.status.busy": "2024-01-15T10:31:27.561493Z",
     "iopub.status.idle": "2024-01-15T10:31:27.570195Z",
     "shell.execute_reply": "2024-01-15T10:31:27.569229Z"
    },
    "papermill": {
     "duration": 0.0643,
     "end_time": "2024-01-15T10:31:27.572621",
     "exception": false,
     "start_time": "2024-01-15T10:31:27.508321",
     "status": "completed"
    },
    "tags": []
   },
   "outputs": [
    {
     "data": {
      "text/plain": [
       "0       892\n",
       "1       893\n",
       "2       894\n",
       "3       895\n",
       "4       896\n",
       "       ... \n",
       "413    1305\n",
       "414    1306\n",
       "415    1307\n",
       "416    1308\n",
       "417    1309\n",
       "Name: PassengerId, Length: 418, dtype: int64"
      ]
     },
     "execution_count": 68,
     "metadata": {},
     "output_type": "execute_result"
    }
   ],
   "source": [
    "survived"
   ]
  },
  {
   "cell_type": "code",
   "execution_count": 69,
   "id": "086b3a67",
   "metadata": {
    "execution": {
     "iopub.execute_input": "2024-01-15T10:31:27.677991Z",
     "iopub.status.busy": "2024-01-15T10:31:27.677157Z",
     "iopub.status.idle": "2024-01-15T10:31:27.686667Z",
     "shell.execute_reply": "2024-01-15T10:31:27.685828Z"
    },
    "papermill": {
     "duration": 0.064906,
     "end_time": "2024-01-15T10:31:27.689139",
     "exception": false,
     "start_time": "2024-01-15T10:31:27.624233",
     "status": "completed"
    },
    "tags": []
   },
   "outputs": [
    {
     "data": {
      "text/plain": [
       "Pclass                0\n",
       "SibSp                 0\n",
       "Parch                 0\n",
       "Ticket                0\n",
       "Sex_encoded           0\n",
       "Cabin_encoded         0\n",
       "Embarked_encoded      0\n",
       "Title_encoded         0\n",
       "Age_Range_encoded     0\n",
       "Fare_Range_encoded    0\n",
       "dtype: int64"
      ]
     },
     "execution_count": 69,
     "metadata": {},
     "output_type": "execute_result"
    }
   ],
   "source": [
    "X_test.isnull().sum()"
   ]
  },
  {
   "cell_type": "code",
   "execution_count": 70,
   "id": "bcbf9c88",
   "metadata": {
    "execution": {
     "iopub.execute_input": "2024-01-15T10:31:27.795234Z",
     "iopub.status.busy": "2024-01-15T10:31:27.794378Z",
     "iopub.status.idle": "2024-01-15T10:31:27.832428Z",
     "shell.execute_reply": "2024-01-15T10:31:27.831126Z"
    },
    "papermill": {
     "duration": 0.094458,
     "end_time": "2024-01-15T10:31:27.835321",
     "exception": false,
     "start_time": "2024-01-15T10:31:27.740863",
     "status": "completed"
    },
    "tags": []
   },
   "outputs": [
    {
     "name": "stdout",
     "output_type": "stream",
     "text": [
      "0.9234449760765551\n"
     ]
    }
   ],
   "source": [
    "# Train the logistic_Regression Model\n",
    "lr = LogisticRegression()\n",
    "lr.fit(X_train, y_train)\n",
    "y_pred_lr = lr.predict(X_test)\n",
    "accuracy = accuracy_score(y_test, y_pred_lr)\n",
    "print(accuracy)"
   ]
  },
  {
   "cell_type": "code",
   "execution_count": 72,
   "id": "6b285b69",
   "metadata": {
    "execution": {
     "iopub.execute_input": "2024-01-15T10:31:27.942176Z",
     "iopub.status.busy": "2024-01-15T10:31:27.941653Z",
     "iopub.status.idle": "2024-01-15T10:31:27.960603Z",
     "shell.execute_reply": "2024-01-15T10:31:27.959323Z"
    },
    "papermill": {
     "duration": 0.075482,
     "end_time": "2024-01-15T10:31:27.963290",
     "exception": false,
     "start_time": "2024-01-15T10:31:27.887808",
     "status": "completed"
    },
    "tags": []
   },
   "outputs": [
    {
     "name": "stdout",
     "output_type": "stream",
     "text": [
      "0.7966507177033493\n"
     ]
    }
   ],
   "source": [
    "# Train the decision tree\n",
    "dt = DecisionTreeClassifier()\n",
    "dt.fit(X_train, y_train)\n",
    "y_pred_dt = dt.predict(X_test)\n",
    "accuracy = accuracy_score(y_test, y_pred_dt)\n",
    "print(accuracy)"
   ]
  },
  {
   "cell_type": "code",
   "execution_count": 73,
   "id": "3bdaa1d9",
   "metadata": {
    "execution": {
     "iopub.execute_input": "2024-01-15T10:31:28.071340Z",
     "iopub.status.busy": "2024-01-15T10:31:28.070841Z",
     "iopub.status.idle": "2024-01-15T10:31:28.112300Z",
     "shell.execute_reply": "2024-01-15T10:31:28.110846Z"
    },
    "papermill": {
     "duration": 0.099868,
     "end_time": "2024-01-15T10:31:28.115395",
     "exception": false,
     "start_time": "2024-01-15T10:31:28.015527",
     "status": "completed"
    },
    "tags": []
   },
   "outputs": [
    {
     "name": "stdout",
     "output_type": "stream",
     "text": [
      "1.0\n"
     ]
    }
   ],
   "source": [
    "# Using SVC\n",
    "svm = SVC(kernel='linear', C=1.0, random_state=42)\n",
    "svm.fit(X_train, y_train)\n",
    "y_pred_svc = svm.predict(X_test)\n",
    "accuracy = accuracy_score(y_test, y_pred_svc)\n",
    "print(accuracy)"
   ]
  },
  {
   "cell_type": "code",
   "execution_count": 75,
   "id": "12f35afc",
   "metadata": {
    "execution": {
     "iopub.execute_input": "2024-01-15T10:31:28.223140Z",
     "iopub.status.busy": "2024-01-15T10:31:28.222600Z",
     "iopub.status.idle": "2024-01-15T10:31:28.660213Z",
     "shell.execute_reply": "2024-01-15T10:31:28.658398Z"
    },
    "papermill": {
     "duration": 0.494314,
     "end_time": "2024-01-15T10:31:28.662424",
     "exception": true,
     "start_time": "2024-01-15T10:31:28.168110",
     "status": "failed"
    },
    "tags": []
   },
   "outputs": [
    {
     "name": "stdout",
     "output_type": "stream",
     "text": [
      "0.8277511961722488\n"
     ]
    }
   ],
   "source": [
    "# Using XB Boust Classifier\n",
    "xgb_classifier = xgb.XGBClassifier(objective=\"multi:softmax\", num_class=len(set(y_test)), random_state=42)\n",
    "xgb_classifier.fit(X_train, y_train)\n",
    "y_pred_xg = xgb_classifier.predict(X_test)\n",
    "accuracy = accuracy_score(y_test, y_pred_xg)\n",
    "print(accuracy)"
   ]
  },
  {
   "cell_type": "markdown",
   "id": "323380c1",
   "metadata": {
    "papermill": {
     "duration": null,
     "end_time": null,
     "exception": null,
     "start_time": null,
     "status": "pending"
    },
    "tags": []
   },
   "source": [
    "**Final Observation**\n",
    "* Logistic Regression accuracy on the test data: 92.34%\n",
    "* Decision Tree Classifier accuracy on the test data: 79.42%%\n",
    "* Support Vector Classifier accuracy on the test data: 100% --> In SVC there is a possibility of Overfitting.\n",
    "* XG Boust accuracy on the test data: 81.34%"
   ]
  },
  {
   "cell_type": "markdown",
   "id": "557966dc",
   "metadata": {
    "papermill": {
     "duration": null,
     "end_time": null,
     "exception": null,
     "start_time": null,
     "status": "pending"
    },
    "tags": []
   },
   "source": [
    "# Submission File\n",
    "* For the Submission I am using Logistic Regression Model"
   ]
  },
  {
   "cell_type": "code",
   "execution_count": 84,
   "id": "a100e50c",
   "metadata": {
    "execution": {
     "iopub.execute_input": "2024-01-15T10:28:11.868622Z",
     "iopub.status.busy": "2024-01-15T10:28:11.867508Z",
     "iopub.status.idle": "2024-01-15T10:28:11.875470Z",
     "shell.execute_reply": "2024-01-15T10:28:11.874227Z",
     "shell.execute_reply.started": "2024-01-15T10:28:11.868572Z"
    },
    "papermill": {
     "duration": null,
     "end_time": null,
     "exception": null,
     "start_time": null,
     "status": "pending"
    },
    "tags": []
   },
   "outputs": [],
   "source": [
    "df_lr = pd.DataFrame({\"PassengerId\":survived, \"Survived\":y_pred_lr})\n",
    "df_lr.to_csv(\"Submission_lr.csv\", index=False)"
   ]
  },
  {
   "cell_type": "code",
   "execution_count": 80,
   "id": "1bb8d8df",
   "metadata": {
    "papermill": {
     "duration": null,
     "end_time": null,
     "exception": null,
     "start_time": null,
     "status": "pending"
    },
    "tags": []
   },
   "outputs": [],
   "source": [
    "df_dt = pd.DataFrame({\"PassengerId\":survived, \"Survived\":y_pred_dt})\n",
    "df_dt.to_csv(\"Submission_dt.csv\", index=False)"
   ]
  },
  {
   "cell_type": "code",
   "execution_count": 81,
   "id": "173d7bff",
   "metadata": {},
   "outputs": [],
   "source": [
    "df_svc = pd.DataFrame({\"PassengerId\":survived, \"Survived\":y_pred_svc})\n",
    "df_svc.to_csv(\"Submission_svc.csv\", index=False)"
   ]
  },
  {
   "cell_type": "code",
   "execution_count": 83,
   "id": "c902568a",
   "metadata": {},
   "outputs": [],
   "source": [
    "df_xgb = pd.DataFrame({\"PassengerId\":survived, \"Survived\":y_pred_xg})\n",
    "df_xgb.to_csv(\"Submission_xgb.csv\", index=False)"
   ]
  },
  {
   "cell_type": "code",
   "execution_count": null,
   "id": "75fc1189",
   "metadata": {},
   "outputs": [],
   "source": []
  }
 ],
 "metadata": {
  "kaggle": {
   "accelerator": "none",
   "dataSources": [
    {
     "databundleVersionId": 26502,
     "sourceId": 3136,
     "sourceType": "competition"
    }
   ],
   "dockerImageVersionId": 30527,
   "isGpuEnabled": false,
   "isInternetEnabled": true,
   "language": "python",
   "sourceType": "notebook"
  },
  "kernelspec": {
   "display_name": "Python 3 (ipykernel)",
   "language": "python",
   "name": "python3"
  },
  "language_info": {
   "codemirror_mode": {
    "name": "ipython",
    "version": 3
   },
   "file_extension": ".py",
   "mimetype": "text/x-python",
   "name": "python",
   "nbconvert_exporter": "python",
   "pygments_lexer": "ipython3",
   "version": "3.10.9"
  },
  "papermill": {
   "default_parameters": {},
   "duration": 35.235241,
   "end_time": "2024-01-15T10:31:30.344664",
   "environment_variables": {},
   "exception": true,
   "input_path": "__notebook__.ipynb",
   "output_path": "__notebook__.ipynb",
   "parameters": {},
   "start_time": "2024-01-15T10:30:55.109423",
   "version": "2.4.0"
  }
 },
 "nbformat": 4,
 "nbformat_minor": 5
}
